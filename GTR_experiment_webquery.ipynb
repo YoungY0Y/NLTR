{
  "nbformat": 4,
  "nbformat_minor": 0,
  "metadata": {
    "colab": {
      "name": "Untitled21.ipynb",
      "provenance": [],
      "collapsed_sections": [],
      "machine_shape": "hm"
    },
    "kernelspec": {
      "name": "python3",
      "display_name": "Python 3"
    },
    "language_info": {
      "name": "python"
    },
    "accelerator": "GPU"
  },
  "cells": [
    {
      "cell_type": "code",
      "metadata": {
        "colab": {
          "base_uri": "https://localhost:8080/"
        },
        "id": "zYbRMmhloul-",
        "outputId": "3068ca25-bd8d-48e2-cedf-5d44c442e756"
      },
      "source": [
        "!git clone https://github.com/FeiWang96/GTR.git"
      ],
      "execution_count": null,
      "outputs": [
        {
          "output_type": "stream",
          "name": "stdout",
          "text": [
            "Cloning into 'GTR'...\n",
            "remote: Enumerating objects: 50, done.\u001b[K\n",
            "remote: Counting objects: 100% (50/50), done.\u001b[K\n",
            "remote: Compressing objects: 100% (43/43), done.\u001b[K\n",
            "remote: Total 50 (delta 7), reused 38 (delta 3), pack-reused 0\u001b[K\n",
            "Unpacking objects: 100% (50/50), done.\n"
          ]
        }
      ]
    },
    {
      "cell_type": "code",
      "metadata": {
        "colab": {
          "base_uri": "https://localhost:8080/"
        },
        "id": "CQgnrjvrwObt",
        "outputId": "e0633c35-53c1-4d60-b133-c5962c48897b"
      },
      "source": [
        "! wget https://repo.anaconda.com/miniconda/Miniconda3-py37_4.8.2-Linux-x86_64.sh\n",
        "! chmod +x Miniconda3-py37_4.8.2-Linux-x86_64.sh\n",
        "! bash ./Miniconda3-py37_4.8.2-Linux-x86_64.sh -b -f -p /usr/local\n",
        "import sys\n",
        "sys.path.append('/usr/local/lib/python3.7/site-packages/')"
      ],
      "execution_count": null,
      "outputs": [
        {
          "output_type": "stream",
          "name": "stdout",
          "text": [
            "--2021-11-07 04:56:07--  https://repo.anaconda.com/miniconda/Miniconda3-py37_4.8.2-Linux-x86_64.sh\n",
            "Resolving repo.anaconda.com (repo.anaconda.com)... 104.16.131.3, 104.16.130.3, 2606:4700::6810:8203, ...\n",
            "Connecting to repo.anaconda.com (repo.anaconda.com)|104.16.131.3|:443... connected.\n",
            "HTTP request sent, awaiting response... 200 OK\n",
            "Length: 85055499 (81M) [application/x-sh]\n",
            "Saving to: ‘Miniconda3-py37_4.8.2-Linux-x86_64.sh’\n",
            "\n",
            "Miniconda3-py37_4.8 100%[===================>]  81.12M   211MB/s    in 0.4s    \n",
            "\n",
            "2021-11-07 04:56:07 (211 MB/s) - ‘Miniconda3-py37_4.8.2-Linux-x86_64.sh’ saved [85055499/85055499]\n",
            "\n",
            "PREFIX=/usr/local\n",
            "Unpacking payload ...\n",
            "Collecting package metadata (current_repodata.json): - \b\b\\ \b\b| \b\bdone\n",
            "Solving environment: - \b\b\\ \b\bdone\n",
            "\n",
            "## Package Plan ##\n",
            "\n",
            "  environment location: /usr/local\n",
            "\n",
            "  added / updated specs:\n",
            "    - _libgcc_mutex==0.1=main\n",
            "    - asn1crypto==1.3.0=py37_0\n",
            "    - ca-certificates==2020.1.1=0\n",
            "    - certifi==2019.11.28=py37_0\n",
            "    - cffi==1.14.0=py37h2e261b9_0\n",
            "    - chardet==3.0.4=py37_1003\n",
            "    - conda-package-handling==1.6.0=py37h7b6447c_0\n",
            "    - conda==4.8.2=py37_0\n",
            "    - cryptography==2.8=py37h1ba5d50_0\n",
            "    - idna==2.8=py37_0\n",
            "    - ld_impl_linux-64==2.33.1=h53a641e_7\n",
            "    - libedit==3.1.20181209=hc058e9b_0\n",
            "    - libffi==3.2.1=hd88cf55_4\n",
            "    - libgcc-ng==9.1.0=hdf63c60_0\n",
            "    - libstdcxx-ng==9.1.0=hdf63c60_0\n",
            "    - ncurses==6.2=he6710b0_0\n",
            "    - openssl==1.1.1d=h7b6447c_4\n",
            "    - pip==20.0.2=py37_1\n",
            "    - pycosat==0.6.3=py37h7b6447c_0\n",
            "    - pycparser==2.19=py37_0\n",
            "    - pyopenssl==19.1.0=py37_0\n",
            "    - pysocks==1.7.1=py37_0\n",
            "    - python==3.7.6=h0371630_2\n",
            "    - readline==7.0=h7b6447c_5\n",
            "    - requests==2.22.0=py37_1\n",
            "    - ruamel_yaml==0.15.87=py37h7b6447c_0\n",
            "    - setuptools==45.2.0=py37_0\n",
            "    - six==1.14.0=py37_0\n",
            "    - sqlite==3.31.1=h7b6447c_0\n",
            "    - tk==8.6.8=hbc83047_0\n",
            "    - tqdm==4.42.1=py_0\n",
            "    - urllib3==1.25.8=py37_0\n",
            "    - wheel==0.34.2=py37_0\n",
            "    - xz==5.2.4=h14c3975_4\n",
            "    - yaml==0.1.7=had09818_2\n",
            "    - zlib==1.2.11=h7b6447c_3\n",
            "\n",
            "\n",
            "The following NEW packages will be INSTALLED:\n",
            "\n",
            "  _libgcc_mutex      pkgs/main/linux-64::_libgcc_mutex-0.1-main\n",
            "  asn1crypto         pkgs/main/linux-64::asn1crypto-1.3.0-py37_0\n",
            "  ca-certificates    pkgs/main/linux-64::ca-certificates-2020.1.1-0\n",
            "  certifi            pkgs/main/linux-64::certifi-2019.11.28-py37_0\n",
            "  cffi               pkgs/main/linux-64::cffi-1.14.0-py37h2e261b9_0\n",
            "  chardet            pkgs/main/linux-64::chardet-3.0.4-py37_1003\n",
            "  conda              pkgs/main/linux-64::conda-4.8.2-py37_0\n",
            "  conda-package-han~ pkgs/main/linux-64::conda-package-handling-1.6.0-py37h7b6447c_0\n",
            "  cryptography       pkgs/main/linux-64::cryptography-2.8-py37h1ba5d50_0\n",
            "  idna               pkgs/main/linux-64::idna-2.8-py37_0\n",
            "  ld_impl_linux-64   pkgs/main/linux-64::ld_impl_linux-64-2.33.1-h53a641e_7\n",
            "  libedit            pkgs/main/linux-64::libedit-3.1.20181209-hc058e9b_0\n",
            "  libffi             pkgs/main/linux-64::libffi-3.2.1-hd88cf55_4\n",
            "  libgcc-ng          pkgs/main/linux-64::libgcc-ng-9.1.0-hdf63c60_0\n",
            "  libstdcxx-ng       pkgs/main/linux-64::libstdcxx-ng-9.1.0-hdf63c60_0\n",
            "  ncurses            pkgs/main/linux-64::ncurses-6.2-he6710b0_0\n",
            "  openssl            pkgs/main/linux-64::openssl-1.1.1d-h7b6447c_4\n",
            "  pip                pkgs/main/linux-64::pip-20.0.2-py37_1\n",
            "  pycosat            pkgs/main/linux-64::pycosat-0.6.3-py37h7b6447c_0\n",
            "  pycparser          pkgs/main/linux-64::pycparser-2.19-py37_0\n",
            "  pyopenssl          pkgs/main/linux-64::pyopenssl-19.1.0-py37_0\n",
            "  pysocks            pkgs/main/linux-64::pysocks-1.7.1-py37_0\n",
            "  python             pkgs/main/linux-64::python-3.7.6-h0371630_2\n",
            "  readline           pkgs/main/linux-64::readline-7.0-h7b6447c_5\n",
            "  requests           pkgs/main/linux-64::requests-2.22.0-py37_1\n",
            "  ruamel_yaml        pkgs/main/linux-64::ruamel_yaml-0.15.87-py37h7b6447c_0\n",
            "  setuptools         pkgs/main/linux-64::setuptools-45.2.0-py37_0\n",
            "  six                pkgs/main/linux-64::six-1.14.0-py37_0\n",
            "  sqlite             pkgs/main/linux-64::sqlite-3.31.1-h7b6447c_0\n",
            "  tk                 pkgs/main/linux-64::tk-8.6.8-hbc83047_0\n",
            "  tqdm               pkgs/main/noarch::tqdm-4.42.1-py_0\n",
            "  urllib3            pkgs/main/linux-64::urllib3-1.25.8-py37_0\n",
            "  wheel              pkgs/main/linux-64::wheel-0.34.2-py37_0\n",
            "  xz                 pkgs/main/linux-64::xz-5.2.4-h14c3975_4\n",
            "  yaml               pkgs/main/linux-64::yaml-0.1.7-had09818_2\n",
            "  zlib               pkgs/main/linux-64::zlib-1.2.11-h7b6447c_3\n",
            "\n",
            "\n",
            "Preparing transaction: / \b\b- \b\b\\ \b\b| \b\bdone\n",
            "Executing transaction: - \b\b\\ \b\b| \b\b/ \b\b- \b\b\\ \b\b| \b\b/ \b\b- \b\b\\ \b\b| \b\b/ \b\b- \b\b\\ \b\b| \b\b/ \b\bdone\n",
            "installation finished.\n",
            "WARNING:\n",
            "    You currently have a PYTHONPATH environment variable set. This may cause\n",
            "    unexpected behavior when running the Python interpreter in Miniconda3.\n",
            "    For best results, please verify that your PYTHONPATH only points to\n",
            "    directories of packages that are compatible with the Python interpreter\n",
            "    in Miniconda3: /usr/local\n"
          ]
        }
      ]
    },
    {
      "cell_type": "code",
      "metadata": {
        "colab": {
          "base_uri": "https://localhost:8080/"
        },
        "id": "y3wXd5SVwU8X",
        "outputId": "c44bad4b-d9fb-4754-abbc-7d3301538601"
      },
      "source": [
        "!conda install -c dglteam dgl-cuda10.2  # pay attention to the cuda version"
      ],
      "execution_count": null,
      "outputs": [
        {
          "output_type": "stream",
          "name": "stdout",
          "text": [
            "Collecting package metadata (current_repodata.json): - \b\b\\ \b\b| \b\b/ \b\b- \b\b\\ \b\b| \b\b/ \b\b- \b\b\\ \b\b| \b\b/ \b\b- \b\b\\ \b\b| \b\b/ \b\b- \b\b\\ \b\b| \b\b/ \b\b- \b\bdone\n",
            "Solving environment: | \b\b/ \b\b- \b\b\\ \b\b| \b\b/ \b\bdone\n",
            "\n",
            "## Package Plan ##\n",
            "\n",
            "  environment location: /usr/local\n",
            "\n",
            "  added / updated specs:\n",
            "    - dgl-cuda10.2\n",
            "\n",
            "\n",
            "The following packages will be downloaded:\n",
            "\n",
            "    package                    |            build\n",
            "    ---------------------------|-----------------\n",
            "    blas-1.0                   |              mkl           6 KB\n",
            "    ca-certificates-2021.10.26 |       h06a4308_2         115 KB\n",
            "    certifi-2021.10.8          |   py37h06a4308_0         151 KB\n",
            "    conda-4.10.3               |   py37h06a4308_0         2.9 MB\n",
            "    dgl-cuda10.2-0.7.1         |           py37_0        90.4 MB  dglteam\n",
            "    intel-openmp-2021.4.0      |    h06a4308_3561         4.2 MB\n",
            "    libgfortran-ng-7.5.0       |      ha8ba4b0_17          22 KB\n",
            "    libgfortran4-7.5.0         |      ha8ba4b0_17         995 KB\n",
            "    mkl-2021.4.0               |     h06a4308_640       142.6 MB\n",
            "    mkl-service-2.4.0          |   py37h7f8727e_0          56 KB\n",
            "    mkl_fft-1.3.1              |   py37hd3c417c_0         172 KB\n",
            "    mkl_random-1.2.2           |   py37h51133e4_0         287 KB\n",
            "    networkx-2.6.3             |     pyhd3eb1b0_0         1.3 MB\n",
            "    numpy-1.21.2               |   py37h20f2e39_0          23 KB\n",
            "    numpy-base-1.21.2          |   py37h79a1101_0         4.8 MB\n",
            "    openssl-1.1.1l             |       h7f8727e_0         2.5 MB\n",
            "    scipy-1.7.1                |   py37h292c36d_2        16.4 MB\n",
            "    ------------------------------------------------------------\n",
            "                                           Total:       266.8 MB\n",
            "\n",
            "The following NEW packages will be INSTALLED:\n",
            "\n",
            "  blas               pkgs/main/linux-64::blas-1.0-mkl\n",
            "  dgl-cuda10.2       dglteam/linux-64::dgl-cuda10.2-0.7.1-py37_0\n",
            "  intel-openmp       pkgs/main/linux-64::intel-openmp-2021.4.0-h06a4308_3561\n",
            "  libgfortran-ng     pkgs/main/linux-64::libgfortran-ng-7.5.0-ha8ba4b0_17\n",
            "  libgfortran4       pkgs/main/linux-64::libgfortran4-7.5.0-ha8ba4b0_17\n",
            "  mkl                pkgs/main/linux-64::mkl-2021.4.0-h06a4308_640\n",
            "  mkl-service        pkgs/main/linux-64::mkl-service-2.4.0-py37h7f8727e_0\n",
            "  mkl_fft            pkgs/main/linux-64::mkl_fft-1.3.1-py37hd3c417c_0\n",
            "  mkl_random         pkgs/main/linux-64::mkl_random-1.2.2-py37h51133e4_0\n",
            "  networkx           pkgs/main/noarch::networkx-2.6.3-pyhd3eb1b0_0\n",
            "  numpy              pkgs/main/linux-64::numpy-1.21.2-py37h20f2e39_0\n",
            "  numpy-base         pkgs/main/linux-64::numpy-base-1.21.2-py37h79a1101_0\n",
            "  scipy              pkgs/main/linux-64::scipy-1.7.1-py37h292c36d_2\n",
            "\n",
            "The following packages will be UPDATED:\n",
            "\n",
            "  ca-certificates                                2020.1.1-0 --> 2021.10.26-h06a4308_2\n",
            "  certifi                                 2019.11.28-py37_0 --> 2021.10.8-py37h06a4308_0\n",
            "  conda                                        4.8.2-py37_0 --> 4.10.3-py37h06a4308_0\n",
            "  openssl                                 1.1.1d-h7b6447c_4 --> 1.1.1l-h7f8727e_0\n",
            "\n",
            "\n",
            "Proceed ([y]/n)? y\n",
            "\n",
            "\n",
            "Downloading and Extracting Packages\n",
            "ca-certificates-2021 | 115 KB    | : 100% 1.0/1 [00:00<00:00, 10.40it/s]\n",
            "numpy-base-1.21.2    | 4.8 MB    | : 100% 1.0/1 [00:00<00:00,  3.12it/s]\n",
            "mkl_fft-1.3.1        | 172 KB    | : 100% 1.0/1 [00:00<00:00, 17.00it/s]\n",
            "mkl_random-1.2.2     | 287 KB    | : 100% 1.0/1 [00:00<00:00, 16.23it/s]\n",
            "networkx-2.6.3       | 1.3 MB    | : 100% 1.0/1 [00:00<00:00,  7.69it/s]\n",
            "numpy-1.21.2         | 23 KB     | : 100% 1.0/1 [00:00<00:00, 22.14it/s]\n",
            "dgl-cuda10.2-0.7.1   | 90.4 MB   | :   0% 0/1 [00:00<?, ?it/s]\n",
            "\n",
            "y\n",
            "dgl-cuda10.2-0.7.1   | 90.4 MB   | : 100% 1.0/1 [00:22<00:00, 22.06s/it]\n",
            "openssl-1.1.1l       | 2.5 MB    | : 100% 1.0/1 [00:00<00:00,  7.94it/s]\n",
            "certifi-2021.10.8    | 151 KB    | : 100% 1.0/1 [00:00<00:00, 18.36it/s]\n",
            "libgfortran-ng-7.5.0 | 22 KB     | : 100% 1.0/1 [00:00<00:00, 23.15it/s]\n",
            "mkl-service-2.4.0    | 56 KB     | : 100% 1.0/1 [00:00<00:00, 21.26it/s]\n",
            "blas-1.0             | 6 KB      | : 100% 1.0/1 [00:00<00:00, 23.68it/s]\n",
            "mkl-2021.4.0         | 142.6 MB  | : 100% 1.0/1 [00:05<00:00,  5.32s/it]               \n",
            "scipy-1.7.1          | 16.4 MB   | : 100% 1.0/1 [00:00<00:00,  1.27it/s]               \n",
            "intel-openmp-2021.4. | 4.2 MB    | : 100% 1.0/1 [00:00<00:00,  4.99it/s]\n",
            "conda-4.10.3         | 2.9 MB    | : 100% 1.0/1 [00:00<00:00,  4.87it/s]\n",
            "libgfortran4-7.5.0   | 995 KB    | : 100% 1.0/1 [00:00<00:00, 10.67it/s]\n",
            "Preparing transaction: \\ \b\b| \b\b/ \b\bdone\n",
            "Verifying transaction: \\ \b\b| \b\b/ \b\b- \b\b\\ \b\b| \b\b/ \b\bdone\n",
            "Executing transaction: \\ \b\b| \b\b/ \b\b- \b\b\\ \b\b| \b\b/ \b\b- \b\b\\ \b\b| \b\b/ \b\b- \b\b\\ \b\b| \b\b/ \b\b- \b\b\\ \b\b| \b\b/ \b\b- \b\b\\ \b\b| \b\b/ \b\b- \b\b\\ \b\b| \b\b/ \b\b- \b\b\\ \b\b| \b\b/ \b\b- \b\b\\ \b\b| \b\b/ \b\b- \b\b\\ \b\b| \b\b/ \b\b- \b\b\\ \b\b| \b\b/ \b\b- \b\b\\ \b\b| \b\b/ \b\b- \b\b\\ \b\b| \b\b/ \b\b- \b\b\\ \b\b| \b\b/ \b\b- \b\b\\ \b\b| \b\b/ \b\b- \b\b\\ \b\b| \b\b/ \b\b- \b\b\\ \b\b| \b\b/ \b\b- \b\b\\ \b\b| \b\b/ \b\b- \b\b\\ \b\b| \b\b/ \b\b- \b\b\\ \b\b| \b\b/ \b\b- \b\b\\ \b\b| \b\b/ \b\bdone\n"
          ]
        }
      ]
    },
    {
      "cell_type": "code",
      "metadata": {
        "colab": {
          "base_uri": "https://localhost:8080/"
        },
        "id": "dgGPD0aYx4cm",
        "outputId": "597e4f43-c977-452d-dd34-6cd6d8de763e"
      },
      "source": [
        "!cd fastText && pip install ."
      ],
      "execution_count": null,
      "outputs": [
        {
          "output_type": "stream",
          "name": "stdout",
          "text": [
            "Processing /content/GTR/fastText\n",
            "Requirement already satisfied: pybind11>=2.2 in /usr/local/lib/python3.7/site-packages (from fasttext==0.9.2) (2.8.1)\n",
            "Requirement already satisfied: setuptools>=0.7.0 in /usr/local/lib/python3.7/site-packages (from fasttext==0.9.2) (45.2.0.post20200210)\n",
            "Requirement already satisfied: numpy in /usr/local/lib/python3.7/site-packages (from fasttext==0.9.2) (1.19.5)\n",
            "Building wheels for collected packages: fasttext\n",
            "  Building wheel for fasttext (setup.py) ... \u001b[?25l\u001b[?25hdone\n",
            "  Created wheel for fasttext: filename=fasttext-0.9.2-cp37-cp37m-linux_x86_64.whl size=3281725 sha256=6195d35eb602a5ff804e6c8fdbe1803a9d70555e7063acc79bb8582ad0dd3f9f\n",
            "  Stored in directory: /tmp/pip-ephem-wheel-cache-zp_lc0o4/wheels/a4/1e/d5/21d7e6438d50e7bd4c01dc0c9755cffdc57e08e5bf5c39e731\n",
            "Successfully built fasttext\n",
            "Installing collected packages: fasttext\n",
            "Successfully installed fasttext-0.9.2\n"
          ]
        }
      ]
    },
    {
      "cell_type": "code",
      "metadata": {
        "colab": {
          "base_uri": "https://localhost:8080/"
        },
        "id": "Im20w3ayo7Pq",
        "outputId": "e5548f55-6557-439a-fae7-538fec0393a3"
      },
      "source": [
        "!git clone https://github.com/facebookresearch/fastText.git\n",
        "%cd fastText\n",
        "!pip install .\n"
      ],
      "execution_count": null,
      "outputs": [
        {
          "output_type": "stream",
          "name": "stdout",
          "text": [
            "fatal: destination path 'fastText' already exists and is not an empty directory.\n",
            "/content/fastText\n",
            "Processing /content/fastText\n",
            "\u001b[33m  DEPRECATION: A future pip version will change local packages to be built in-place without first copying to a temporary directory. We recommend you use --use-feature=in-tree-build to test your packages with this new behavior before it becomes the default.\n",
            "   pip 21.3 will remove support for this functionality. You can find discussion regarding this at https://github.com/pypa/pip/issues/7555.\u001b[0m\n",
            "Collecting pybind11>=2.2\n",
            "  Using cached pybind11-2.8.1-py2.py3-none-any.whl (208 kB)\n",
            "Requirement already satisfied: setuptools>=0.7.0 in /usr/local/lib/python3.7/dist-packages (from fasttext==0.9.2) (57.4.0)\n",
            "Requirement already satisfied: numpy in /usr/local/lib/python3.7/dist-packages (from fasttext==0.9.2) (1.19.5)\n",
            "Building wheels for collected packages: fasttext\n",
            "  Building wheel for fasttext (setup.py) ... \u001b[?25l\u001b[?25hdone\n",
            "  Created wheel for fasttext: filename=fasttext-0.9.2-cp37-cp37m-linux_x86_64.whl size=3116831 sha256=ff7d514e3f058f36849a904bea030467bf1ff9171d7873e7e83e997d8b825510\n",
            "  Stored in directory: /tmp/pip-ephem-wheel-cache-a7c3aszh/wheels/22/04/6e/b3aba25c1a5845898b5871a0df37c2126cb0cc9326ad0c08e7\n",
            "Successfully built fasttext\n",
            "Installing collected packages: pybind11, fasttext\n",
            "Successfully installed fasttext-0.9.2 pybind11-2.8.1\n"
          ]
        }
      ]
    },
    {
      "cell_type": "code",
      "metadata": {
        "colab": {
          "base_uri": "https://localhost:8080/"
        },
        "id": "EZTOqYEJpy7W",
        "outputId": "5ed06804-6d3d-4959-dc91-d4f182a2f52a"
      },
      "source": [
        "!wget https://dl.fbaipublicfiles.com/fasttext/vectors-wiki/wiki.en.zip\n",
        "!unzip wiki.en.zip\n"
      ],
      "execution_count": null,
      "outputs": [
        {
          "output_type": "stream",
          "name": "stdout",
          "text": [
            "--2021-11-07 04:34:48--  https://dl.fbaipublicfiles.com/fasttext/vectors-wiki/wiki.en.zip\n",
            "Resolving dl.fbaipublicfiles.com (dl.fbaipublicfiles.com)... 104.22.74.142, 172.67.9.4, 104.22.75.142, ...\n",
            "Connecting to dl.fbaipublicfiles.com (dl.fbaipublicfiles.com)|104.22.74.142|:443... connected.\n",
            "HTTP request sent, awaiting response... 200 OK\n",
            "Length: 10356881291 (9.6G) [application/zip]\n",
            "Saving to: ‘wiki.en.zip’\n",
            "\n",
            "wiki.en.zip         100%[===================>]   9.65G  68.8MB/s    in 2m 22s  \n",
            "\n",
            "2021-11-07 04:37:10 (69.5 MB/s) - ‘wiki.en.zip’ saved [10356881291/10356881291]\n",
            "\n",
            "Archive:  wiki.en.zip\n",
            "  inflating: wiki.en.vec             \n",
            "  inflating: wiki.en.bin             \n"
          ]
        }
      ]
    },
    {
      "cell_type": "code",
      "metadata": {
        "colab": {
          "base_uri": "https://localhost:8080/"
        },
        "id": "_Fwl8xTguSdd",
        "outputId": "67bbce51-14d8-4a6f-9eb5-39b69e139ba1"
      },
      "source": [
        "!git clone https://github.com/usnistgov/trec_eval.git\n",
        "%cd trec_eval\n",
        "!make\n"
      ],
      "execution_count": null,
      "outputs": [
        {
          "output_type": "stream",
          "name": "stdout",
          "text": [
            "Cloning into 'trec_eval'...\n",
            "remote: Enumerating objects: 763, done.\u001b[K\n",
            "remote: Counting objects: 100% (14/14), done.\u001b[K\n",
            "remote: Compressing objects: 100% (14/14), done.\u001b[K\n",
            "remote: Total 763 (delta 5), reused 3 (delta 0), pack-reused 749\u001b[K\n",
            "Receiving objects: 100% (763/763), 679.52 KiB | 10.62 MiB/s, done.\n",
            "Resolving deltas: 100% (491/491), done.\n",
            "/content/trec_eval\n",
            "gcc -g -I.  -Wall -DVERSIONID=\\\"9.0.7\\\"  -o trec_eval trec_eval.c formats.c meas_init.c meas_acc.c meas_avg.c meas_print_single.c meas_print_final.c get_qrels.c get_trec_results.c get_prefs.c get_qrels_prefs.c get_qrels_jg.c form_res_rels.c form_res_rels_jg.c form_prefs_counts.c utility_pool.c get_zscores.c convert_zscores.c measures.c  m_map.c m_P.c m_num_q.c m_num_ret.c m_num_rel.c m_num_rel_ret.c m_gm_map.c m_Rprec.c m_recip_rank.c m_bpref.c m_iprec_at_recall.c m_recall.c m_Rprec_mult.c m_utility.c m_11pt_avg.c m_ndcg.c m_ndcg_cut.c m_Rndcg.c m_ndcg_rel.c m_binG.c m_G.c m_rel_P.c m_success.c m_infap.c m_map_cut.c m_gm_bpref.c m_runid.c m_relstring.c m_set_P.c m_set_recall.c m_set_rel_P.c m_set_map.c m_set_F.c m_num_nonrel_judged_ret.c m_prefs_num_prefs_poss.c m_prefs_num_prefs_ful.c m_prefs_num_prefs_ful_ret.c m_prefs_simp.c m_prefs_pair.c m_prefs_avgjg.c m_prefs_avgjg_Rnonrel.c m_prefs_simp_ret.c m_prefs_pair_ret.c m_prefs_avgjg_ret.c m_prefs_avgjg_Rnonrel_ret.c m_prefs_simp_imp.c m_prefs_pair_imp.c m_prefs_avgjg_imp.c m_map_avgjg.c m_Rprec_mult_avgjg.c m_P_avgjg.c m_yaap.c -lm\n"
          ]
        }
      ]
    },
    {
      "cell_type": "code",
      "metadata": {
        "colab": {
          "base_uri": "https://localhost:8080/"
        },
        "id": "3ak3FMgJx_rl",
        "outputId": "acf1416f-0efa-40c5-ba78-506ac9bd9983"
      },
      "source": [
        "!cd trec_eval && make"
      ],
      "execution_count": null,
      "outputs": [
        {
          "output_type": "stream",
          "name": "stdout",
          "text": [
            "make: 'trec_eval' is up to date.\n"
          ]
        }
      ]
    },
    {
      "cell_type": "code",
      "metadata": {
        "colab": {
          "base_uri": "https://localhost:8080/"
        },
        "id": "1Lhj1614u8BY",
        "outputId": "aaeb7b91-2a79-4778-de62-85cd400ea0b8"
      },
      "source": [
        "%cd GTR"
      ],
      "execution_count": null,
      "outputs": [
        {
          "output_type": "stream",
          "name": "stdout",
          "text": [
            "/content/GTR\n"
          ]
        }
      ]
    },
    {
      "cell_type": "code",
      "metadata": {
        "colab": {
          "base_uri": "https://localhost:8080/"
        },
        "id": "CDzk_nXeugwx",
        "outputId": "daec535f-7ef5-4359-fde4-3c73f7eee6f0"
      },
      "source": [
        "!pip install -r requirements.txt"
      ],
      "execution_count": null,
      "outputs": [
        {
          "output_type": "stream",
          "name": "stdout",
          "text": [
            "Requirement already satisfied: tqdm==4.62.2 in /usr/local/lib/python3.7/site-packages (from -r requirements.txt (line 1)) (4.62.2)\n",
            "Requirement already satisfied: numpy==1.19.5 in /usr/local/lib/python3.7/site-packages (from -r requirements.txt (line 2)) (1.19.5)\n",
            "Requirement already satisfied: pandas==1.1.5 in /usr/local/lib/python3.7/site-packages (from -r requirements.txt (line 4)) (1.1.5)\n",
            "Requirement already satisfied: networkx==2.5 in /usr/local/lib/python3.7/site-packages (from -r requirements.txt (line 5)) (2.5)\n",
            "Requirement already satisfied: torch==1.9.0 in /usr/local/lib/python3.7/site-packages (from -r requirements.txt (line 6)) (1.9.0)\n",
            "Requirement already satisfied: pytorch_transformers==1.2.0 in /usr/local/lib/python3.7/site-packages (from -r requirements.txt (line 7)) (1.2.0)\n",
            "Requirement already satisfied: pytz>=2017.2 in /usr/local/lib/python3.7/site-packages (from pandas==1.1.5->-r requirements.txt (line 4)) (2021.3)\n",
            "Requirement already satisfied: python-dateutil>=2.7.3 in /usr/local/lib/python3.7/site-packages (from pandas==1.1.5->-r requirements.txt (line 4)) (2.8.2)\n",
            "Requirement already satisfied: decorator>=4.3.0 in /usr/local/lib/python3.7/site-packages (from networkx==2.5->-r requirements.txt (line 5)) (5.1.0)\n",
            "Requirement already satisfied: typing-extensions in /usr/local/lib/python3.7/site-packages (from torch==1.9.0->-r requirements.txt (line 6)) (3.10.0.2)\n",
            "Requirement already satisfied: sentencepiece in /usr/local/lib/python3.7/site-packages (from pytorch_transformers==1.2.0->-r requirements.txt (line 7)) (0.1.96)\n",
            "Requirement already satisfied: requests in /usr/local/lib/python3.7/site-packages (from pytorch_transformers==1.2.0->-r requirements.txt (line 7)) (2.22.0)\n",
            "Requirement already satisfied: boto3 in /usr/local/lib/python3.7/site-packages (from pytorch_transformers==1.2.0->-r requirements.txt (line 7)) (1.19.12)\n",
            "Requirement already satisfied: regex in /usr/local/lib/python3.7/site-packages (from pytorch_transformers==1.2.0->-r requirements.txt (line 7)) (2021.11.2)\n",
            "Requirement already satisfied: sacremoses in /usr/local/lib/python3.7/site-packages (from pytorch_transformers==1.2.0->-r requirements.txt (line 7)) (0.0.46)\n",
            "Requirement already satisfied: six>=1.5 in /usr/local/lib/python3.7/site-packages (from python-dateutil>=2.7.3->pandas==1.1.5->-r requirements.txt (line 4)) (1.14.0)\n",
            "Requirement already satisfied: chardet<3.1.0,>=3.0.2 in /usr/local/lib/python3.7/site-packages (from requests->pytorch_transformers==1.2.0->-r requirements.txt (line 7)) (3.0.4)\n",
            "Requirement already satisfied: idna<2.9,>=2.5 in /usr/local/lib/python3.7/site-packages (from requests->pytorch_transformers==1.2.0->-r requirements.txt (line 7)) (2.8)\n",
            "Requirement already satisfied: urllib3!=1.25.0,!=1.25.1,<1.26,>=1.21.1 in /usr/local/lib/python3.7/site-packages (from requests->pytorch_transformers==1.2.0->-r requirements.txt (line 7)) (1.25.8)\n",
            "Requirement already satisfied: certifi>=2017.4.17 in /usr/local/lib/python3.7/site-packages (from requests->pytorch_transformers==1.2.0->-r requirements.txt (line 7)) (2021.10.8)\n",
            "Requirement already satisfied: s3transfer<0.6.0,>=0.5.0 in /usr/local/lib/python3.7/site-packages (from boto3->pytorch_transformers==1.2.0->-r requirements.txt (line 7)) (0.5.0)\n",
            "Requirement already satisfied: botocore<1.23.0,>=1.22.12 in /usr/local/lib/python3.7/site-packages (from boto3->pytorch_transformers==1.2.0->-r requirements.txt (line 7)) (1.22.12)\n",
            "Requirement already satisfied: jmespath<1.0.0,>=0.7.1 in /usr/local/lib/python3.7/site-packages (from boto3->pytorch_transformers==1.2.0->-r requirements.txt (line 7)) (0.10.0)\n",
            "Requirement already satisfied: joblib in /usr/local/lib/python3.7/site-packages (from sacremoses->pytorch_transformers==1.2.0->-r requirements.txt (line 7)) (1.1.0)\n",
            "Requirement already satisfied: click in /usr/local/lib/python3.7/site-packages (from sacremoses->pytorch_transformers==1.2.0->-r requirements.txt (line 7)) (8.0.3)\n",
            "Requirement already satisfied: importlib-metadata; python_version < \"3.8\" in /usr/local/lib/python3.7/site-packages (from click->sacremoses->pytorch_transformers==1.2.0->-r requirements.txt (line 7)) (4.8.1)\n",
            "Requirement already satisfied: zipp>=0.5 in /usr/local/lib/python3.7/site-packages (from importlib-metadata; python_version < \"3.8\"->click->sacremoses->pytorch_transformers==1.2.0->-r requirements.txt (line 7)) (3.6.0)\n"
          ]
        }
      ]
    },
    {
      "cell_type": "code",
      "metadata": {
        "colab": {
          "base_uri": "https://localhost:8080/"
        },
        "id": "dEoGJAj2ygjq",
        "outputId": "798c9206-ef78-4169-fc96-c9c4406cb648"
      },
      "source": [
        "%cd data/webquerytable/"
      ],
      "execution_count": null,
      "outputs": [
        {
          "output_type": "stream",
          "name": "stdout",
          "text": [
            "/content/GTR/data/webquerytable\n"
          ]
        }
      ]
    },
    {
      "cell_type": "code",
      "metadata": {
        "colab": {
          "base_uri": "https://localhost:8080/"
        },
        "id": "8YaHy0JGzYZR",
        "outputId": "11a43ba0-f48f-46ec-bd48-275d3f30c09d"
      },
      "source": [
        "!cat WebQueryTable_Dataset.zip.00* > WebQueryTable.zip\n",
        "!unzip WebQueryTable.zip\n"
      ],
      "execution_count": null,
      "outputs": [
        {
          "output_type": "stream",
          "name": "stdout",
          "text": [
            "Archive:  WebQueryTable.zip\n",
            "   creating: WebQueryTable_Dataset/\n",
            "  inflating: WebQueryTable_Dataset/Readme.txt  \n",
            "  inflating: WebQueryTable_Dataset/WQT.dataset.query-table.tsv  \n",
            "  inflating: WebQueryTable_Dataset/WQT.dataset.query.tsv  \n",
            "  inflating: WebQueryTable_Dataset/WQT.dataset.table.tsv  \n"
          ]
        }
      ]
    },
    {
      "cell_type": "code",
      "metadata": {
        "id": "GgYoESx5zdOV"
      },
      "source": [
        "!python preprocess.py"
      ],
      "execution_count": null,
      "outputs": []
    },
    {
      "cell_type": "code",
      "metadata": {
        "colab": {
          "base_uri": "https://localhost:8080/"
        },
        "id": "0ltgT8dYzu4b",
        "outputId": "859fbe9d-5b58-45b2-96be-c1f9ae64f879"
      },
      "source": [
        "%cd .."
      ],
      "execution_count": null,
      "outputs": [
        {
          "output_type": "stream",
          "name": "stdout",
          "text": [
            "/content/GTR\n"
          ]
        }
      ]
    },
    {
      "cell_type": "code",
      "metadata": {
        "colab": {
          "base_uri": "https://localhost:8080/"
        },
        "id": "zZ59_9JRzgtO",
        "outputId": "1de72ef1-e716-4bd7-9c88-9bd9770c1be8"
      },
      "source": [
        "!python run.py --exp train_test --config configs/webquerytable.json"
      ],
      "execution_count": null,
      "outputs": [
        {
          "output_type": "stream",
          "name": "stdout",
          "text": [
            "Using backend: pytorch\n",
            "invalid_query 15 ['web1803', 'web3998', 'web6193', 'web7088', 'web8778', 'web8958', 'web9914', 'web13829', 'web13847', 'web15818', 'web17404', 'web19029', 'web19447', 'web19673', 'web20548']\n",
            "invalid_table 0 []\n",
            "missing_pos 6421 ['web2', 'web5', 'web19', 'web26', 'web27', 'web31', 'web34', 'web39', 'web41', 'web65', 'web69', 'web73', 'web76', 'web78', 'web84', 'web92', 'web107', 'web108', 'web109', 'web113', 'web114', 'web123', 'web137', 'web142', 'web143', 'web150', 'web156', 'web161', 'web165', 'web167', 'web168', 'web188', 'web197', 'web198', 'web200', 'web206', 'web215', 'web216', 'web218', 'web221', 'web223', 'web224', 'web225', 'web232', 'web233', 'web235', 'web239', 'web249', 'web252', 'web253', 'web254', 'web255', 'web258', 'web263', 'web264', 'web266', 'web267', 'web271', 'web273', 'web276', 'web292', 'web297', 'web299', 'web300', 'web304', 'web307', 'web315', 'web316', 'web322', 'web337', 'web348', 'web352', 'web357', 'web362', 'web364', 'web366', 'web369', 'web381', 'web383', 'web384', 'web408', 'web410', 'web413', 'web415', 'web417', 'web419', 'web423', 'web425', 'web433', 'web435', 'web448', 'web459', 'web468', 'web473', 'web475', 'web479', 'web483', 'web499', 'web500', 'web508', 'web513', 'web517', 'web521', 'web526', 'web533', 'web537', 'web542', 'web543', 'web545', 'web555', 'web559', 'web561', 'web563', 'web566', 'web576', 'web578', 'web579', 'web582', 'web587', 'web588', 'web589', 'web592', 'web593', 'web598', 'web602', 'web603', 'web605', 'web608', 'web609', 'web611', 'web615', 'web625', 'web629', 'web633', 'web634', 'web640', 'web644', 'web645', 'web646', 'web647', 'web652', 'web655', 'web657', 'web660', 'web671', 'web677', 'web680', 'web683', 'web689', 'web695', 'web700', 'web703', 'web705', 'web719', 'web722', 'web732', 'web735', 'web743', 'web745', 'web746', 'web750', 'web762', 'web771', 'web790', 'web802', 'web812', 'web820', 'web822', 'web828', 'web829', 'web848', 'web851', 'web857', 'web870', 'web871', 'web875', 'web881', 'web884', 'web886', 'web893', 'web896', 'web897', 'web905', 'web913', 'web919', 'web929', 'web937', 'web941', 'web942', 'web945', 'web948', 'web951', 'web953', 'web957', 'web965', 'web973', 'web976', 'web981', 'web987', 'web988', 'web991', 'web995', 'web996', 'web998', 'web1001', 'web1011', 'web1018', 'web1020', 'web1023', 'web1025', 'web1027', 'web1028', 'web1029', 'web1032', 'web1033', 'web1036', 'web1037', 'web1039', 'web1044', 'web1052', 'web1054', 'web1055', 'web1056', 'web1060', 'web1065', 'web1068', 'web1072', 'web1078', 'web1081', 'web1091', 'web1093', 'web1094', 'web1098', 'web1106', 'web1114', 'web1115', 'web1116', 'web1122', 'web1135', 'web1136', 'web1144', 'web1145', 'web1154', 'web1156', 'web1158', 'web1173', 'web1176', 'web1180', 'web1184', 'web1194', 'web1195', 'web1200', 'web1204', 'web1210', 'web1212', 'web1213', 'web1219', 'web1230', 'web1232', 'web1238', 'web1240', 'web1241', 'web1242', 'web1252', 'web1261', 'web1263', 'web1271', 'web1290', 'web1291', 'web1292', 'web1295', 'web1310', 'web1323', 'web1326', 'web1332', 'web1342', 'web1344', 'web1345', 'web1347', 'web1350', 'web1363', 'web1364', 'web1365', 'web1366', 'web1371', 'web1374', 'web1375', 'web1384', 'web1390', 'web1392', 'web1395', 'web1398', 'web1401', 'web1404', 'web1407', 'web1408', 'web1410', 'web1416', 'web1417', 'web1423', 'web1433', 'web1437', 'web1438', 'web1439', 'web1440', 'web1449', 'web1457', 'web1471', 'web1477', 'web1501', 'web1506', 'web1512', 'web1515', 'web1522', 'web1523', 'web1524', 'web1528', 'web1532', 'web1535', 'web1542', 'web1551', 'web1556', 'web1568', 'web1580', 'web1582', 'web1590', 'web1593', 'web1595', 'web1597', 'web1604', 'web1605', 'web1608', 'web1615', 'web1620', 'web1621', 'web1623', 'web1632', 'web1635', 'web1636', 'web1637', 'web1638', 'web1643', 'web1646', 'web1647', 'web1654', 'web1656', 'web1670', 'web1674', 'web1682', 'web1683', 'web1685', 'web1687', 'web1695', 'web1700', 'web1705', 'web1712', 'web1714', 'web1727', 'web1736', 'web1739', 'web1742', 'web1759', 'web1761', 'web1762', 'web1763', 'web1767', 'web1775', 'web1778', 'web1783', 'web1795', 'web1796', 'web1797', 'web1801', 'web1804', 'web1809', 'web1813', 'web1817', 'web1828', 'web1831', 'web1832', 'web1848', 'web1858', 'web1859', 'web1861', 'web1862', 'web1870', 'web1876', 'web1887', 'web1904', 'web1909', 'web1916', 'web1919', 'web1926', 'web1936', 'web1938', 'web1939', 'web1943', 'web1945', 'web1950', 'web1964', 'web1967', 'web1972', 'web1973', 'web1974', 'web1976', 'web1982', 'web1984', 'web1988', 'web1994', 'web1996', 'web1998', 'web2001', 'web2002', 'web2006', 'web2012', 'web2017', 'web2027', 'web2034', 'web2036', 'web2038', 'web2041', 'web2042', 'web2047', 'web2054', 'web2055', 'web2060', 'web2061', 'web2064', 'web2065', 'web2069', 'web2072', 'web2073', 'web2076', 'web2081', 'web2084', 'web2085', 'web2086', 'web2087', 'web2096', 'web2099', 'web2103', 'web2104', 'web2114', 'web2115', 'web2119', 'web2120', 'web2121', 'web2123', 'web2124', 'web2125', 'web2127', 'web2136', 'web2166', 'web2171', 'web2172', 'web2176', 'web2181', 'web2197', 'web2201', 'web2203', 'web2207', 'web2209', 'web2215', 'web2216', 'web2221', 'web2224', 'web2226', 'web2228', 'web2229', 'web2231', 'web2238', 'web2239', 'web2243', 'web2251', 'web2252', 'web2255', 'web2257', 'web2267', 'web2273', 'web2275', 'web2280', 'web2281', 'web2286', 'web2292', 'web2304', 'web2305', 'web2306', 'web2308', 'web2321', 'web2323', 'web2324', 'web2327', 'web2328', 'web2329', 'web2330', 'web2340', 'web2341', 'web2347', 'web2349', 'web2358', 'web2366', 'web2371', 'web2380', 'web2383', 'web2391', 'web2407', 'web2408', 'web2409', 'web2410', 'web2414', 'web2415', 'web2416', 'web2423', 'web2425', 'web2430', 'web2432', 'web2436', 'web2437', 'web2445', 'web2455', 'web2456', 'web2457', 'web2458', 'web2459', 'web2486', 'web2495', 'web2501', 'web2504', 'web2514', 'web2516', 'web2521', 'web2530', 'web2544', 'web2548', 'web2550', 'web2552', 'web2560', 'web2569', 'web2573', 'web2574', 'web2577', 'web2588', 'web2598', 'web2602', 'web2608', 'web2613', 'web2615', 'web2617', 'web2621', 'web2626', 'web2627', 'web2628', 'web2632', 'web2637', 'web2644', 'web2668', 'web2670', 'web2674', 'web2680', 'web2681', 'web2683', 'web2684', 'web2686', 'web2688', 'web2694', 'web2695', 'web2713', 'web2714', 'web2717', 'web2718', 'web2720', 'web2721', 'web2731', 'web2732', 'web2736', 'web2750', 'web2755', 'web2760', 'web2761', 'web2763', 'web2764', 'web2766', 'web2788', 'web2789', 'web2798', 'web2801', 'web2811', 'web2813', 'web2819', 'web2829', 'web2832', 'web2833', 'web2835', 'web2848', 'web2849', 'web2851', 'web2852', 'web2853', 'web2871', 'web2872', 'web2874', 'web2876', 'web2877', 'web2882', 'web2885', 'web2886', 'web2906', 'web2907', 'web2910', 'web2912', 'web2918', 'web2919', 'web2923', 'web2924', 'web2928', 'web2945', 'web2946', 'web2947', 'web2951', 'web2956', 'web2964', 'web2967', 'web2969', 'web2971', 'web2976', 'web2983', 'web2984', 'web2986', 'web2988', 'web2989', 'web2991', 'web2996', 'web3000', 'web3006', 'web3009', 'web3010', 'web3013', 'web3021', 'web3031', 'web3034', 'web3036', 'web3042', 'web3044', 'web3045', 'web3047', 'web3051', 'web3052', 'web3055', 'web3058', 'web3063', 'web3084', 'web3085', 'web3093', 'web3097', 'web3107', 'web3108', 'web3114', 'web3115', 'web3116', 'web3117', 'web3119', 'web3121', 'web3128', 'web3129', 'web3131', 'web3132', 'web3146', 'web3150', 'web3155', 'web3159', 'web3162', 'web3163', 'web3167', 'web3169', 'web3171', 'web3173', 'web3176', 'web3178', 'web3181', 'web3183', 'web3185', 'web3194', 'web3195', 'web3197', 'web3199', 'web3203', 'web3206', 'web3217', 'web3221', 'web3228', 'web3229', 'web3231', 'web3240', 'web3242', 'web3247', 'web3257', 'web3275', 'web3279', 'web3284', 'web3285', 'web3288', 'web3303', 'web3304', 'web3307', 'web3308', 'web3309', 'web3314', 'web3322', 'web3328', 'web3331', 'web3334', 'web3337', 'web3339', 'web3346', 'web3353', 'web3354', 'web3356', 'web3357', 'web3359', 'web3361', 'web3365', 'web3369', 'web3373', 'web3374', 'web3375', 'web3391', 'web3393', 'web3409', 'web3415', 'web3419', 'web3420', 'web3427', 'web3433', 'web3438', 'web3442', 'web3444', 'web3452', 'web3453', 'web3459', 'web3461', 'web3463', 'web3464', 'web3471', 'web3474', 'web3477', 'web3478', 'web3500', 'web3509', 'web3513', 'web3517', 'web3518', 'web3523', 'web3529', 'web3531', 'web3539', 'web3547', 'web3548', 'web3549', 'web3554', 'web3556', 'web3559', 'web3561', 'web3563', 'web3564', 'web3565', 'web3570', 'web3574', 'web3575', 'web3577', 'web3578', 'web3579', 'web3581', 'web3588', 'web3595', 'web3599', 'web3601', 'web3609', 'web3620', 'web3623', 'web3627', 'web3647', 'web3651', 'web3652', 'web3654', 'web3669', 'web3677', 'web3678', 'web3696', 'web3700', 'web3703', 'web3704', 'web3706', 'web3710', 'web3715', 'web3718', 'web3720', 'web3723', 'web3726', 'web3730', 'web3740', 'web3741', 'web3742', 'web3745', 'web3747', 'web3748', 'web3755', 'web3764', 'web3768', 'web3774', 'web3775', 'web3790', 'web3795', 'web3800', 'web3801', 'web3813', 'web3815', 'web3819', 'web3823', 'web3827', 'web3831', 'web3832', 'web3839', 'web3842', 'web3844', 'web3847', 'web3849', 'web3852', 'web3853', 'web3855', 'web3857', 'web3866', 'web3877', 'web3880', 'web3881', 'web3888', 'web3889', 'web3893', 'web3896', 'web3910', 'web3911', 'web3916', 'web3917', 'web3919', 'web3920', 'web3921', 'web3922', 'web3924', 'web3925', 'web3928', 'web3932', 'web3937', 'web3941', 'web3944', 'web3948', 'web3950', 'web3952', 'web3960', 'web3963', 'web3967', 'web3970', 'web3982', 'web3983', 'web3984', 'web3991', 'web3992', 'web4004', 'web4008', 'web4016', 'web4019', 'web4024', 'web4025', 'web4026', 'web4027', 'web4035', 'web4040', 'web4046', 'web4047', 'web4050', 'web4052', 'web4060', 'web4061', 'web4065', 'web4069', 'web4070', 'web4072', 'web4084', 'web4093', 'web4096', 'web4102', 'web4109', 'web4116', 'web4120', 'web4121', 'web4134', 'web4138', 'web4140', 'web4142', 'web4144', 'web4149', 'web4150', 'web4151', 'web4159', 'web4165', 'web4166', 'web4168', 'web4171', 'web4176', 'web4179', 'web4180', 'web4181', 'web4182', 'web4183', 'web4188', 'web4190', 'web4194', 'web4199', 'web4201', 'web4204', 'web4206', 'web4210', 'web4217', 'web4233', 'web4234', 'web4237', 'web4239', 'web4240', 'web4248', 'web4249', 'web4270', 'web4272', 'web4274', 'web4275', 'web4278', 'web4289', 'web4293', 'web4297', 'web4301', 'web4302', 'web4305', 'web4306', 'web4309', 'web4333', 'web4336', 'web4343', 'web4347', 'web4350', 'web4353', 'web4354', 'web4357', 'web4359', 'web4362', 'web4368', 'web4370', 'web4375', 'web4382', 'web4383', 'web4389', 'web4390', 'web4392', 'web4394', 'web4396', 'web4398', 'web4400', 'web4401', 'web4403', 'web4406', 'web4413', 'web4415', 'web4421', 'web4422', 'web4423', 'web4436', 'web4437', 'web4441', 'web4445', 'web4446', 'web4450', 'web4467', 'web4468', 'web4475', 'web4476', 'web4477', 'web4483', 'web4485', 'web4492', 'web4497', 'web4503', 'web4504', 'web4507', 'web4517', 'web4535', 'web4539', 'web4552', 'web4553', 'web4565', 'web4568', 'web4571', 'web4574', 'web4575', 'web4592', 'web4593', 'web4602', 'web4605', 'web4608', 'web4618', 'web4620', 'web4623', 'web4625', 'web4634', 'web4639', 'web4640', 'web4642', 'web4644', 'web4660', 'web4663', 'web4683', 'web4688', 'web4698', 'web4711', 'web4716', 'web4728', 'web4752', 'web4754', 'web4756', 'web4757', 'web4762', 'web4763', 'web4765', 'web4773', 'web4776', 'web4777', 'web4778', 'web4779', 'web4793', 'web4797', 'web4798', 'web4805', 'web4809', 'web4815', 'web4821', 'web4828', 'web4833', 'web4834', 'web4840', 'web4846', 'web4850', 'web4852', 'web4859', 'web4862', 'web4863', 'web4877', 'web4882', 'web4888', 'web4892', 'web4894', 'web4898', 'web4903', 'web4909', 'web4913', 'web4929', 'web4932', 'web4935', 'web4936', 'web4943', 'web4945', 'web4953', 'web4955', 'web4962', 'web4963', 'web4966', 'web4971', 'web4975', 'web4983', 'web4989', 'web4992', 'web4998', 'web5002', 'web5003', 'web5009', 'web5014', 'web5023', 'web5028', 'web5030', 'web5031', 'web5033', 'web5048', 'web5055', 'web5075', 'web5083', 'web5084', 'web5097', 'web5103', 'web5104', 'web5118', 'web5123', 'web5127', 'web5129', 'web5132', 'web5133', 'web5141', 'web5142', 'web5147', 'web5149', 'web5151', 'web5156', 'web5161', 'web5167', 'web5169', 'web5173', 'web5174', 'web5176', 'web5177', 'web5184', 'web5185', 'web5196', 'web5197', 'web5198', 'web5202', 'web5207', 'web5212', 'web5222', 'web5227', 'web5229', 'web5232', 'web5233', 'web5242', 'web5258', 'web5259', 'web5260', 'web5270', 'web5278', 'web5280', 'web5286', 'web5290', 'web5291', 'web5292', 'web5294', 'web5301', 'web5309', 'web5311', 'web5313', 'web5315', 'web5320', 'web5322', 'web5323', 'web5333', 'web5334', 'web5338', 'web5340', 'web5343', 'web5348', 'web5350', 'web5352', 'web5354', 'web5362', 'web5367', 'web5373', 'web5381', 'web5382', 'web5388', 'web5398', 'web5402', 'web5414', 'web5421', 'web5423', 'web5429', 'web5435', 'web5436', 'web5440', 'web5446', 'web5449', 'web5457', 'web5462', 'web5469', 'web5471', 'web5473', 'web5481', 'web5483', 'web5484', 'web5485', 'web5497', 'web5502', 'web5505', 'web5507', 'web5508', 'web5509', 'web5510', 'web5513', 'web5514', 'web5518', 'web5525', 'web5527', 'web5532', 'web5537', 'web5540', 'web5541', 'web5546', 'web5547', 'web5556', 'web5557', 'web5558', 'web5561', 'web5567', 'web5569', 'web5582', 'web5587', 'web5591', 'web5599', 'web5610', 'web5615', 'web5616', 'web5617', 'web5622', 'web5626', 'web5629', 'web5630', 'web5635', 'web5637', 'web5638', 'web5643', 'web5644', 'web5655', 'web5658', 'web5663', 'web5669', 'web5671', 'web5673', 'web5679', 'web5682', 'web5684', 'web5687', 'web5689', 'web5699', 'web5700', 'web5703', 'web5709', 'web5711', 'web5712', 'web5713', 'web5715', 'web5719', 'web5720', 'web5722', 'web5731', 'web5734', 'web5740', 'web5741', 'web5748', 'web5751', 'web5755', 'web5756', 'web5757', 'web5761', 'web5763', 'web5767', 'web5773', 'web5774', 'web5781', 'web5789', 'web5794', 'web5797', 'web5811', 'web5813', 'web5820', 'web5825', 'web5829', 'web5831', 'web5832', 'web5833', 'web5837', 'web5843', 'web5850', 'web5852', 'web5857', 'web5860', 'web5865', 'web5867', 'web5868', 'web5872', 'web5875', 'web5877', 'web5881', 'web5882', 'web5888', 'web5893', 'web5899', 'web5912', 'web5920', 'web5929', 'web5932', 'web5933', 'web5936', 'web5938', 'web5939', 'web5944', 'web5952', 'web5955', 'web5957', 'web5965', 'web5967', 'web5974', 'web5982', 'web5984', 'web5987', 'web5993', 'web5994', 'web6001', 'web6002', 'web6004', 'web6020', 'web6027', 'web6031', 'web6047', 'web6052', 'web6053', 'web6055', 'web6059', 'web6076', 'web6079', 'web6083', 'web6086', 'web6088', 'web6089', 'web6091', 'web6098', 'web6099', 'web6102', 'web6103', 'web6105', 'web6106', 'web6119', 'web6126', 'web6128', 'web6129', 'web6131', 'web6138', 'web6148', 'web6149', 'web6150', 'web6164', 'web6173', 'web6178', 'web6186', 'web6188', 'web6197', 'web6198', 'web6202', 'web6209', 'web6211', 'web6212', 'web6216', 'web6219', 'web6220', 'web6222', 'web6230', 'web6234', 'web6236', 'web6237', 'web6239', 'web6247', 'web6248', 'web6262', 'web6264', 'web6275', 'web6282', 'web6284', 'web6285', 'web6289', 'web6291', 'web6292', 'web6293', 'web6295', 'web6296', 'web6298', 'web6302', 'web6304', 'web6320', 'web6323', 'web6324', 'web6335', 'web6342', 'web6350', 'web6352', 'web6354', 'web6355', 'web6364', 'web6379', 'web6386', 'web6387', 'web6389', 'web6390', 'web6397', 'web6403', 'web6404', 'web6408', 'web6410', 'web6416', 'web6420', 'web6421', 'web6429', 'web6437', 'web6440', 'web6447', 'web6450', 'web6457', 'web6463', 'web6464', 'web6468', 'web6470', 'web6475', 'web6483', 'web6493', 'web6501', 'web6505', 'web6507', 'web6509', 'web6512', 'web6513', 'web6520', 'web6524', 'web6530', 'web6531', 'web6533', 'web6537', 'web6555', 'web6563', 'web6583', 'web6593', 'web6596', 'web6599', 'web6600', 'web6601', 'web6602', 'web6604', 'web6605', 'web6606', 'web6613', 'web6615', 'web6623', 'web6624', 'web6625', 'web6627', 'web6632', 'web6639', 'web6655', 'web6658', 'web6660', 'web6665', 'web6669', 'web6673', 'web6677', 'web6683', 'web6686', 'web6688', 'web6695', 'web6698', 'web6700', 'web6701', 'web6702', 'web6704', 'web6717', 'web6718', 'web6728', 'web6732', 'web6742', 'web6745', 'web6748', 'web6752', 'web6760', 'web6761', 'web6763', 'web6766', 'web6772', 'web6773', 'web6774', 'web6775', 'web6781', 'web6790', 'web6792', 'web6795', 'web6796', 'web6800', 'web6802', 'web6804', 'web6808', 'web6819', 'web6822', 'web6827', 'web6838', 'web6846', 'web6847', 'web6849', 'web6851', 'web6852', 'web6858', 'web6869', 'web6873', 'web6876', 'web6884', 'web6887', 'web6895', 'web6897', 'web6899', 'web6904', 'web6917', 'web6937', 'web6940', 'web6946', 'web6947', 'web6957', 'web6958', 'web6960', 'web6966', 'web6968', 'web6978', 'web6983', 'web6985', 'web6990', 'web6996', 'web7009', 'web7013', 'web7021', 'web7032', 'web7033', 'web7034', 'web7037', 'web7039', 'web7045', 'web7052', 'web7054', 'web7062', 'web7063', 'web7067', 'web7068', 'web7069', 'web7071', 'web7072', 'web7073', 'web7079', 'web7081', 'web7087', 'web7090', 'web7093', 'web7095', 'web7104', 'web7106', 'web7111', 'web7115', 'web7119', 'web7120', 'web7122', 'web7123', 'web7124', 'web7127', 'web7129', 'web7131', 'web7157', 'web7159', 'web7170', 'web7172', 'web7174', 'web7184', 'web7201', 'web7202', 'web7207', 'web7211', 'web7213', 'web7216', 'web7227', 'web7243', 'web7244', 'web7245', 'web7250', 'web7251', 'web7252', 'web7254', 'web7261', 'web7263', 'web7268', 'web7271', 'web7283', 'web7294', 'web7295', 'web7298', 'web7299', 'web7300', 'web7306', 'web7310', 'web7312', 'web7318', 'web7322', 'web7327', 'web7331', 'web7337', 'web7339', 'web7341', 'web7345', 'web7348', 'web7350', 'web7360', 'web7362', 'web7364', 'web7365', 'web7366', 'web7370', 'web7373', 'web7375', 'web7378', 'web7386', 'web7399', 'web7401', 'web7405', 'web7407', 'web7409', 'web7415', 'web7417', 'web7418', 'web7426', 'web7427', 'web7429', 'web7437', 'web7438', 'web7451', 'web7454', 'web7463', 'web7467', 'web7469', 'web7474', 'web7479', 'web7482', 'web7493', 'web7495', 'web7501', 'web7505', 'web7506', 'web7516', 'web7517', 'web7536', 'web7538', 'web7552', 'web7553', 'web7558', 'web7559', 'web7562', 'web7564', 'web7570', 'web7573', 'web7575', 'web7577', 'web7579', 'web7580', 'web7584', 'web7599', 'web7601', 'web7622', 'web7626', 'web7632', 'web7636', 'web7641', 'web7642', 'web7650', 'web7655', 'web7657', 'web7659', 'web7660', 'web7663', 'web7669', 'web7686', 'web7688', 'web7693', 'web7694', 'web7706', 'web7710', 'web7716', 'web7718', 'web7723', 'web7725', 'web7726', 'web7737', 'web7739', 'web7740', 'web7748', 'web7754', 'web7756', 'web7764', 'web7766', 'web7767', 'web7771', 'web7773', 'web7776', 'web7786', 'web7787', 'web7789', 'web7794', 'web7795', 'web7812', 'web7816', 'web7823', 'web7834', 'web7851', 'web7852', 'web7853', 'web7856', 'web7857', 'web7863', 'web7866', 'web7869', 'web7876', 'web7879', 'web7882', 'web7886', 'web7892', 'web7893', 'web7897', 'web7899', 'web7910', 'web7912', 'web7925', 'web7931', 'web7934', 'web7937', 'web7938', 'web7939', 'web7944', 'web7947', 'web7950', 'web7953', 'web7954', 'web7957', 'web7967', 'web7975', 'web7984', 'web7991', 'web7995', 'web7997', 'web8004', 'web8009', 'web8011', 'web8034', 'web8039', 'web8047', 'web8048', 'web8057', 'web8065', 'web8066', 'web8080', 'web8081', 'web8086', 'web8090', 'web8094', 'web8095', 'web8101', 'web8103', 'web8110', 'web8111', 'web8114', 'web8116', 'web8122', 'web8137', 'web8142', 'web8144', 'web8156', 'web8157', 'web8159', 'web8161', 'web8167', 'web8183', 'web8193', 'web8199', 'web8201', 'web8203', 'web8214', 'web8216', 'web8222', 'web8223', 'web8224', 'web8226', 'web8235', 'web8238', 'web8240', 'web8253', 'web8256', 'web8257', 'web8275', 'web8276', 'web8277', 'web8278', 'web8279', 'web8282', 'web8283', 'web8286', 'web8287', 'web8289', 'web8297', 'web8300', 'web8305', 'web8307', 'web8312', 'web8319', 'web8328', 'web8334', 'web8338', 'web8341', 'web8342', 'web8343', 'web8345', 'web8349', 'web8352', 'web8364', 'web8369', 'web8376', 'web8381', 'web8382', 'web8385', 'web8392', 'web8394', 'web8403', 'web8413', 'web8417', 'web8421', 'web8423', 'web8424', 'web8437', 'web8472', 'web8474', 'web8476', 'web8481', 'web8486', 'web8492', 'web8512', 'web8513', 'web8518', 'web8520', 'web8525', 'web8530', 'web8536', 'web8540', 'web8544', 'web8549', 'web8555', 'web8558', 'web8561', 'web8562', 'web8566', 'web8570', 'web8576', 'web8581', 'web8582', 'web8584', 'web8605', 'web8609', 'web8626', 'web8629', 'web8632', 'web8633', 'web8637', 'web8638', 'web8639', 'web8640', 'web8643', 'web8644', 'web8648', 'web8650', 'web8651', 'web8655', 'web8658', 'web8663', 'web8674', 'web8678', 'web8690', 'web8694', 'web8699', 'web8725', 'web8733', 'web8736', 'web8737', 'web8738', 'web8739', 'web8741', 'web8743', 'web8748', 'web8749', 'web8752', 'web8754', 'web8765', 'web8766', 'web8768', 'web8770', 'web8782', 'web8787', 'web8791', 'web8794', 'web8796', 'web8797', 'web8799', 'web8801', 'web8807', 'web8808', 'web8816', 'web8818', 'web8820', 'web8822', 'web8829', 'web8836', 'web8841', 'web8842', 'web8846', 'web8847', 'web8849', 'web8852', 'web8854', 'web8863', 'web8867', 'web8873', 'web8879', 'web8880', 'web8881', 'web8886', 'web8887', 'web8899', 'web8919', 'web8935', 'web8949', 'web8955', 'web8961', 'web8962', 'web8972', 'web8974', 'web8979', 'web8981', 'web8984', 'web8985', 'web8991', 'web8997', 'web9000', 'web9002', 'web9016', 'web9018', 'web9021', 'web9058', 'web9061', 'web9062', 'web9063', 'web9068', 'web9071', 'web9073', 'web9074', 'web9078', 'web9082', 'web9083', 'web9090', 'web9091', 'web9092', 'web9095', 'web9103', 'web9105', 'web9111', 'web9113', 'web9115', 'web9122', 'web9123', 'web9136', 'web9137', 'web9147', 'web9153', 'web9168', 'web9179', 'web9188', 'web9190', 'web9191', 'web9193', 'web9194', 'web9195', 'web9196', 'web9204', 'web9207', 'web9210', 'web9212', 'web9224', 'web9226', 'web9235', 'web9243', 'web9246', 'web9253', 'web9268', 'web9273', 'web9280', 'web9281', 'web9286', 'web9289', 'web9294', 'web9297', 'web9298', 'web9307', 'web9320', 'web9349', 'web9351', 'web9356', 'web9359', 'web9361', 'web9364', 'web9365', 'web9367', 'web9377', 'web9379', 'web9381', 'web9387', 'web9408', 'web9421', 'web9427', 'web9432', 'web9436', 'web9438', 'web9443', 'web9445', 'web9447', 'web9450', 'web9452', 'web9455', 'web9463', 'web9467', 'web9471', 'web9473', 'web9474', 'web9479', 'web9483', 'web9488', 'web9489', 'web9491', 'web9494', 'web9496', 'web9501', 'web9505', 'web9507', 'web9508', 'web9510', 'web9515', 'web9520', 'web9521', 'web9523', 'web9525', 'web9533', 'web9536', 'web9544', 'web9545', 'web9548', 'web9557', 'web9558', 'web9559', 'web9569', 'web9572', 'web9575', 'web9577', 'web9578', 'web9582', 'web9587', 'web9590', 'web9593', 'web9597', 'web9621', 'web9626', 'web9628', 'web9645', 'web9646', 'web9653', 'web9654', 'web9655', 'web9658', 'web9661', 'web9664', 'web9669', 'web9674', 'web9676', 'web9678', 'web9681', 'web9686', 'web9687', 'web9688', 'web9695', 'web9697', 'web9698', 'web9699', 'web9704', 'web9707', 'web9715', 'web9719', 'web9728', 'web9734', 'web9735', 'web9738', 'web9746', 'web9752', 'web9754', 'web9761', 'web9763', 'web9765', 'web9774', 'web9777', 'web9783', 'web9786', 'web9792', 'web9793', 'web9805', 'web9807', 'web9810', 'web9811', 'web9818', 'web9819', 'web9822', 'web9825', 'web9828', 'web9832', 'web9833', 'web9838', 'web9839', 'web9842', 'web9843', 'web9846', 'web9847', 'web9860', 'web9866', 'web9867', 'web9870', 'web9874', 'web9877', 'web9889', 'web9892', 'web9896', 'web9900', 'web9907', 'web9909', 'web9916', 'web9918', 'web9920', 'web9922', 'web9928', 'web9931', 'web9933', 'web9936', 'web9939', 'web9942', 'web9945', 'web9949', 'web9955', 'web9961', 'web9968', 'web9972', 'web9973', 'web9974', 'web9977', 'web9981', 'web9985', 'web9986', 'web9991', 'web9993', 'web9995', 'web10002', 'web10006', 'web10011', 'web10017', 'web10029', 'web10032', 'web10039', 'web10042', 'web10043', 'web10050', 'web10051', 'web10055', 'web10061', 'web10068', 'web10070', 'web10075', 'web10085', 'web10094', 'web10100', 'web10102', 'web10113', 'web10121', 'web10137', 'web10152', 'web10158', 'web10165', 'web10169', 'web10172', 'web10176', 'web10182', 'web10183', 'web10190', 'web10191', 'web10192', 'web10194', 'web10196', 'web10210', 'web10216', 'web10217', 'web10224', 'web10230', 'web10231', 'web10236', 'web10247', 'web10262', 'web10264', 'web10267', 'web10271', 'web10284', 'web10286', 'web10296', 'web10298', 'web10304', 'web10306', 'web10319', 'web10324', 'web10329', 'web10331', 'web10336', 'web10338', 'web10344', 'web10346', 'web10348', 'web10353', 'web10354', 'web10356', 'web10370', 'web10372', 'web10376', 'web10380', 'web10401', 'web10403', 'web10411', 'web10419', 'web10423', 'web10424', 'web10426', 'web10428', 'web10437', 'web10445', 'web10453', 'web10454', 'web10459', 'web10461', 'web10465', 'web10471', 'web10479', 'web10480', 'web10481', 'web10483', 'web10486', 'web10495', 'web10498', 'web10503', 'web10512', 'web10515', 'web10518', 'web10521', 'web10526', 'web10528', 'web10534', 'web10543', 'web10550', 'web10562', 'web10563', 'web10564', 'web10568', 'web10580', 'web10589', 'web10593', 'web10594', 'web10596', 'web10610', 'web10611', 'web10614', 'web10615', 'web10617', 'web10618', 'web10620', 'web10623', 'web10631', 'web10640', 'web10643', 'web10648', 'web10650', 'web10656', 'web10660', 'web10661', 'web10672', 'web10674', 'web10676', 'web10677', 'web10679', 'web10681', 'web10684', 'web10686', 'web10687', 'web10689', 'web10691', 'web10694', 'web10697', 'web10701', 'web10708', 'web10714', 'web10716', 'web10719', 'web10721', 'web10724', 'web10728', 'web10732', 'web10736', 'web10744', 'web10745', 'web10754', 'web10760', 'web10762', 'web10765', 'web10767', 'web10769', 'web10771', 'web10775', 'web10777', 'web10780', 'web10785', 'web10791', 'web10800', 'web10806', 'web10808', 'web10813', 'web10814', 'web10815', 'web10818', 'web10822', 'web10823', 'web10828', 'web10829', 'web10831', 'web10838', 'web10841', 'web10842', 'web10850', 'web10856', 'web10860', 'web10862', 'web10865', 'web10872', 'web10876', 'web10878', 'web10883', 'web10884', 'web10885', 'web10888', 'web10890', 'web10891', 'web10901', 'web10902', 'web10903', 'web10907', 'web10919', 'web10921', 'web10922', 'web10933', 'web10934', 'web10937', 'web10946', 'web10950', 'web10955', 'web10960', 'web10963', 'web10968', 'web10969', 'web10973', 'web10981', 'web10988', 'web10995', 'web11004', 'web11005', 'web11007', 'web11008', 'web11010', 'web11020', 'web11035', 'web11038', 'web11039', 'web11041', 'web11042', 'web11043', 'web11044', 'web11046', 'web11047', 'web11054', 'web11067', 'web11077', 'web11082', 'web11096', 'web11109', 'web11118', 'web11119', 'web11122', 'web11123', 'web11129', 'web11135', 'web11146', 'web11153', 'web11170', 'web11183', 'web11188', 'web11195', 'web11200', 'web11204', 'web11208', 'web11211', 'web11220', 'web11229', 'web11245', 'web11248', 'web11257', 'web11261', 'web11262', 'web11267', 'web11270', 'web11279', 'web11292', 'web11293', 'web11294', 'web11298', 'web11308', 'web11310', 'web11317', 'web11319', 'web11322', 'web11326', 'web11332', 'web11352', 'web11361', 'web11364', 'web11365', 'web11369', 'web11371', 'web11385', 'web11386', 'web11387', 'web11390', 'web11394', 'web11412', 'web11417', 'web11423', 'web11426', 'web11437', 'web11438', 'web11439', 'web11453', 'web11462', 'web11466', 'web11469', 'web11473', 'web11481', 'web11488', 'web11490', 'web11491', 'web11495', 'web11497', 'web11504', 'web11517', 'web11526', 'web11528', 'web11529', 'web11534', 'web11537', 'web11538', 'web11540', 'web11543', 'web11544', 'web11548', 'web11553', 'web11571', 'web11573', 'web11578', 'web11587', 'web11588', 'web11590', 'web11591', 'web11593', 'web11595', 'web11596', 'web11597', 'web11605', 'web11607', 'web11617', 'web11622', 'web11628', 'web11633', 'web11638', 'web11639', 'web11642', 'web11645', 'web11646', 'web11647', 'web11655', 'web11673', 'web11676', 'web11678', 'web11681', 'web11684', 'web11686', 'web11688', 'web11692', 'web11698', 'web11706', 'web11717', 'web11721', 'web11746', 'web11752', 'web11753', 'web11763', 'web11765', 'web11766', 'web11768', 'web11774', 'web11780', 'web11781', 'web11782', 'web11792', 'web11793', 'web11794', 'web11798', 'web11800', 'web11802', 'web11809', 'web11812', 'web11818', 'web11826', 'web11831', 'web11835', 'web11848', 'web11856', 'web11857', 'web11863', 'web11871', 'web11872', 'web11874', 'web11879', 'web11890', 'web11891', 'web11904', 'web11905', 'web11906', 'web11913', 'web11914', 'web11915', 'web11916', 'web11917', 'web11922', 'web11925', 'web11926', 'web11928', 'web11935', 'web11942', 'web11944', 'web11961', 'web11962', 'web11963', 'web11967', 'web11970', 'web11973', 'web11975', 'web11989', 'web11991', 'web11995', 'web12007', 'web12008', 'web12009', 'web12012', 'web12030', 'web12032', 'web12047', 'web12052', 'web12056', 'web12061', 'web12073', 'web12076', 'web12078', 'web12089', 'web12095', 'web12099', 'web12109', 'web12110', 'web12114', 'web12117', 'web12118', 'web12125', 'web12131', 'web12132', 'web12134', 'web12142', 'web12143', 'web12145', 'web12150', 'web12152', 'web12153', 'web12154', 'web12164', 'web12174', 'web12178', 'web12179', 'web12180', 'web12181', 'web12182', 'web12188', 'web12189', 'web12190', 'web12191', 'web12197', 'web12208', 'web12209', 'web12211', 'web12213', 'web12219', 'web12222', 'web12238', 'web12240', 'web12242', 'web12247', 'web12260', 'web12261', 'web12262', 'web12263', 'web12265', 'web12268', 'web12271', 'web12273', 'web12282', 'web12288', 'web12289', 'web12291', 'web12296', 'web12308', 'web12314', 'web12324', 'web12333', 'web12334', 'web12338', 'web12344', 'web12350', 'web12354', 'web12357', 'web12363', 'web12364', 'web12365', 'web12367', 'web12375', 'web12378', 'web12384', 'web12385', 'web12387', 'web12392', 'web12402', 'web12411', 'web12432', 'web12433', 'web12437', 'web12440', 'web12449', 'web12455', 'web12459', 'web12475', 'web12494', 'web12497', 'web12504', 'web12512', 'web12513', 'web12515', 'web12523', 'web12525', 'web12526', 'web12531', 'web12553', 'web12554', 'web12556', 'web12564', 'web12565', 'web12567', 'web12571', 'web12572', 'web12575', 'web12577', 'web12578', 'web12582', 'web12598', 'web12599', 'web12613', 'web12619', 'web12620', 'web12624', 'web12627', 'web12628', 'web12630', 'web12634', 'web12638', 'web12639', 'web12640', 'web12645', 'web12646', 'web12649', 'web12652', 'web12661', 'web12669', 'web12672', 'web12673', 'web12676', 'web12677', 'web12680', 'web12682', 'web12683', 'web12687', 'web12689', 'web12697', 'web12701', 'web12708', 'web12711', 'web12714', 'web12723', 'web12725', 'web12730', 'web12742', 'web12744', 'web12749', 'web12755', 'web12758', 'web12761', 'web12780', 'web12784', 'web12787', 'web12791', 'web12803', 'web12811', 'web12812', 'web12813', 'web12816', 'web12817', 'web12820', 'web12823', 'web12827', 'web12829', 'web12832', 'web12833', 'web12837', 'web12841', 'web12844', 'web12845', 'web12846', 'web12847', 'web12850', 'web12854', 'web12855', 'web12869', 'web12875', 'web12883', 'web12884', 'web12890', 'web12891', 'web12892', 'web12897', 'web12910', 'web12912', 'web12914', 'web12926', 'web12936', 'web12937', 'web12938', 'web12939', 'web12940', 'web12941', 'web12947', 'web12951', 'web12968', 'web12974', 'web12975', 'web12979', 'web12983', 'web12990', 'web13004', 'web13006', 'web13012', 'web13016', 'web13017', 'web13020', 'web13022', 'web13025', 'web13026', 'web13032', 'web13033', 'web13035', 'web13039', 'web13044', 'web13046', 'web13048', 'web13054', 'web13056', 'web13059', 'web13065', 'web13071', 'web13073', 'web13079', 'web13087', 'web13093', 'web13094', 'web13101', 'web13113', 'web13114', 'web13115', 'web13118', 'web13129', 'web13131', 'web13140', 'web13147', 'web13152', 'web13153', 'web13158', 'web13161', 'web13164', 'web13172', 'web13184', 'web13186', 'web13188', 'web13189', 'web13198', 'web13202', 'web13211', 'web13214', 'web13215', 'web13219', 'web13220', 'web13233', 'web13234', 'web13235', 'web13240', 'web13287', 'web13288', 'web13293', 'web13305', 'web13308', 'web13309', 'web13314', 'web13321', 'web13324', 'web13332', 'web13334', 'web13336', 'web13338', 'web13339', 'web13341', 'web13343', 'web13346', 'web13347', 'web13349', 'web13350', 'web13357', 'web13360', 'web13361', 'web13365', 'web13367', 'web13371', 'web13372', 'web13378', 'web13388', 'web13390', 'web13391', 'web13396', 'web13398', 'web13403', 'web13404', 'web13410', 'web13416', 'web13417', 'web13430', 'web13431', 'web13433', 'web13438', 'web13445', 'web13449', 'web13454', 'web13456', 'web13462', 'web13466', 'web13469', 'web13474', 'web13483', 'web13486', 'web13487', 'web13508', 'web13520', 'web13531', 'web13535', 'web13547', 'web13552', 'web13557', 'web13558', 'web13576', 'web13587', 'web13590', 'web13592', 'web13594', 'web13595', 'web13609', 'web13610', 'web13614', 'web13621', 'web13624', 'web13630', 'web13631', 'web13633', 'web13636', 'web13640', 'web13641', 'web13643', 'web13645', 'web13651', 'web13663', 'web13665', 'web13667', 'web13669', 'web13670', 'web13679', 'web13681', 'web13689', 'web13690', 'web13691', 'web13694', 'web13701', 'web13702', 'web13703', 'web13709', 'web13711', 'web13714', 'web13715', 'web13717', 'web13724', 'web13726', 'web13736', 'web13737', 'web13741', 'web13750', 'web13755', 'web13757', 'web13758', 'web13772', 'web13775', 'web13779', 'web13780', 'web13789', 'web13791', 'web13797', 'web13803', 'web13807', 'web13811', 'web13817', 'web13832', 'web13841', 'web13848', 'web13850', 'web13877', 'web13887', 'web13888', 'web13890', 'web13898', 'web13900', 'web13902', 'web13903', 'web13905', 'web13909', 'web13910', 'web13914', 'web13915', 'web13926', 'web13927', 'web13928', 'web13931', 'web13932', 'web13938', 'web13944', 'web13956', 'web13958', 'web13963', 'web13967', 'web13972', 'web13973', 'web13977', 'web13979', 'web13982', 'web13986', 'web13988', 'web13989', 'web13991', 'web13997', 'web14003', 'web14016', 'web14017', 'web14032', 'web14034', 'web14049', 'web14055', 'web14057', 'web14067', 'web14083', 'web14085', 'web14096', 'web14099', 'web14101', 'web14102', 'web14105', 'web14106', 'web14115', 'web14121', 'web14127', 'web14129', 'web14130', 'web14131', 'web14134', 'web14139', 'web14141', 'web14142', 'web14144', 'web14168', 'web14169', 'web14173', 'web14174', 'web14176', 'web14185', 'web14189', 'web14194', 'web14196', 'web14197', 'web14198', 'web14210', 'web14211', 'web14221', 'web14222', 'web14224', 'web14227', 'web14235', 'web14243', 'web14247', 'web14253', 'web14254', 'web14255', 'web14271', 'web14272', 'web14273', 'web14275', 'web14279', 'web14281', 'web14282', 'web14286', 'web14289', 'web14300', 'web14309', 'web14312', 'web14315', 'web14317', 'web14321', 'web14323', 'web14326', 'web14328', 'web14348', 'web14349', 'web14357', 'web14358', 'web14363', 'web14367', 'web14373', 'web14374', 'web14377', 'web14380', 'web14385', 'web14398', 'web14399', 'web14400', 'web14405', 'web14408', 'web14410', 'web14412', 'web14416', 'web14419', 'web14420', 'web14424', 'web14427', 'web14428', 'web14430', 'web14440', 'web14441', 'web14443', 'web14445', 'web14446', 'web14456', 'web14461', 'web14468', 'web14474', 'web14486', 'web14490', 'web14491', 'web14497', 'web14501', 'web14506', 'web14507', 'web14519', 'web14526', 'web14534', 'web14539', 'web14553', 'web14558', 'web14562', 'web14564', 'web14565', 'web14576', 'web14580', 'web14592', 'web14593', 'web14595', 'web14600', 'web14604', 'web14611', 'web14618', 'web14627', 'web14633', 'web14635', 'web14639', 'web14648', 'web14650', 'web14658', 'web14659', 'web14660', 'web14662', 'web14672', 'web14683', 'web14684', 'web14689', 'web14692', 'web14693', 'web14696', 'web14708', 'web14713', 'web14718', 'web14719', 'web14743', 'web14751', 'web14763', 'web14772', 'web14793', 'web14797', 'web14803', 'web14807', 'web14809', 'web14811', 'web14816', 'web14818', 'web14824', 'web14830', 'web14838', 'web14843', 'web14855', 'web14861', 'web14864', 'web14867', 'web14869', 'web14874', 'web14877', 'web14878', 'web14880', 'web14885', 'web14888', 'web14889', 'web14890', 'web14898', 'web14899', 'web14902', 'web14907', 'web14909', 'web14915', 'web14918', 'web14922', 'web14925', 'web14927', 'web14933', 'web14946', 'web14947', 'web14952', 'web14957', 'web14970', 'web14971', 'web14972', 'web14973', 'web14974', 'web14976', 'web14977', 'web14984', 'web14995', 'web15001', 'web15004', 'web15013', 'web15017', 'web15021', 'web15024', 'web15027', 'web15033', 'web15034', 'web15037', 'web15043', 'web15047', 'web15048', 'web15049', 'web15058', 'web15067', 'web15072', 'web15073', 'web15074', 'web15086', 'web15087', 'web15091', 'web15099', 'web15100', 'web15105', 'web15106', 'web15112', 'web15113', 'web15114', 'web15117', 'web15119', 'web15129', 'web15131', 'web15132', 'web15134', 'web15135', 'web15136', 'web15137', 'web15138', 'web15152', 'web15155', 'web15156', 'web15157', 'web15166', 'web15170', 'web15171', 'web15179', 'web15187', 'web15190', 'web15193', 'web15194', 'web15199', 'web15200', 'web15206', 'web15213', 'web15216', 'web15217', 'web15219', 'web15222', 'web15224', 'web15229', 'web15238', 'web15239', 'web15253', 'web15254', 'web15268', 'web15269', 'web15270', 'web15274', 'web15280', 'web15281', 'web15284', 'web15287', 'web15291', 'web15297', 'web15298', 'web15303', 'web15306', 'web15308', 'web15310', 'web15311', 'web15316', 'web15320', 'web15329', 'web15333', 'web15334', 'web15337', 'web15342', 'web15345', 'web15356', 'web15367', 'web15369', 'web15370', 'web15371', 'web15373', 'web15376', 'web15378', 'web15390', 'web15393', 'web15394', 'web15401', 'web15402', 'web15404', 'web15409', 'web15413', 'web15416', 'web15417', 'web15420', 'web15423', 'web15428', 'web15432', 'web15436', 'web15448', 'web15449', 'web15450', 'web15452', 'web15454', 'web15456', 'web15461', 'web15462', 'web15467', 'web15471', 'web15473', 'web15475', 'web15480', 'web15486', 'web15487', 'web15491', 'web15501', 'web15502', 'web15514', 'web15515', 'web15518', 'web15526', 'web15527', 'web15528', 'web15529', 'web15531', 'web15532', 'web15533', 'web15535', 'web15536', 'web15543', 'web15547', 'web15548', 'web15551', 'web15554', 'web15564', 'web15568', 'web15572', 'web15581', 'web15591', 'web15595', 'web15598', 'web15599', 'web15602', 'web15615', 'web15616', 'web15617', 'web15618', 'web15619', 'web15621', 'web15627', 'web15630', 'web15631', 'web15632', 'web15636', 'web15654', 'web15656', 'web15657', 'web15669', 'web15675', 'web15678', 'web15680', 'web15682', 'web15685', 'web15699', 'web15714', 'web15716', 'web15719', 'web15722', 'web15725', 'web15728', 'web15731', 'web15736', 'web15737', 'web15739', 'web15752', 'web15754', 'web15763', 'web15768', 'web15771', 'web15773', 'web15781', 'web15789', 'web15806', 'web15809', 'web15821', 'web15826', 'web15828', 'web15838', 'web15840', 'web15841', 'web15843', 'web15844', 'web15847', 'web15849', 'web15851', 'web15853', 'web15858', 'web15859', 'web15860', 'web15861', 'web15862', 'web15864', 'web15865', 'web15870', 'web15871', 'web15878', 'web15880', 'web15882', 'web15883', 'web15884', 'web15887', 'web15889', 'web15895', 'web15897', 'web15898', 'web15903', 'web15904', 'web15905', 'web15909', 'web15911', 'web15912', 'web15913', 'web15915', 'web15919', 'web15944', 'web15947', 'web15961', 'web15964', 'web15969', 'web15976', 'web15980', 'web15985', 'web15989', 'web15990', 'web15991', 'web15995', 'web16000', 'web16001', 'web16002', 'web16003', 'web16004', 'web16005', 'web16007', 'web16009', 'web16012', 'web16013', 'web16022', 'web16031', 'web16037', 'web16039', 'web16042', 'web16045', 'web16047', 'web16054', 'web16057', 'web16060', 'web16063', 'web16066', 'web16071', 'web16072', 'web16080', 'web16085', 'web16097', 'web16100', 'web16104', 'web16108', 'web16110', 'web16111', 'web16114', 'web16118', 'web16119', 'web16121', 'web16123', 'web16127', 'web16152', 'web16157', 'web16174', 'web16176', 'web16189', 'web16191', 'web16202', 'web16207', 'web16208', 'web16209', 'web16210', 'web16223', 'web16225', 'web16229', 'web16236', 'web16237', 'web16242', 'web16245', 'web16249', 'web16252', 'web16271', 'web16273', 'web16284', 'web16295', 'web16298', 'web16303', 'web16306', 'web16309', 'web16310', 'web16326', 'web16327', 'web16328', 'web16329', 'web16336', 'web16340', 'web16341', 'web16346', 'web16350', 'web16356', 'web16357', 'web16358', 'web16361', 'web16363', 'web16370', 'web16371', 'web16375', 'web16387', 'web16391', 'web16392', 'web16393', 'web16396', 'web16401', 'web16404', 'web16415', 'web16417', 'web16419', 'web16430', 'web16431', 'web16434', 'web16440', 'web16446', 'web16450', 'web16455', 'web16456', 'web16466', 'web16467', 'web16469', 'web16501', 'web16502', 'web16503', 'web16528', 'web16533', 'web16534', 'web16543', 'web16550', 'web16551', 'web16554', 'web16561', 'web16568', 'web16570', 'web16571', 'web16578', 'web16589', 'web16593', 'web16594', 'web16597', 'web16598', 'web16601', 'web16605', 'web16617', 'web16618', 'web16619', 'web16620', 'web16625', 'web16626', 'web16628', 'web16640', 'web16643', 'web16646', 'web16650', 'web16651', 'web16652', 'web16653', 'web16656', 'web16663', 'web16665', 'web16668', 'web16679', 'web16681', 'web16691', 'web16692', 'web16694', 'web16695', 'web16696', 'web16700', 'web16706', 'web16707', 'web16708', 'web16712', 'web16723', 'web16735', 'web16739', 'web16751', 'web16754', 'web16759', 'web16760', 'web16761', 'web16763', 'web16764', 'web16765', 'web16768', 'web16773', 'web16774', 'web16775', 'web16779', 'web16791', 'web16793', 'web16794', 'web16795', 'web16798', 'web16799', 'web16806', 'web16808', 'web16812', 'web16814', 'web16815', 'web16818', 'web16820', 'web16821', 'web16822', 'web16828', 'web16835', 'web16838', 'web16846', 'web16852', 'web16855', 'web16869', 'web16874', 'web16878', 'web16881', 'web16884', 'web16885', 'web16891', 'web16894', 'web16902', 'web16904', 'web16910', 'web16913', 'web16916', 'web16923', 'web16925', 'web16928', 'web16929', 'web16943', 'web16945', 'web16946', 'web16949', 'web16951', 'web16952', 'web16954', 'web16956', 'web16962', 'web16963', 'web16968', 'web16976', 'web16981', 'web16984', 'web16988', 'web16994', 'web16996', 'web17007', 'web17015', 'web17017', 'web17031', 'web17033', 'web17035', 'web17039', 'web17048', 'web17052', 'web17056', 'web17057', 'web17060', 'web17066', 'web17068', 'web17072', 'web17075', 'web17078', 'web17080', 'web17086', 'web17088', 'web17090', 'web17093', 'web17094', 'web17100', 'web17108', 'web17116', 'web17118', 'web17120', 'web17129', 'web17130', 'web17131', 'web17133', 'web17134', 'web17155', 'web17156', 'web17160', 'web17161', 'web17164', 'web17169', 'web17173', 'web17179', 'web17182', 'web17184', 'web17199', 'web17201', 'web17202', 'web17205', 'web17219', 'web17233', 'web17234', 'web17238', 'web17248', 'web17252', 'web17254', 'web17256', 'web17259', 'web17261', 'web17263', 'web17265', 'web17269', 'web17271', 'web17276', 'web17277', 'web17283', 'web17287', 'web17290', 'web17297', 'web17298', 'web17304', 'web17305', 'web17306', 'web17309', 'web17313', 'web17314', 'web17318', 'web17322', 'web17323', 'web17324', 'web17325', 'web17329', 'web17333', 'web17335', 'web17341', 'web17342', 'web17349', 'web17355', 'web17358', 'web17362', 'web17382', 'web17393', 'web17395', 'web17399', 'web17408', 'web17411', 'web17414', 'web17420', 'web17426', 'web17427', 'web17430', 'web17440', 'web17445', 'web17447', 'web17448', 'web17451', 'web17452', 'web17453', 'web17463', 'web17466', 'web17472', 'web17478', 'web17483', 'web17493', 'web17506', 'web17512', 'web17526', 'web17533', 'web17535', 'web17536', 'web17541', 'web17543', 'web17557', 'web17561', 'web17564', 'web17583', 'web17584', 'web17586', 'web17588', 'web17589', 'web17591', 'web17592', 'web17595', 'web17601', 'web17604', 'web17606', 'web17615', 'web17618', 'web17619', 'web17621', 'web17622', 'web17626', 'web17628', 'web17644', 'web17656', 'web17664', 'web17673', 'web17687', 'web17699', 'web17700', 'web17701', 'web17706', 'web17710', 'web17716', 'web17717', 'web17721', 'web17729', 'web17737', 'web17741', 'web17748', 'web17761', 'web17762', 'web17763', 'web17765', 'web17767', 'web17778', 'web17782', 'web17791', 'web17804', 'web17816', 'web17817', 'web17825', 'web17827', 'web17839', 'web17847', 'web17849', 'web17850', 'web17856', 'web17866', 'web17867', 'web17877', 'web17880', 'web17887', 'web17890', 'web17898', 'web17899', 'web17901', 'web17904', 'web17909', 'web17917', 'web17922', 'web17924', 'web17925', 'web17937', 'web17938', 'web17942', 'web17953', 'web17957', 'web17968', 'web17971', 'web17981', 'web17994', 'web17995', 'web17997', 'web17998', 'web18013', 'web18022', 'web18024', 'web18031', 'web18036', 'web18046', 'web18054', 'web18056', 'web18066', 'web18072', 'web18081', 'web18084', 'web18091', 'web18103', 'web18105', 'web18124', 'web18125', 'web18128', 'web18138', 'web18143', 'web18156', 'web18160', 'web18165', 'web18167', 'web18174', 'web18175', 'web18177', 'web18178', 'web18184', 'web18206', 'web18214', 'web18216', 'web18227', 'web18233', 'web18235', 'web18243', 'web18247', 'web18256', 'web18257', 'web18268', 'web18269', 'web18275', 'web18277', 'web18285', 'web18295', 'web18296', 'web18303', 'web18305', 'web18308', 'web18312', 'web18320', 'web18326', 'web18330', 'web18334', 'web18339', 'web18342', 'web18348', 'web18353', 'web18354', 'web18362', 'web18369', 'web18372', 'web18381', 'web18382', 'web18390', 'web18392', 'web18393', 'web18400', 'web18402', 'web18408', 'web18416', 'web18421', 'web18422', 'web18424', 'web18429', 'web18435', 'web18437', 'web18445', 'web18446', 'web18448', 'web18452', 'web18458', 'web18463', 'web18465', 'web18472', 'web18483', 'web18484', 'web18495', 'web18496', 'web18498', 'web18507', 'web18514', 'web18516', 'web18523', 'web18529', 'web18530', 'web18532', 'web18535', 'web18540', 'web18543', 'web18548', 'web18552', 'web18577', 'web18589', 'web18596', 'web18598', 'web18599', 'web18600', 'web18605', 'web18608', 'web18615', 'web18619', 'web18628', 'web18631', 'web18632', 'web18633', 'web18637', 'web18646', 'web18658', 'web18663', 'web18674', 'web18677', 'web18699', 'web18709', 'web18710', 'web18714', 'web18718', 'web18720', 'web18722', 'web18731', 'web18737', 'web18744', 'web18757', 'web18766', 'web18773', 'web18778', 'web18783', 'web18784', 'web18787', 'web18791', 'web18792', 'web18797', 'web18805', 'web18810', 'web18812', 'web18816', 'web18822', 'web18836', 'web18840', 'web18849', 'web18852', 'web18854', 'web18855', 'web18856', 'web18858', 'web18860', 'web18868', 'web18872', 'web18876', 'web18881', 'web18892', 'web18909', 'web18912', 'web18915', 'web18917', 'web18929', 'web18931', 'web18932', 'web18938', 'web18940', 'web18956', 'web18960', 'web18965', 'web18967', 'web18972', 'web18975', 'web18978', 'web18979', 'web18985', 'web18999', 'web19001', 'web19004', 'web19005', 'web19011', 'web19012', 'web19013', 'web19014', 'web19015', 'web19018', 'web19023', 'web19027', 'web19028', 'web19032', 'web19036', 'web19043', 'web19046', 'web19047', 'web19049', 'web19051', 'web19057', 'web19059', 'web19063', 'web19069', 'web19071', 'web19073', 'web19079', 'web19084', 'web19085', 'web19086', 'web19090', 'web19096', 'web19100', 'web19107', 'web19108', 'web19117', 'web19128', 'web19138', 'web19147', 'web19158', 'web19163', 'web19167', 'web19172', 'web19173', 'web19200', 'web19201', 'web19202', 'web19208', 'web19214', 'web19215', 'web19216', 'web19223', 'web19225', 'web19229', 'web19231', 'web19232', 'web19235', 'web19238', 'web19239', 'web19246', 'web19248', 'web19253', 'web19259', 'web19270', 'web19275', 'web19276', 'web19281', 'web19284', 'web19291', 'web19294', 'web19299', 'web19302', 'web19305', 'web19306', 'web19307', 'web19317', 'web19329', 'web19330', 'web19335', 'web19336', 'web19337', 'web19340', 'web19342', 'web19343', 'web19348', 'web19355', 'web19368', 'web19369', 'web19370', 'web19375', 'web19380', 'web19382', 'web19387', 'web19388', 'web19390', 'web19397', 'web19400', 'web19401', 'web19403', 'web19410', 'web19413', 'web19414', 'web19415', 'web19423', 'web19432', 'web19441', 'web19442', 'web19449', 'web19454', 'web19455', 'web19458', 'web19461', 'web19466', 'web19472', 'web19479', 'web19480', 'web19483', 'web19484', 'web19489', 'web19494', 'web19507', 'web19510', 'web19514', 'web19521', 'web19525', 'web19532', 'web19543', 'web19545', 'web19546', 'web19552', 'web19555', 'web19556', 'web19559', 'web19564', 'web19566', 'web19567', 'web19572', 'web19573', 'web19576', 'web19579', 'web19584', 'web19587', 'web19591', 'web19594', 'web19596', 'web19602', 'web19608', 'web19624', 'web19628', 'web19631', 'web19642', 'web19649', 'web19650', 'web19664', 'web19665', 'web19666', 'web19667', 'web19669', 'web19677', 'web19678', 'web19683', 'web19686', 'web19688', 'web19690', 'web19697', 'web19698', 'web19707', 'web19720', 'web19728', 'web19733', 'web19734', 'web19738', 'web19739', 'web19740', 'web19742', 'web19747', 'web19749', 'web19750', 'web19752', 'web19753', 'web19756', 'web19765', 'web19771', 'web19775', 'web19778', 'web19780', 'web19789', 'web19796', 'web19798', 'web19800', 'web19803', 'web19806', 'web19808', 'web19809', 'web19814', 'web19817', 'web19821', 'web19823', 'web19826', 'web19828', 'web19829', 'web19832', 'web19835', 'web19844', 'web19856', 'web19858', 'web19865', 'web19883', 'web19889', 'web19890', 'web19891', 'web19896', 'web19897', 'web19899', 'web19904', 'web19907', 'web19910', 'web19920', 'web19927', 'web19928', 'web19932', 'web19938', 'web19940', 'web19946', 'web19947', 'web19948', 'web19961', 'web19962', 'web19967', 'web19970', 'web19977', 'web19984', 'web19988', 'web19994', 'web20008', 'web20009', 'web20010', 'web20011', 'web20022', 'web20027', 'web20030', 'web20036', 'web20038', 'web20039', 'web20042', 'web20044', 'web20045', 'web20054', 'web20055', 'web20057', 'web20060', 'web20078', 'web20079', 'web20081', 'web20083', 'web20088', 'web20089', 'web20091', 'web20105', 'web20108', 'web20110', 'web20111', 'web20127', 'web20130', 'web20140', 'web20143', 'web20147', 'web20159', 'web20160', 'web20170', 'web20171', 'web20174', 'web20187', 'web20188', 'web20191', 'web20193', 'web20194', 'web20196', 'web20201', 'web20214', 'web20230', 'web20242', 'web20245', 'web20250', 'web20252', 'web20254', 'web20257', 'web20261', 'web20264', 'web20270', 'web20275', 'web20280', 'web20291', 'web20296', 'web20298', 'web20301', 'web20305', 'web20309', 'web20318', 'web20322', 'web20325', 'web20338', 'web20339', 'web20341', 'web20343', 'web20346', 'web20359', 'web20360', 'web20361', 'web20363', 'web20364', 'web20371', 'web20375', 'web20376', 'web20381', 'web20384', 'web20385', 'web20390', 'web20393', 'web20394', 'web20397', 'web20401', 'web20402', 'web20403', 'web20408', 'web20410', 'web20414', 'web20419', 'web20420', 'web20421', 'web20422', 'web20425', 'web20426', 'web20427', 'web20431', 'web20435', 'web20437', 'web20442', 'web20443', 'web20449', 'web20455', 'web20461', 'web20462', 'web20463', 'web20464', 'web20470', 'web20471', 'web20486', 'web20487', 'web20491', 'web20492', 'web20499', 'web20505', 'web20524', 'web20525', 'web20529', 'web20533', 'web20537', 'web20540', 'web20542', 'web20545', 'web20549', 'web20551', 'web20552', 'web20555', 'web20556', 'web20558', 'web20559', 'web20567', 'web20569', 'web20572', 'web20581', 'web20594', 'web20595', 'web20597', 'web20600', 'web20602', 'web20603', 'web20604', 'web20609', 'web20612', 'web20616', 'web20618', 'web20621', 'web20634', 'web20640', 'web20643', 'web20644', 'web20646', 'web20647', 'web20649', 'web20661', 'web20662', 'web20665', 'web20667', 'web20668', 'web20671', 'web20685', 'web20686', 'web20690', 'web20694', 'web20698', 'web20706', 'web20708', 'web20711', 'web20715', 'web20716', 'web20721', 'web20726', 'web20739', 'web20741', 'web20752', 'web20753', 'web20788', 'web20792', 'web20794', 'web20797', 'web20804', 'web20819', 'web20821', 'web20830', 'web20833', 'web20840', 'web20849', 'web20853', 'web20862', 'web20864', 'web20872', 'web20881', 'web20887', 'web20890', 'web20891', 'web20895', 'web20902', 'web20916', 'web20918', 'web20922', 'web20928', 'web20935', 'web20937', 'web20938', 'web20959', 'web20962', 'web20965', 'web20973', 'web20977', 'web20981', 'web20982', 'web20988', 'web20991', 'web20994', 'web20996', 'web21002', 'web21003', 'web21004', 'web21006', 'web21016', 'web21020', 'web21021', 'web21026', 'web21030', 'web21035', 'web21036', 'web21043', 'web21052', 'web21058', 'web21062', 'web21065', 'web21075', 'web21078', 'web21081', 'web21082', 'web21083', 'web21084', 'web21090', 'web21098', 'web21100', 'web21102', 'web21109', 'web21114', 'web21119', 'web21120', 'web21125', 'web21126', 'web21127', 'web21129', 'web21135', 'web21146', 'web21150', 'web21151', 'web51', 'web140', 'web159', 'web162', 'web229', 'web251', 'web333', 'web371', 'web401', 'web428', 'web560', 'web567', 'web616', 'web619', 'web636', 'web706', 'web810', 'web883', 'web889', 'web892', 'web912', 'web918', 'web993', 'web1042', 'web1076', 'web1087', 'web1099', 'web1112', 'web1120', 'web1160', 'web1202', 'web1276', 'web1288', 'web1348', 'web1409', 'web1467', 'web1511', 'web1617', 'web1618', 'web1626', 'web1688', 'web1689', 'web1696', 'web1716', 'web1738', 'web1758', 'web1773', 'web1808', 'web1827', 'web1829', 'web1877', 'web1940', 'web1944', 'web1955', 'web1983', 'web2074', 'web2174', 'web2178', 'web2205', 'web2232', 'web2247', 'web2314', 'web2316', 'web2318', 'web2326', 'web2357', 'web2362', 'web2406', 'web2463', 'web2489', 'web2563', 'web2700', 'web2727', 'web2730', 'web2772', 'web2862', 'web2863', 'web2887', 'web2888', 'web2903', 'web2925', 'web2933', 'web2995', 'web3054', 'web3092', 'web3143', 'web3180', 'web3188', 'web3220', 'web3244', 'web3262', 'web3403', 'web3416', 'web3421', 'web3488', 'web3534', 'web3552', 'web3569', 'web3689', 'web3695', 'web3697', 'web3791', 'web3817', 'web3862', 'web3875', 'web3890', 'web3892', 'web4054', 'web4104', 'web4117', 'web4152', 'web4163', 'web4198', 'web4208', 'web4209', 'web4216', 'web4238', 'web4265', 'web4304', 'web4470', 'web4471', 'web4472', 'web4484', 'web4487', 'web4530', 'web4537', 'web4556', 'web4562', 'web4641', 'web4657', 'web4700', 'web4709', 'web4710', 'web4736', 'web4749', 'web4847', 'web4890', 'web4900', 'web4937', 'web4938', 'web4974', 'web4979', 'web5001', 'web5050', 'web5064', 'web5078', 'web5091', 'web5146', 'web5266', 'web5287', 'web5330', 'web5336', 'web5368', 'web5450', 'web5452', 'web5468', 'web5493', 'web5500', 'web5524', 'web5579', 'web5607', 'web5660', 'web5802', 'web5849', 'web5874', 'web5906', 'web5949', 'web5951', 'web5963', 'web5969', 'web5973', 'web5999', 'web6046', 'web6080', 'web6185', 'web6242', 'web6257', 'web6272', 'web6300', 'web6314', 'web6357', 'web6368', 'web6431', 'web6467', 'web6494', 'web6497', 'web6510', 'web6515', 'web6547', 'web6549', 'web6607', 'web6610', 'web6684', 'web6694', 'web6712', 'web6936', 'web6976', 'web7017', 'web7053', 'web7086', 'web7096', 'web7112', 'web7116', 'web7189', 'web7214', 'web7220', 'web7222', 'web7260', 'web7281', 'web7315', 'web7344', 'web7347', 'web7369', 'web7384', 'web7419', 'web7480', 'web7592', 'web7678', 'web7732', 'web7736', 'web7738', 'web7775', 'web7921', 'web7945', 'web7962', 'web8008', 'web8030', 'web8078', 'web8096', 'web8190', 'web8194', 'web8210', 'web8247', 'web8265', 'web8303', 'web8317', 'web8348', 'web8350', 'web8436', 'web8451', 'web8528', 'web8534', 'web8546', 'web8627', 'web8712', 'web8735', 'web8773', 'web8838', 'web8848', 'web8895', 'web8902', 'web8903', 'web8964', 'web9101', 'web9149', 'web9160', 'web9215', 'web9239', 'web9252', 'web9276', 'web9303', 'web9347', 'web9391', 'web9434', 'web9518', 'web9553', 'web9562', 'web9613', 'web9665', 'web9691', 'web9780', 'web9795', 'web9798', 'web9813', 'web9814', 'web9816', 'web9849', 'web9868', 'web10020', 'web10031', 'web10095', 'web10112', 'web10116', 'web10222', 'web10283', 'web10393', 'web10413', 'web10425', 'web10438', 'web10463', 'web10532', 'web10538', 'web10539', 'web10567', 'web10584', 'web10639', 'web10720', 'web10787', 'web10833', 'web10906', 'web10949', 'web10962', 'web11121', 'web11147', 'web11180', 'web11235', 'web11244', 'web11256', 'web11258', 'web11264', 'web11287', 'web11290', 'web11316', 'web11345', 'web11355', 'web11382', 'web11410', 'web11511', 'web11566', 'web11604', 'web11650', 'web11754', 'web11778', 'web11832', 'web11850', 'web11897', 'web11899', 'web11937', 'web11968', 'web11984', 'web11987', 'web11988', 'web12050', 'web12204', 'web12223', 'web12281', 'web12294', 'web12370', 'web12372', 'web12395', 'web12480', 'web12502', 'web12508', 'web12555', 'web12605', 'web12609', 'web12635', 'web12642', 'web12653', 'web12666', 'web12667', 'web12688', 'web12693', 'web12795', 'web12807', 'web12865', 'web12915', 'web13036', 'web13052', 'web13067', 'web13084', 'web13143', 'web13165', 'web13171', 'web13275', 'web13303', 'web13348', 'web13352', 'web13389', 'web13419', 'web13506', 'web13565', 'web13566', 'web13617', 'web13627', 'web13646', 'web13655', 'web13707', 'web13760', 'web13781', 'web13783', 'web13805', 'web13880', 'web13920', 'web13921', 'web14022', 'web14033', 'web14041', 'web14061', 'web14073', 'web14120', 'web14138', 'web14143', 'web14145', 'web14156', 'web14256', 'web14418', 'web14477', 'web14512', 'web14533', 'web14552', 'web14681', 'web14731', 'web14792', 'web14820', 'web14859', 'web14921', 'web15029', 'web15039', 'web15050', 'web15056', 'web15084', 'web15094', 'web15124', 'web15169', 'web15178', 'web15202', 'web15259', 'web15380', 'web15406', 'web15431', 'web15499', 'web15622', 'web15638', 'web15676', 'web15696', 'web15717', 'web15738', 'web15751', 'web15780', 'web15890', 'web15892', 'web15924', 'web15960', 'web16103', 'web16159', 'web16195', 'web16235', 'web16258', 'web16262', 'web16263', 'web16366', 'web16373', 'web16397', 'web16445', 'web16477', 'web16507', 'web16520', 'web16590', 'web16612', 'web16641', 'web16645', 'web16661', 'web16685', 'web16687', 'web16689', 'web16748', 'web16807', 'web16813', 'web16825', 'web16877', 'web16905', 'web16919', 'web16921', 'web16953', 'web16958', 'web16971', 'web17024', 'web17038', 'web17047', 'web17070', 'web17085', 'web17211', 'web17215', 'web17230', 'web17231', 'web17312', 'web17364', 'web17406', 'web17410', 'web17422', 'web17450', 'web17503', 'web17509', 'web17562', 'web17579', 'web17686', 'web17692', 'web17698', 'web17715', 'web17718', 'web17775', 'web17777', 'web17781', 'web17803', 'web17833', 'web17934', 'web17975', 'web18034', 'web18069', 'web18085', 'web18149', 'web18187', 'web18224', 'web18266', 'web18284', 'web18371', 'web18378', 'web18438', 'web18524', 'web18546', 'web18603', 'web18604', 'web18620', 'web18635', 'web18717', 'web18723', 'web18728', 'web18880', 'web18886', 'web18893', 'web18908', 'web18911', 'web18957', 'web19003', 'web19010', 'web19033', 'web19034', 'web19039', 'web19095', 'web19148', 'web19192', 'web19212', 'web19254', 'web19283', 'web19313', 'web19324', 'web19344', 'web19383', 'web19395', 'web19396', 'web19404', 'web19418', 'web19491', 'web19503', 'web19513', 'web19517', 'web19562', 'web19582', 'web19721', 'web19776', 'web19783', 'web19805', 'web19830', 'web19836', 'web19878', 'web19898', 'web20003', 'web20024', 'web20037', 'web20195', 'web20197', 'web20303', 'web20326', 'web20356', 'web20407', 'web20438', 'web20469', 'web20596', 'web20679', 'web20731', 'web20921', 'web20961', 'web20992', 'web21025', 'web21041', 'web21073', 'web21076', 'web21079', 'web21094', 'web21147', 'web9', 'web23', 'web37', 'web47', 'web53', 'web54', 'web55', 'web60', 'web72', 'web75', 'web80', 'web88', 'web97', 'web105', 'web170', 'web176', 'web177', 'web217', 'web231', 'web241', 'web246', 'web248', 'web260', 'web274', 'web281', 'web291', 'web301', 'web319', 'web320', 'web336', 'web359', 'web361', 'web370', 'web372', 'web402', 'web404', 'web421', 'web502', 'web531', 'web534', 'web535', 'web564', 'web654', 'web676', 'web686', 'web693', 'web701', 'web716', 'web723', 'web724', 'web730', 'web739', 'web749', 'web764', 'web774', 'web777', 'web789', 'web791', 'web804', 'web806', 'web814', 'web815', 'web819', 'web826', 'web860', 'web877', 'web895', 'web936', 'web944', 'web947', 'web952', 'web990', 'web1009', 'web1013', 'web1040', 'web1058', 'web1059', 'web1124', 'web1129', 'web1131', 'web1178', 'web1182', 'web1190', 'web1192', 'web1243', 'web1255', 'web1258', 'web1267', 'web1270', 'web1275', 'web1281', 'web1286', 'web1311', 'web1328', 'web1329', 'web1338', 'web1346', 'web1349', 'web1351', 'web1353', 'web1391', 'web1405', 'web1419', 'web1436', 'web1441', 'web1463', 'web1480', 'web1495', 'web1498', 'web1507', 'web1531', 'web1547', 'web1560', 'web1573', 'web1577', 'web1596', 'web1616', 'web1627', 'web1659', 'web1663', 'web1686', 'web1693', 'web1708', 'web1725', 'web1728', 'web1732', 'web1753', 'web1757', 'web1768', 'web1772', 'web1784', 'web1785', 'web1786', 'web1823', 'web1826', 'web1835', 'web1841', 'web1898', 'web1899', 'web1928', 'web1933', 'web1942', 'web1946', 'web1975', 'web2053', 'web2067', 'web2075', 'web2101', 'web2122', 'web2130', 'web2162', 'web2183', 'web2185', 'web2189', 'web2190', 'web2217', 'web2220', 'web2233', 'web2269', 'web2295', 'web2311', 'web2353', 'web2359', 'web2367', 'web2389', 'web2403', 'web2422', 'web2424', 'web2435', 'web2527', 'web2567', 'web2595', 'web2597', 'web2620', 'web2638', 'web2669', 'web2678', 'web2685', 'web2690', 'web2697', 'web2740', 'web2743', 'web2775', 'web2793', 'web2800', 'web2805', 'web2810', 'web2867', 'web2868', 'web2972', 'web2980', 'web3028', 'web3043', 'web3057', 'web3059', 'web3101', 'web3103', 'web3106', 'web3109', 'web3126', 'web3148', 'web3182', 'web3186', 'web3211', 'web3218', 'web3261', 'web3274', 'web3292', 'web3323', 'web3347', 'web3358', 'web3364', 'web3412', 'web3413', 'web3424', 'web3435', 'web3447', 'web3450', 'web3473', 'web3489', 'web3538', 'web3553', 'web3586', 'web3611', 'web3664', 'web3665', 'web3675', 'web3684', 'web3727', 'web3733', 'web3760', 'web3792', 'web3833', 'web3835', 'web3846', 'web3850', 'web3895', 'web3912', 'web3926', 'web3933', 'web3958', 'web3962', 'web4012', 'web4030', 'web4031', 'web4051', 'web4066', 'web4068', 'web4078', 'web4092', 'web4098', 'web4099', 'web4114', 'web4127', 'web4155', 'web4164', 'web4172', 'web4185', 'web4226', 'web4255', 'web4258', 'web4296', 'web4307', 'web4312', 'web4323', 'web4339', 'web4355', 'web4358', 'web4371', 'web4379', 'web4387', 'web4395', 'web4399', 'web4410', 'web4428', 'web4455', 'web4493', 'web4518', 'web4521', 'web4522', 'web4559', 'web4560', 'web4569', 'web4577', 'web4580', 'web4622', 'web4626', 'web4645', 'web4667', 'web4671', 'web4687', 'web4713', 'web4725', 'web4726', 'web4727', 'web4782', 'web4845', 'web4856', 'web4864', 'web4867', 'web4870', 'web4934', 'web4940', 'web4957', 'web4959', 'web4977', 'web5004', 'web5013', 'web5018', 'web5035', 'web5058', 'web5061', 'web5063', 'web5089', 'web5152', 'web5158', 'web5179', 'web5209', 'web5220', 'web5234', 'web5253', 'web5271', 'web5303', 'web5305', 'web5312', 'web5387', 'web5401', 'web5404', 'web5422', 'web5432', 'web5467', 'web5533', 'web5559', 'web5568', 'web5581', 'web5598', 'web5614', 'web5654', 'web5686', 'web5758', 'web5771', 'web5798', 'web5805', 'web5809', 'web5818', 'web5821', 'web5822', 'web5827', 'web5838', 'web5840', 'web5844', 'web5851', 'web5853', 'web5862', 'web5869', 'web5880', 'web5915', 'web5916', 'web5928', 'web5930', 'web5972', 'web6011', 'web6026', 'web6029', 'web6043', 'web6062', 'web6068', 'web6075', 'web6093', 'web6097', 'web6121', 'web6132', 'web6169', 'web6176', 'web6179', 'web6189', 'web6190', 'web6192', 'web6233', 'web6238', 'web6263', 'web6274', 'web6290', 'web6319', 'web6333', 'web6362', 'web6375', 'web6398', 'web6417', 'web6423', 'web6426', 'web6460', 'web6522', 'web6546', 'web6560', 'web6609', 'web6628', 'web6636', 'web6637', 'web6649', 'web6672', 'web6689', 'web6709', 'web6730', 'web6734', 'web6747', 'web6759', 'web6783', 'web6788', 'web6797', 'web6798', 'web6862', 'web6877', 'web6905', 'web6926', 'web6930', 'web6933', 'web6956', 'web6977', 'web6987', 'web6989', 'web7005', 'web7042', 'web7091', 'web7100', 'web7108', 'web7136', 'web7142', 'web7158', 'web7191', 'web7204', 'web7237', 'web7242', 'web7248', 'web7264', 'web7278', 'web7282', 'web7288', 'web7291', 'web7313', 'web7338', 'web7371', 'web7380', 'web7388', 'web7393', 'web7404', 'web7414', 'web7421', 'web7430', 'web7453', 'web7464', 'web7466', 'web7492', 'web7496', 'web7508', 'web7513', 'web7526', 'web7595', 'web7625', 'web7635', 'web7644', 'web7661', 'web7677', 'web7701', 'web7703', 'web7768', 'web7772', 'web7777', 'web7779', 'web7780', 'web7798', 'web7820', 'web7847', 'web7855', 'web7862', 'web7878', 'web7884', 'web7888', 'web7891', 'web7932', 'web7963', 'web7981', 'web7996', 'web8012', 'web8032', 'web8059', 'web8088', 'web8104', 'web8134', 'web8145', 'web8155', 'web8164', 'web8166', 'web8168', 'web8172', 'web8173', 'web8258', 'web8311', 'web8323', 'web8330', 'web8353', 'web8356', 'web8357', 'web8358', 'web8377', 'web8434', 'web8435', 'web8447', 'web8493', 'web8496', 'web8497', 'web8548', 'web8560', 'web8583', 'web8585', 'web8628', 'web8641', 'web8645', 'web8687', 'web8691', 'web8695', 'web8703', 'web8715', 'web8744', 'web8762', 'web8785', 'web8809', 'web8832', 'web8878', 'web8894', 'web8911', 'web8914', 'web8924', 'web8930', 'web8942', 'web8982', 'web8993', 'web8999', 'web9007', 'web9026', 'web9027', 'web9031', 'web9045', 'web9049', 'web9055', 'web9085', 'web9117', 'web9125', 'web9146', 'web9151', 'web9152', 'web9166', 'web9171', 'web9209', 'web9211', 'web9225', 'web9229', 'web9230', 'web9242', 'web9247', 'web9261', 'web9282', 'web9290', 'web9324', 'web9337', 'web9354', 'web9355', 'web9378', 'web9386', 'web9415', 'web9435', 'web9439', 'web9485', 'web9498', 'web9514', 'web9546', 'web9554', 'web9571', 'web9594', 'web9598', 'web9603', 'web9607', 'web9610', 'web9611', 'web9627', 'web9673', 'web9677', 'web9680', 'web9684', 'web9708', 'web9727', 'web9749', 'web9753', 'web9756', 'web9764', 'web9797', 'web9817', 'web9826', 'web9837', 'web9871', 'web9887', 'web9946', 'web9970', 'web9976', 'web9990', 'web10012', 'web10015', 'web10041', 'web10044', 'web10048', 'web10058', 'web10107', 'web10123', 'web10133', 'web10143', 'web10188', 'web10235', 'web10241', 'web10245', 'web10269', 'web10327', 'web10334', 'web10349', 'web10421', 'web10439', 'web10443', 'web10448', 'web10466', 'web10467', 'web10469', 'web10470', 'web10478', 'web10493', 'web10583', 'web10600', 'web10603', 'web10613', 'web10627', 'web10633', 'web10638', 'web10647', 'web10652', 'web10654', 'web10668', 'web10693', 'web10696', 'web10698', 'web10738', 'web10756', 'web10761', 'web10766', 'web10773', 'web10788', 'web10803', 'web10812', 'web10827', 'web10832', 'web10839', 'web10848', 'web10849', 'web10867', 'web10887', 'web10909', 'web10912', 'web10916', 'web10957', 'web10974', 'web10976', 'web10985', 'web10986', 'web11011', 'web11030', 'web11040', 'web11049', 'web11059', 'web11066', 'web11074', 'web11101', 'web11104', 'web11106', 'web11138', 'web11142', 'web11166', 'web11218', 'web11252', 'web11299', 'web11302', 'web11307', 'web11330', 'web11344', 'web11346', 'web11351', 'web11360', 'web11373', 'web11378', 'web11384', 'web11389', 'web11392', 'web11415', 'web11433', 'web11467', 'web11472', 'web11496', 'web11498', 'web11502', 'web11506', 'web11519', 'web11545', 'web11551', 'web11556', 'web11576', 'web11585', 'web11612', 'web11614', 'web11631', 'web11635', 'web11644', 'web11661', 'web11670', 'web11680', 'web11722', 'web11784', 'web11799', 'web11836', 'web11892', 'web11912', 'web11949', 'web11954', 'web11959', 'web12011', 'web12059', 'web12060', 'web12070', 'web12081', 'web12090', 'web12112', 'web12115', 'web12128', 'web12149', 'web12217', 'web12233', 'web12236', 'web12246', 'web12252', 'web12258', 'web12266', 'web12274', 'web12276', 'web12279', 'web12286', 'web12297', 'web12305', 'web12311', 'web12329', 'web12330', 'web12335', 'web12339', 'web12360', 'web12373', 'web12383', 'web12416', 'web12422', 'web12438', 'web12452', 'web12464', 'web12465', 'web12470', 'web12483', 'web12492', 'web12493', 'web12500', 'web12522', 'web12544', 'web12550', 'web12562', 'web12570', 'web12622', 'web12631', 'web12656', 'web12674', 'web12690', 'web12691', 'web12695', 'web12704', 'web12728', 'web12799', 'web12822', 'web12834', 'web12853', 'web12886', 'web12924', 'web12933', 'web12965', 'web12992', 'web12993', 'web12997', 'web13011', 'web13018', 'web13023', 'web13028', 'web13047', 'web13080', 'web13108', 'web13122', 'web13133', 'web13177', 'web13193', 'web13218', 'web13267', 'web13278', 'web13284', 'web13329', 'web13353', 'web13375', 'web13376', 'web13384', 'web13392', 'web13411', 'web13452', 'web13453', 'web13455', 'web13461', 'web13500', 'web13516', 'web13522', 'web13542', 'web13577', 'web13604', 'web13620', 'web13628', 'web13635', 'web13637', 'web13650', 'web13671', 'web13686', 'web13693', 'web13698', 'web13712', 'web13716', 'web13720', 'web13731', 'web13739', 'web13759', 'web13778', 'web13788', 'web13795', 'web13838', 'web13852', 'web13854', 'web13859', 'web13865', 'web13866', 'web13878', 'web13886', 'web13899', 'web13904', 'web13934', 'web13954', 'web13966', 'web13969', 'web13974', 'web13993', 'web14045', 'web14046', 'web14053', 'web14072', 'web14082', 'web14112', 'web14135', 'web14149', 'web14175', 'web14245', 'web14259', 'web14260', 'web14264', 'web14283', 'web14287', 'web14295', 'web14327', 'web14356', 'web14364', 'web14378', 'web14381', 'web14393', 'web14413', 'web14423', 'web14444', 'web14447', 'web14455', 'web14475', 'web14481', 'web14485', 'web14494', 'web14498', 'web14504', 'web14515', 'web14530', 'web14547', 'web14550', 'web14556', 'web14563', 'web14582', 'web14602', 'web14614', 'web14628', 'web14646', 'web14725', 'web14727', 'web14747', 'web14758', 'web14761', 'web14780', 'web14798', 'web14804', 'web14833', 'web14870', 'web14873', 'web14896', 'web14938', 'web14945', 'web14963', 'web14980', 'web14981', 'web14983', 'web15036', 'web15052', 'web15069', 'web15102', 'web15103', 'web15118', 'web15139', 'web15174', 'web15227', 'web15242', 'web15243', 'web15250', 'web15289', 'web15294', 'web15300', 'web15317', 'web15332', 'web15335', 'web15381', 'web15397', 'web15407', 'web15433', 'web15434', 'web15438', 'web15446', 'web15451', 'web15457', 'web15481', 'web15492', 'web15493', 'web15500', 'web15521', 'web15534', 'web15542', 'web15553', 'web15584', 'web15640', 'web15661', 'web15671', 'web15687', 'web15690', 'web15705', 'web15708', 'web15730', 'web15747', 'web15779', 'web15784', 'web15842', 'web15873', 'web15886', 'web15933', 'web15953', 'web15984', 'web15988', 'web15999', 'web16008', 'web16050', 'web16064', 'web16065', 'web16112', 'web16135', 'web16136', 'web16142', 'web16154', 'web16155', 'web16177', 'web16179', 'web16200', 'web16204', 'web16254', 'web16255', 'web16270', 'web16275', 'web16277', 'web16293', 'web16299', 'web16300', 'web16353', 'web16383', 'web16390', 'web16437', 'web16451', 'web16463', 'web16464', 'web16468', 'web16494', 'web16495', 'web16511', 'web16535', 'web16546', 'web16547', 'web16549', 'web16555', 'web16559', 'web16595', 'web16638', 'web16654', 'web16657', 'web16671', 'web16730', 'web16732', 'web16792', 'web16843', 'web16848', 'web16857', 'web16860', 'web16872', 'web16896', 'web16900', 'web16995', 'web17000', 'web17025', 'web17032', 'web17049', 'web17073', 'web17097', 'web17099', 'web17123', 'web17153', 'web17198', 'web17206', 'web17217', 'web17235', 'web17253', 'web17299', 'web17327', 'web17328', 'web17365', 'web17368', 'web17384', 'web17387', 'web17425', 'web17441', 'web17444', 'web17468', 'web17482', 'web17484', 'web17485', 'web17502', 'web17504', 'web17508', 'web17524', 'web17525', 'web17532', 'web17537', 'web17540', 'web17546', 'web17558', 'web17587', 'web17590', 'web17593', 'web17613', 'web17620', 'web17642', 'web17646', 'web17666', 'web17671', 'web17722', 'web17725', 'web17726', 'web17755', 'web17769', 'web17784', 'web17789', 'web17794', 'web17802', 'web17806', 'web17807', 'web17830', 'web17840', 'web17882', 'web17894', 'web17916', 'web17921', 'web17959', 'web17963', 'web17966', 'web17979', 'web18003', 'web18009', 'web18061', 'web18086', 'web18121', 'web18126', 'web18129', 'web18142', 'web18145', 'web18164', 'web18168', 'web18203', 'web18254', 'web18272', 'web18276', 'web18282', 'web18283', 'web18297', 'web18298', 'web18329', 'web18358', 'web18363', 'web18383', 'web18410', 'web18434', 'web18439', 'web18447', 'web18450', 'web18455', 'web18457', 'web18479', 'web18488', 'web18521', 'web18551', 'web18567', 'web18641', 'web18642', 'web18648', 'web18670', 'web18693', 'web18727', 'web18745', 'web18767', 'web18768', 'web18798', 'web18813', 'web18814', 'web18826', 'web18870', 'web18875', 'web18896', 'web18919', 'web18921', 'web18954', 'web18958', 'web18977', 'web18981', 'web18984', 'web19009', 'web19030', 'web19035', 'web19048', 'web19114', 'web19115', 'web19129', 'web19144', 'web19156', 'web19166', 'web19171', 'web19175', 'web19180', 'web19203', 'web19226', 'web19236', 'web19251', 'web19258', 'web19292', 'web19293', 'web19295', 'web19304', 'web19323', 'web19353', 'web19371', 'web19381', 'web19385', 'web19468', 'web19474', 'web19496', 'web19500', 'web19509', 'web19537', 'web19554', 'web19565', 'web19568', 'web19600', 'web19605', 'web19606', 'web19617', 'web19639', 'web19651', 'web19653', 'web19671', 'web19689', 'web19695', 'web19764', 'web19784', 'web19790', 'web19794', 'web19833', 'web19839', 'web19876', 'web19884', 'web19900', 'web19909', 'web19930', 'web19945', 'web19950', 'web19980', 'web19985', 'web20006', 'web20025', 'web20026', 'web20031', 'web20032', 'web20072', 'web20090', 'web20095', 'web20142', 'web20152', 'web20192', 'web20215', 'web20222', 'web20224', 'web20235', 'web20244', 'web20276', 'web20302', 'web20321', 'web20355', 'web20357', 'web20386', 'web20405', 'web20406', 'web20423', 'web20432', 'web20436', 'web20465', 'web20472', 'web20477', 'web20479', 'web20490', 'web20496', 'web20527', 'web20538', 'web20565', 'web20588', 'web20599', 'web20615', 'web20620', 'web20657', 'web20700', 'web20709', 'web20714', 'web20734', 'web20738', 'web20747', 'web20763', 'web20776', 'web20780', 'web20783', 'web20824', 'web20837', 'web20851', 'web20852', 'web20854', 'web20873', 'web20903', 'web20915', 'web20966', 'web20970', 'web20975', 'web20983', 'web20985', 'web20989', 'web20990', 'web21019', 'web21024', 'web21066', 'web21077', 'web21095', 'web21096', 'web21106', 'web21117', 'web21122', 'web21124', 'web21133']\n",
            "missing_tables 14 ['web187168', 'web187168', 'web187168', 'web187168', 'web187167', 'web187165', 'web187167', 'web187168', 'web187168', 'web187168', 'web187168', 'web187168', 'web187168', 'web187168']\n",
            "missing train queries 0\n",
            "missing dev queries 0\n",
            "missing test queries 0\n",
            "tcmalloc: large alloc 5423251456 bytes == 0x55683dff2000 @  0x7f98596ed887 0x7f97a813d90f 0x7f97a811a675 0x7f97a811ab87 0x7f97a80d0e03 0x7f97a80f118c 0x556806cc4114 0x556806cc4231 0x556806d28e8f 0x556806c7d6f9 0x556806c7ea30 0x556806c99943 0x556806cd806a 0x556806cd8e28 0x556806d293d7 0x556806cc368b 0x556806d286c9 0x556806c7d6f9 0x556806c7e805 0x556806c99943 0x556806cd806a 0x556806cd8e28 0x556806d28626 0x556806c7e030 0x556806cc3917 0x556806d23fd6 0x556806c7d6f9 0x556806c7e5f4 0x556806c7e61c 0x556806d7f974 0x556806d89cf1\n",
            "tcmalloc: large alloc 3023249408 bytes == 0x556981ca8000 @  0x7f98596ed887 0x7f97a813d90f 0x7f97a811a6c4 0x7f97a811ab87 0x7f97a80d0e03 0x7f97a80f118c 0x556806cc4114 0x556806cc4231 0x556806d28e8f 0x556806c7d6f9 0x556806c7ea30 0x556806c99943 0x556806cd806a 0x556806cd8e28 0x556806d293d7 0x556806cc368b 0x556806d286c9 0x556806c7d6f9 0x556806c7e805 0x556806c99943 0x556806cd806a 0x556806cd8e28 0x556806d28626 0x556806c7e030 0x556806cc3917 0x556806d23fd6 0x556806c7d6f9 0x556806c7e5f4 0x556806c7e61c 0x556806d7f974 0x556806d89cf1\n",
            "processing queries: 100% 21142/21142 [00:01<00:00, 15021.62it/s]\n",
            "processing tables: 100% 149164/149164 [09:50<00:00, 252.43it/s]\n",
            "{'data_dir': 'data/webquerytable/', 'fasttext': 'wiki.en.bin', 'bert_dir': 'bert-base-uncased', 'merge_same_cells': True, 'do_lower_case': True, 'bert_size': 768, 'gnn_size': 300, 'epoch': 5, 'batch_size': 4, 'warmup_steps': 1000, 'total_steps': 20000, 'key_metric': 'ndcg_cut_20', 'bert_lr': 5e-05, 'gnn_lr': 0.0001, 'use_pretrained_model': False, 'pretrained_model_path': ''}\n",
            "MatchingModel(\n",
            "  (bert): BertModel(\n",
            "    (embeddings): BertEmbeddings(\n",
            "      (word_embeddings): Embedding(30522, 768, padding_idx=0)\n",
            "      (position_embeddings): Embedding(512, 768)\n",
            "      (token_type_embeddings): Embedding(2, 768)\n",
            "      (LayerNorm): LayerNorm((768,), eps=1e-12, elementwise_affine=True)\n",
            "      (dropout): Dropout(p=0.1, inplace=False)\n",
            "    )\n",
            "    (encoder): BertEncoder(\n",
            "      (layer): ModuleList(\n",
            "        (0): BertLayer(\n",
            "          (attention): BertAttention(\n",
            "            (self): BertSelfAttention(\n",
            "              (query): Linear(in_features=768, out_features=768, bias=True)\n",
            "              (key): Linear(in_features=768, out_features=768, bias=True)\n",
            "              (value): Linear(in_features=768, out_features=768, bias=True)\n",
            "              (dropout): Dropout(p=0.1, inplace=False)\n",
            "            )\n",
            "            (output): BertSelfOutput(\n",
            "              (dense): Linear(in_features=768, out_features=768, bias=True)\n",
            "              (LayerNorm): LayerNorm((768,), eps=1e-12, elementwise_affine=True)\n",
            "              (dropout): Dropout(p=0.1, inplace=False)\n",
            "            )\n",
            "          )\n",
            "          (intermediate): BertIntermediate(\n",
            "            (dense): Linear(in_features=768, out_features=3072, bias=True)\n",
            "          )\n",
            "          (output): BertOutput(\n",
            "            (dense): Linear(in_features=3072, out_features=768, bias=True)\n",
            "            (LayerNorm): LayerNorm((768,), eps=1e-12, elementwise_affine=True)\n",
            "            (dropout): Dropout(p=0.1, inplace=False)\n",
            "          )\n",
            "        )\n",
            "        (1): BertLayer(\n",
            "          (attention): BertAttention(\n",
            "            (self): BertSelfAttention(\n",
            "              (query): Linear(in_features=768, out_features=768, bias=True)\n",
            "              (key): Linear(in_features=768, out_features=768, bias=True)\n",
            "              (value): Linear(in_features=768, out_features=768, bias=True)\n",
            "              (dropout): Dropout(p=0.1, inplace=False)\n",
            "            )\n",
            "            (output): BertSelfOutput(\n",
            "              (dense): Linear(in_features=768, out_features=768, bias=True)\n",
            "              (LayerNorm): LayerNorm((768,), eps=1e-12, elementwise_affine=True)\n",
            "              (dropout): Dropout(p=0.1, inplace=False)\n",
            "            )\n",
            "          )\n",
            "          (intermediate): BertIntermediate(\n",
            "            (dense): Linear(in_features=768, out_features=3072, bias=True)\n",
            "          )\n",
            "          (output): BertOutput(\n",
            "            (dense): Linear(in_features=3072, out_features=768, bias=True)\n",
            "            (LayerNorm): LayerNorm((768,), eps=1e-12, elementwise_affine=True)\n",
            "            (dropout): Dropout(p=0.1, inplace=False)\n",
            "          )\n",
            "        )\n",
            "        (2): BertLayer(\n",
            "          (attention): BertAttention(\n",
            "            (self): BertSelfAttention(\n",
            "              (query): Linear(in_features=768, out_features=768, bias=True)\n",
            "              (key): Linear(in_features=768, out_features=768, bias=True)\n",
            "              (value): Linear(in_features=768, out_features=768, bias=True)\n",
            "              (dropout): Dropout(p=0.1, inplace=False)\n",
            "            )\n",
            "            (output): BertSelfOutput(\n",
            "              (dense): Linear(in_features=768, out_features=768, bias=True)\n",
            "              (LayerNorm): LayerNorm((768,), eps=1e-12, elementwise_affine=True)\n",
            "              (dropout): Dropout(p=0.1, inplace=False)\n",
            "            )\n",
            "          )\n",
            "          (intermediate): BertIntermediate(\n",
            "            (dense): Linear(in_features=768, out_features=3072, bias=True)\n",
            "          )\n",
            "          (output): BertOutput(\n",
            "            (dense): Linear(in_features=3072, out_features=768, bias=True)\n",
            "            (LayerNorm): LayerNorm((768,), eps=1e-12, elementwise_affine=True)\n",
            "            (dropout): Dropout(p=0.1, inplace=False)\n",
            "          )\n",
            "        )\n",
            "        (3): BertLayer(\n",
            "          (attention): BertAttention(\n",
            "            (self): BertSelfAttention(\n",
            "              (query): Linear(in_features=768, out_features=768, bias=True)\n",
            "              (key): Linear(in_features=768, out_features=768, bias=True)\n",
            "              (value): Linear(in_features=768, out_features=768, bias=True)\n",
            "              (dropout): Dropout(p=0.1, inplace=False)\n",
            "            )\n",
            "            (output): BertSelfOutput(\n",
            "              (dense): Linear(in_features=768, out_features=768, bias=True)\n",
            "              (LayerNorm): LayerNorm((768,), eps=1e-12, elementwise_affine=True)\n",
            "              (dropout): Dropout(p=0.1, inplace=False)\n",
            "            )\n",
            "          )\n",
            "          (intermediate): BertIntermediate(\n",
            "            (dense): Linear(in_features=768, out_features=3072, bias=True)\n",
            "          )\n",
            "          (output): BertOutput(\n",
            "            (dense): Linear(in_features=3072, out_features=768, bias=True)\n",
            "            (LayerNorm): LayerNorm((768,), eps=1e-12, elementwise_affine=True)\n",
            "            (dropout): Dropout(p=0.1, inplace=False)\n",
            "          )\n",
            "        )\n",
            "        (4): BertLayer(\n",
            "          (attention): BertAttention(\n",
            "            (self): BertSelfAttention(\n",
            "              (query): Linear(in_features=768, out_features=768, bias=True)\n",
            "              (key): Linear(in_features=768, out_features=768, bias=True)\n",
            "              (value): Linear(in_features=768, out_features=768, bias=True)\n",
            "              (dropout): Dropout(p=0.1, inplace=False)\n",
            "            )\n",
            "            (output): BertSelfOutput(\n",
            "              (dense): Linear(in_features=768, out_features=768, bias=True)\n",
            "              (LayerNorm): LayerNorm((768,), eps=1e-12, elementwise_affine=True)\n",
            "              (dropout): Dropout(p=0.1, inplace=False)\n",
            "            )\n",
            "          )\n",
            "          (intermediate): BertIntermediate(\n",
            "            (dense): Linear(in_features=768, out_features=3072, bias=True)\n",
            "          )\n",
            "          (output): BertOutput(\n",
            "            (dense): Linear(in_features=3072, out_features=768, bias=True)\n",
            "            (LayerNorm): LayerNorm((768,), eps=1e-12, elementwise_affine=True)\n",
            "            (dropout): Dropout(p=0.1, inplace=False)\n",
            "          )\n",
            "        )\n",
            "        (5): BertLayer(\n",
            "          (attention): BertAttention(\n",
            "            (self): BertSelfAttention(\n",
            "              (query): Linear(in_features=768, out_features=768, bias=True)\n",
            "              (key): Linear(in_features=768, out_features=768, bias=True)\n",
            "              (value): Linear(in_features=768, out_features=768, bias=True)\n",
            "              (dropout): Dropout(p=0.1, inplace=False)\n",
            "            )\n",
            "            (output): BertSelfOutput(\n",
            "              (dense): Linear(in_features=768, out_features=768, bias=True)\n",
            "              (LayerNorm): LayerNorm((768,), eps=1e-12, elementwise_affine=True)\n",
            "              (dropout): Dropout(p=0.1, inplace=False)\n",
            "            )\n",
            "          )\n",
            "          (intermediate): BertIntermediate(\n",
            "            (dense): Linear(in_features=768, out_features=3072, bias=True)\n",
            "          )\n",
            "          (output): BertOutput(\n",
            "            (dense): Linear(in_features=3072, out_features=768, bias=True)\n",
            "            (LayerNorm): LayerNorm((768,), eps=1e-12, elementwise_affine=True)\n",
            "            (dropout): Dropout(p=0.1, inplace=False)\n",
            "          )\n",
            "        )\n",
            "        (6): BertLayer(\n",
            "          (attention): BertAttention(\n",
            "            (self): BertSelfAttention(\n",
            "              (query): Linear(in_features=768, out_features=768, bias=True)\n",
            "              (key): Linear(in_features=768, out_features=768, bias=True)\n",
            "              (value): Linear(in_features=768, out_features=768, bias=True)\n",
            "              (dropout): Dropout(p=0.1, inplace=False)\n",
            "            )\n",
            "            (output): BertSelfOutput(\n",
            "              (dense): Linear(in_features=768, out_features=768, bias=True)\n",
            "              (LayerNorm): LayerNorm((768,), eps=1e-12, elementwise_affine=True)\n",
            "              (dropout): Dropout(p=0.1, inplace=False)\n",
            "            )\n",
            "          )\n",
            "          (intermediate): BertIntermediate(\n",
            "            (dense): Linear(in_features=768, out_features=3072, bias=True)\n",
            "          )\n",
            "          (output): BertOutput(\n",
            "            (dense): Linear(in_features=3072, out_features=768, bias=True)\n",
            "            (LayerNorm): LayerNorm((768,), eps=1e-12, elementwise_affine=True)\n",
            "            (dropout): Dropout(p=0.1, inplace=False)\n",
            "          )\n",
            "        )\n",
            "        (7): BertLayer(\n",
            "          (attention): BertAttention(\n",
            "            (self): BertSelfAttention(\n",
            "              (query): Linear(in_features=768, out_features=768, bias=True)\n",
            "              (key): Linear(in_features=768, out_features=768, bias=True)\n",
            "              (value): Linear(in_features=768, out_features=768, bias=True)\n",
            "              (dropout): Dropout(p=0.1, inplace=False)\n",
            "            )\n",
            "            (output): BertSelfOutput(\n",
            "              (dense): Linear(in_features=768, out_features=768, bias=True)\n",
            "              (LayerNorm): LayerNorm((768,), eps=1e-12, elementwise_affine=True)\n",
            "              (dropout): Dropout(p=0.1, inplace=False)\n",
            "            )\n",
            "          )\n",
            "          (intermediate): BertIntermediate(\n",
            "            (dense): Linear(in_features=768, out_features=3072, bias=True)\n",
            "          )\n",
            "          (output): BertOutput(\n",
            "            (dense): Linear(in_features=3072, out_features=768, bias=True)\n",
            "            (LayerNorm): LayerNorm((768,), eps=1e-12, elementwise_affine=True)\n",
            "            (dropout): Dropout(p=0.1, inplace=False)\n",
            "          )\n",
            "        )\n",
            "        (8): BertLayer(\n",
            "          (attention): BertAttention(\n",
            "            (self): BertSelfAttention(\n",
            "              (query): Linear(in_features=768, out_features=768, bias=True)\n",
            "              (key): Linear(in_features=768, out_features=768, bias=True)\n",
            "              (value): Linear(in_features=768, out_features=768, bias=True)\n",
            "              (dropout): Dropout(p=0.1, inplace=False)\n",
            "            )\n",
            "            (output): BertSelfOutput(\n",
            "              (dense): Linear(in_features=768, out_features=768, bias=True)\n",
            "              (LayerNorm): LayerNorm((768,), eps=1e-12, elementwise_affine=True)\n",
            "              (dropout): Dropout(p=0.1, inplace=False)\n",
            "            )\n",
            "          )\n",
            "          (intermediate): BertIntermediate(\n",
            "            (dense): Linear(in_features=768, out_features=3072, bias=True)\n",
            "          )\n",
            "          (output): BertOutput(\n",
            "            (dense): Linear(in_features=3072, out_features=768, bias=True)\n",
            "            (LayerNorm): LayerNorm((768,), eps=1e-12, elementwise_affine=True)\n",
            "            (dropout): Dropout(p=0.1, inplace=False)\n",
            "          )\n",
            "        )\n",
            "        (9): BertLayer(\n",
            "          (attention): BertAttention(\n",
            "            (self): BertSelfAttention(\n",
            "              (query): Linear(in_features=768, out_features=768, bias=True)\n",
            "              (key): Linear(in_features=768, out_features=768, bias=True)\n",
            "              (value): Linear(in_features=768, out_features=768, bias=True)\n",
            "              (dropout): Dropout(p=0.1, inplace=False)\n",
            "            )\n",
            "            (output): BertSelfOutput(\n",
            "              (dense): Linear(in_features=768, out_features=768, bias=True)\n",
            "              (LayerNorm): LayerNorm((768,), eps=1e-12, elementwise_affine=True)\n",
            "              (dropout): Dropout(p=0.1, inplace=False)\n",
            "            )\n",
            "          )\n",
            "          (intermediate): BertIntermediate(\n",
            "            (dense): Linear(in_features=768, out_features=3072, bias=True)\n",
            "          )\n",
            "          (output): BertOutput(\n",
            "            (dense): Linear(in_features=3072, out_features=768, bias=True)\n",
            "            (LayerNorm): LayerNorm((768,), eps=1e-12, elementwise_affine=True)\n",
            "            (dropout): Dropout(p=0.1, inplace=False)\n",
            "          )\n",
            "        )\n",
            "        (10): BertLayer(\n",
            "          (attention): BertAttention(\n",
            "            (self): BertSelfAttention(\n",
            "              (query): Linear(in_features=768, out_features=768, bias=True)\n",
            "              (key): Linear(in_features=768, out_features=768, bias=True)\n",
            "              (value): Linear(in_features=768, out_features=768, bias=True)\n",
            "              (dropout): Dropout(p=0.1, inplace=False)\n",
            "            )\n",
            "            (output): BertSelfOutput(\n",
            "              (dense): Linear(in_features=768, out_features=768, bias=True)\n",
            "              (LayerNorm): LayerNorm((768,), eps=1e-12, elementwise_affine=True)\n",
            "              (dropout): Dropout(p=0.1, inplace=False)\n",
            "            )\n",
            "          )\n",
            "          (intermediate): BertIntermediate(\n",
            "            (dense): Linear(in_features=768, out_features=3072, bias=True)\n",
            "          )\n",
            "          (output): BertOutput(\n",
            "            (dense): Linear(in_features=3072, out_features=768, bias=True)\n",
            "            (LayerNorm): LayerNorm((768,), eps=1e-12, elementwise_affine=True)\n",
            "            (dropout): Dropout(p=0.1, inplace=False)\n",
            "          )\n",
            "        )\n",
            "        (11): BertLayer(\n",
            "          (attention): BertAttention(\n",
            "            (self): BertSelfAttention(\n",
            "              (query): Linear(in_features=768, out_features=768, bias=True)\n",
            "              (key): Linear(in_features=768, out_features=768, bias=True)\n",
            "              (value): Linear(in_features=768, out_features=768, bias=True)\n",
            "              (dropout): Dropout(p=0.1, inplace=False)\n",
            "            )\n",
            "            (output): BertSelfOutput(\n",
            "              (dense): Linear(in_features=768, out_features=768, bias=True)\n",
            "              (LayerNorm): LayerNorm((768,), eps=1e-12, elementwise_affine=True)\n",
            "              (dropout): Dropout(p=0.1, inplace=False)\n",
            "            )\n",
            "          )\n",
            "          (intermediate): BertIntermediate(\n",
            "            (dense): Linear(in_features=768, out_features=3072, bias=True)\n",
            "          )\n",
            "          (output): BertOutput(\n",
            "            (dense): Linear(in_features=3072, out_features=768, bias=True)\n",
            "            (LayerNorm): LayerNorm((768,), eps=1e-12, elementwise_affine=True)\n",
            "            (dropout): Dropout(p=0.1, inplace=False)\n",
            "          )\n",
            "        )\n",
            "      )\n",
            "    )\n",
            "    (pooler): BertPooler(\n",
            "      (dense): Linear(in_features=768, out_features=768, bias=True)\n",
            "      (activation): Tanh()\n",
            "    )\n",
            "  )\n",
            "  (gnn): GATEncoder(\n",
            "    (layers): ModuleList(\n",
            "      (0): GATConv(\n",
            "        (fc): Linear(in_features=300, out_features=1200, bias=False)\n",
            "        (feat_drop): Dropout(p=0.1, inplace=False)\n",
            "        (attn_drop): Dropout(p=0.1, inplace=False)\n",
            "        (leaky_relu): LeakyReLU(negative_slope=0.2)\n",
            "        (res_fc): Linear(in_features=300, out_features=1200, bias=False)\n",
            "        (activation): LeakyReLU(negative_slope=0.2)\n",
            "      )\n",
            "      (1): GATConv(\n",
            "        (fc): Linear(in_features=300, out_features=1200, bias=False)\n",
            "        (feat_drop): Dropout(p=0.1, inplace=False)\n",
            "        (attn_drop): Dropout(p=0.1, inplace=False)\n",
            "        (leaky_relu): LeakyReLU(negative_slope=0.2)\n",
            "        (res_fc): Linear(in_features=300, out_features=1200, bias=False)\n",
            "        (activation): LeakyReLU(negative_slope=0.2)\n",
            "      )\n",
            "      (2): GATConv(\n",
            "        (fc): Linear(in_features=300, out_features=1200, bias=False)\n",
            "        (feat_drop): Dropout(p=0.1, inplace=False)\n",
            "        (attn_drop): Dropout(p=0.1, inplace=False)\n",
            "        (leaky_relu): LeakyReLU(negative_slope=0.2)\n",
            "        (res_fc): Linear(in_features=300, out_features=1200, bias=False)\n",
            "        (activation): LeakyReLU(negative_slope=0.2)\n",
            "      )\n",
            "      (3): GATConv(\n",
            "        (fc): Linear(in_features=300, out_features=1200, bias=False)\n",
            "        (feat_drop): Dropout(p=0.1, inplace=False)\n",
            "        (attn_drop): Dropout(p=0.1, inplace=False)\n",
            "        (leaky_relu): LeakyReLU(negative_slope=0.2)\n",
            "        (res_fc): Linear(in_features=300, out_features=1200, bias=False)\n",
            "        (activation): LeakyReLU(negative_slope=0.2)\n",
            "      )\n",
            "    )\n",
            "    (norms): ModuleList(\n",
            "      (0): Sequential(\n",
            "        (0): Linear(in_features=1200, out_features=300, bias=True)\n",
            "        (1): LayerNorm((300,), eps=1e-05, elementwise_affine=True)\n",
            "      )\n",
            "      (1): Sequential(\n",
            "        (0): Linear(in_features=1200, out_features=300, bias=True)\n",
            "        (1): LayerNorm((300,), eps=1e-05, elementwise_affine=True)\n",
            "      )\n",
            "      (2): Sequential(\n",
            "        (0): Linear(in_features=1200, out_features=300, bias=True)\n",
            "        (1): LayerNorm((300,), eps=1e-05, elementwise_affine=True)\n",
            "      )\n",
            "      (3): Sequential(\n",
            "        (0): Linear(in_features=1200, out_features=300, bias=True)\n",
            "        (1): LayerNorm((300,), eps=1e-05, elementwise_affine=True)\n",
            "      )\n",
            "    )\n",
            "  )\n",
            "  (project_table): Sequential(\n",
            "    (0): Linear(in_features=300, out_features=300, bias=True)\n",
            "    (1): LayerNorm((300,), eps=1e-05, elementwise_affine=True)\n",
            "  )\n",
            "  (dim_reduction): Sequential(\n",
            "    (0): Linear(in_features=1200, out_features=1200, bias=True)\n",
            "    (1): Tanh()\n",
            "  )\n",
            "  (regression): Sequential(\n",
            "    (0): Dropout(p=0.1, inplace=False)\n",
            "    (1): Linear(in_features=1968, out_features=1024, bias=True)\n",
            "    (2): LeakyReLU(negative_slope=0.2)\n",
            "    (3): Linear(in_features=1024, out_features=1, bias=True)\n",
            "  )\n",
            ")\n",
            "  5% 805/14821 [37:28<11:05:41,  2.85s/it, loss=3.5]web3455 ['tivo', 'priec']\n",
            " 24% 3548/14821 [2:44:05<6:42:53,  2.14s/it, loss=2.41]web4922 ['mmo', 'betas']\n",
            " 54% 8011/14821 [6:08:58<5:25:27,  2.87s/it, loss=1.98]web5910 ['corticosteroids', 'inhaled']\n",
            " 68% 10029/14821 [7:39:40<3:13:12,  2.42s/it, loss=1.72]web19055 ['tsw', 'signets']\n",
            "100% 14821/14821 [11:15:26<00:00,  2.73s/it, loss=0.711]\n",
            "100% 2062/2062 [35:45<00:00,  1.04s/it]\n",
            "100% 4259/4259 [1:15:16<00:00,  1.06s/it]\n",
            "2021-11-07 18:39:12.312035 epoch 0 train loss 1.5529147410542408 dev {'ndcg_cut_5': 0.7547, 'ndcg_cut_10': 0.7765, 'ndcg_cut_15': 0.7825, 'ndcg_cut_20': 0.7847, 'map': 0.7258} test {'ndcg_cut_5': 0.7536, 'ndcg_cut_10': 0.7768, 'ndcg_cut_15': 0.7826, 'ndcg_cut_20': 0.7861, 'map': 0.7266} *\n",
            " 33% 4900/14821 [3:35:48<9:32:57,  3.47s/it, loss=1.4]web5910 ['corticosteroids', 'inhaled']\n",
            " 38% 5620/14821 [4:08:01<5:20:09,  2.09s/it, loss=0.791]web4922 ['mmo', 'betas']\n",
            " 53% 7847/14821 [5:47:31<5:22:42,  2.78s/it, loss=2.42]"
          ]
        }
      ]
    },
    {
      "cell_type": "code",
      "metadata": {
        "id": "qgsfhh9Tz0M7"
      },
      "source": [
        ""
      ],
      "execution_count": null,
      "outputs": []
    }
  ]
}