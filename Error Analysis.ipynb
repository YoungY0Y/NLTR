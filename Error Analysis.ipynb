{
  "nbformat": 4,
  "nbformat_minor": 0,
  "metadata": {
    "colab": {
      "name": "Untitled22.ipynb",
      "provenance": []
    },
    "kernelspec": {
      "name": "python3",
      "display_name": "Python 3"
    },
    "language_info": {
      "name": "python"
    }
  },
  "cells": [
    {
      "cell_type": "code",
      "metadata": {
        "colab": {
          "base_uri": "https://localhost:8080/"
        },
        "id": "1DGNjwepohMY",
        "outputId": "d45ff578-dc8c-438a-fe4b-c2ad2737831f"
      },
      "source": [
        "!git clone https://github.com/FeiWang96/GTR.git"
      ],
      "execution_count": null,
      "outputs": [
        {
          "output_type": "stream",
          "name": "stdout",
          "text": [
            "Cloning into 'GTR'...\n",
            "remote: Enumerating objects: 50, done.\u001b[K\n",
            "remote: Counting objects: 100% (50/50), done.\u001b[K\n",
            "remote: Compressing objects: 100% (43/43), done.\u001b[K\n",
            "remote: Total 50 (delta 7), reused 38 (delta 3), pack-reused 0\u001b[K\n",
            "Unpacking objects: 100% (50/50), done.\n"
          ]
        }
      ]
    },
    {
      "cell_type": "code",
      "metadata": {
        "id": "GZP0DSvwoj0_"
      },
      "source": [
        "import pandas as pd \n",
        "import numpy as np\n",
        "import matplotlib.pyplot as plt"
      ],
      "execution_count": null,
      "outputs": []
    },
    {
      "cell_type": "code",
      "metadata": {
        "colab": {
          "base_uri": "https://localhost:8080/",
          "height": 419
        },
        "id": "p7f_sxYBp23c",
        "outputId": "b26b08aa-0299-434a-bb0a-968a13e3b72b"
      },
      "source": [
        "#load qrel label\n",
        "qrel = pd.read_csv('trec_qrel.txt', sep=\"\\t\", header=None)\n",
        "qrel = qrel.drop(columns = [1])\n",
        "qrel.columns = ['query_id', 'table_id', 'true_label']\n",
        "qrel"
      ],
      "execution_count": null,
      "outputs": [
        {
          "output_type": "execute_result",
          "data": {
            "text/html": [
              "<div>\n",
              "<style scoped>\n",
              "    .dataframe tbody tr th:only-of-type {\n",
              "        vertical-align: middle;\n",
              "    }\n",
              "\n",
              "    .dataframe tbody tr th {\n",
              "        vertical-align: top;\n",
              "    }\n",
              "\n",
              "    .dataframe thead th {\n",
              "        text-align: right;\n",
              "    }\n",
              "</style>\n",
              "<table border=\"1\" class=\"dataframe\">\n",
              "  <thead>\n",
              "    <tr style=\"text-align: right;\">\n",
              "      <th></th>\n",
              "      <th>query_id</th>\n",
              "      <th>table_id</th>\n",
              "      <th>true_label</th>\n",
              "    </tr>\n",
              "  </thead>\n",
              "  <tbody>\n",
              "    <tr>\n",
              "      <th>0</th>\n",
              "      <td>10</td>\n",
              "      <td>table-1384-649</td>\n",
              "      <td>2</td>\n",
              "    </tr>\n",
              "    <tr>\n",
              "      <th>1</th>\n",
              "      <td>10</td>\n",
              "      <td>table-1091-421</td>\n",
              "      <td>1</td>\n",
              "    </tr>\n",
              "    <tr>\n",
              "      <th>2</th>\n",
              "      <td>10</td>\n",
              "      <td>table-0152-596</td>\n",
              "      <td>2</td>\n",
              "    </tr>\n",
              "    <tr>\n",
              "      <th>3</th>\n",
              "      <td>10</td>\n",
              "      <td>table-0791-274</td>\n",
              "      <td>0</td>\n",
              "    </tr>\n",
              "    <tr>\n",
              "      <th>4</th>\n",
              "      <td>10</td>\n",
              "      <td>table-0984-275</td>\n",
              "      <td>0</td>\n",
              "    </tr>\n",
              "    <tr>\n",
              "      <th>...</th>\n",
              "      <td>...</td>\n",
              "      <td>...</td>\n",
              "      <td>...</td>\n",
              "    </tr>\n",
              "    <tr>\n",
              "      <th>2334</th>\n",
              "      <td>9</td>\n",
              "      <td>table-1243-885</td>\n",
              "      <td>0</td>\n",
              "    </tr>\n",
              "    <tr>\n",
              "      <th>2335</th>\n",
              "      <td>9</td>\n",
              "      <td>table-0786-423</td>\n",
              "      <td>0</td>\n",
              "    </tr>\n",
              "    <tr>\n",
              "      <th>2336</th>\n",
              "      <td>9</td>\n",
              "      <td>table-0123-459</td>\n",
              "      <td>0</td>\n",
              "    </tr>\n",
              "    <tr>\n",
              "      <th>2337</th>\n",
              "      <td>9</td>\n",
              "      <td>table-0848-924</td>\n",
              "      <td>0</td>\n",
              "    </tr>\n",
              "    <tr>\n",
              "      <th>2338</th>\n",
              "      <td>9</td>\n",
              "      <td>table-0913-744</td>\n",
              "      <td>0</td>\n",
              "    </tr>\n",
              "  </tbody>\n",
              "</table>\n",
              "<p>2339 rows × 3 columns</p>\n",
              "</div>"
            ],
            "text/plain": [
              "      query_id        table_id  true_label\n",
              "0           10  table-1384-649           2\n",
              "1           10  table-1091-421           1\n",
              "2           10  table-0152-596           2\n",
              "3           10  table-0791-274           0\n",
              "4           10  table-0984-275           0\n",
              "...        ...             ...         ...\n",
              "2334         9  table-1243-885           0\n",
              "2335         9  table-0786-423           0\n",
              "2336         9  table-0123-459           0\n",
              "2337         9  table-0848-924           0\n",
              "2338         9  table-0913-744           0\n",
              "\n",
              "[2339 rows x 3 columns]"
            ]
          },
          "metadata": {},
          "execution_count": 2
        }
      ]
    },
    {
      "cell_type": "code",
      "metadata": {
        "colab": {
          "base_uri": "https://localhost:8080/",
          "height": 419
        },
        "id": "KVJhtaTeqIpu",
        "outputId": "6b5a37ab-8c8a-42a5-f0db-a9b7d2bfe04f"
      },
      "source": [
        "#load prediction\n",
        "rank = pd.read_csv('trec_rank.txt', sep=\"\\t\", header=None)\n",
        "rank = rank.drop(columns = [1, 5])\n",
        "rank"
      ],
      "execution_count": null,
      "outputs": [
        {
          "output_type": "execute_result",
          "data": {
            "text/html": [
              "<div>\n",
              "<style scoped>\n",
              "    .dataframe tbody tr th:only-of-type {\n",
              "        vertical-align: middle;\n",
              "    }\n",
              "\n",
              "    .dataframe tbody tr th {\n",
              "        vertical-align: top;\n",
              "    }\n",
              "\n",
              "    .dataframe thead th {\n",
              "        text-align: right;\n",
              "    }\n",
              "</style>\n",
              "<table border=\"1\" class=\"dataframe\">\n",
              "  <thead>\n",
              "    <tr style=\"text-align: right;\">\n",
              "      <th></th>\n",
              "      <th>0</th>\n",
              "      <th>2</th>\n",
              "      <th>3</th>\n",
              "      <th>4</th>\n",
              "    </tr>\n",
              "  </thead>\n",
              "  <tbody>\n",
              "    <tr>\n",
              "      <th>0</th>\n",
              "      <td>10</td>\n",
              "      <td>table-1384-649</td>\n",
              "      <td>1</td>\n",
              "      <td>2.000417</td>\n",
              "    </tr>\n",
              "    <tr>\n",
              "      <th>1</th>\n",
              "      <td>10</td>\n",
              "      <td>table-1091-421</td>\n",
              "      <td>2</td>\n",
              "      <td>1.964987</td>\n",
              "    </tr>\n",
              "    <tr>\n",
              "      <th>2</th>\n",
              "      <td>10</td>\n",
              "      <td>table-0152-596</td>\n",
              "      <td>3</td>\n",
              "      <td>1.878483</td>\n",
              "    </tr>\n",
              "    <tr>\n",
              "      <th>3</th>\n",
              "      <td>10</td>\n",
              "      <td>table-0791-274</td>\n",
              "      <td>4</td>\n",
              "      <td>1.839919</td>\n",
              "    </tr>\n",
              "    <tr>\n",
              "      <th>4</th>\n",
              "      <td>10</td>\n",
              "      <td>table-0984-275</td>\n",
              "      <td>5</td>\n",
              "      <td>1.810009</td>\n",
              "    </tr>\n",
              "    <tr>\n",
              "      <th>...</th>\n",
              "      <td>...</td>\n",
              "      <td>...</td>\n",
              "      <td>...</td>\n",
              "      <td>...</td>\n",
              "    </tr>\n",
              "    <tr>\n",
              "      <th>2334</th>\n",
              "      <td>9</td>\n",
              "      <td>table-1243-885</td>\n",
              "      <td>45</td>\n",
              "      <td>-0.332105</td>\n",
              "    </tr>\n",
              "    <tr>\n",
              "      <th>2335</th>\n",
              "      <td>9</td>\n",
              "      <td>table-0786-423</td>\n",
              "      <td>46</td>\n",
              "      <td>-0.366088</td>\n",
              "    </tr>\n",
              "    <tr>\n",
              "      <th>2336</th>\n",
              "      <td>9</td>\n",
              "      <td>table-0123-459</td>\n",
              "      <td>47</td>\n",
              "      <td>-0.377968</td>\n",
              "    </tr>\n",
              "    <tr>\n",
              "      <th>2337</th>\n",
              "      <td>9</td>\n",
              "      <td>table-0848-924</td>\n",
              "      <td>48</td>\n",
              "      <td>-0.386343</td>\n",
              "    </tr>\n",
              "    <tr>\n",
              "      <th>2338</th>\n",
              "      <td>9</td>\n",
              "      <td>table-0913-744</td>\n",
              "      <td>49</td>\n",
              "      <td>-0.400665</td>\n",
              "    </tr>\n",
              "  </tbody>\n",
              "</table>\n",
              "<p>2339 rows × 4 columns</p>\n",
              "</div>"
            ],
            "text/plain": [
              "       0               2   3         4\n",
              "0     10  table-1384-649   1  2.000417\n",
              "1     10  table-1091-421   2  1.964987\n",
              "2     10  table-0152-596   3  1.878483\n",
              "3     10  table-0791-274   4  1.839919\n",
              "4     10  table-0984-275   5  1.810009\n",
              "...   ..             ...  ..       ...\n",
              "2334   9  table-1243-885  45 -0.332105\n",
              "2335   9  table-0786-423  46 -0.366088\n",
              "2336   9  table-0123-459  47 -0.377968\n",
              "2337   9  table-0848-924  48 -0.386343\n",
              "2338   9  table-0913-744  49 -0.400665\n",
              "\n",
              "[2339 rows x 4 columns]"
            ]
          },
          "metadata": {},
          "execution_count": 3
        }
      ]
    },
    {
      "cell_type": "code",
      "metadata": {
        "id": "LR-BHQ-KqjVK"
      },
      "source": [
        "#check if two table have exactly same order\n",
        "for i in range(len(qrel.table_id)):\n",
        "  if qrel.table_id[i] != rank[2][i]:\n",
        "    print(i)"
      ],
      "execution_count": null,
      "outputs": []
    },
    {
      "cell_type": "code",
      "metadata": {
        "colab": {
          "base_uri": "https://localhost:8080/",
          "height": 419
        },
        "id": "xSx9LAfjrhYm",
        "outputId": "410107fc-10c1-495b-accf-b8cc9d78174b"
      },
      "source": [
        "#merge prediction into qrel\n",
        "qrel['prediction'] = rank[4]\n",
        "qrel"
      ],
      "execution_count": null,
      "outputs": [
        {
          "output_type": "execute_result",
          "data": {
            "text/html": [
              "<div>\n",
              "<style scoped>\n",
              "    .dataframe tbody tr th:only-of-type {\n",
              "        vertical-align: middle;\n",
              "    }\n",
              "\n",
              "    .dataframe tbody tr th {\n",
              "        vertical-align: top;\n",
              "    }\n",
              "\n",
              "    .dataframe thead th {\n",
              "        text-align: right;\n",
              "    }\n",
              "</style>\n",
              "<table border=\"1\" class=\"dataframe\">\n",
              "  <thead>\n",
              "    <tr style=\"text-align: right;\">\n",
              "      <th></th>\n",
              "      <th>query_id</th>\n",
              "      <th>table_id</th>\n",
              "      <th>true_label</th>\n",
              "      <th>prediction</th>\n",
              "    </tr>\n",
              "  </thead>\n",
              "  <tbody>\n",
              "    <tr>\n",
              "      <th>0</th>\n",
              "      <td>10</td>\n",
              "      <td>table-1384-649</td>\n",
              "      <td>2</td>\n",
              "      <td>2.000417</td>\n",
              "    </tr>\n",
              "    <tr>\n",
              "      <th>1</th>\n",
              "      <td>10</td>\n",
              "      <td>table-1091-421</td>\n",
              "      <td>1</td>\n",
              "      <td>1.964987</td>\n",
              "    </tr>\n",
              "    <tr>\n",
              "      <th>2</th>\n",
              "      <td>10</td>\n",
              "      <td>table-0152-596</td>\n",
              "      <td>2</td>\n",
              "      <td>1.878483</td>\n",
              "    </tr>\n",
              "    <tr>\n",
              "      <th>3</th>\n",
              "      <td>10</td>\n",
              "      <td>table-0791-274</td>\n",
              "      <td>0</td>\n",
              "      <td>1.839919</td>\n",
              "    </tr>\n",
              "    <tr>\n",
              "      <th>4</th>\n",
              "      <td>10</td>\n",
              "      <td>table-0984-275</td>\n",
              "      <td>0</td>\n",
              "      <td>1.810009</td>\n",
              "    </tr>\n",
              "    <tr>\n",
              "      <th>...</th>\n",
              "      <td>...</td>\n",
              "      <td>...</td>\n",
              "      <td>...</td>\n",
              "      <td>...</td>\n",
              "    </tr>\n",
              "    <tr>\n",
              "      <th>2334</th>\n",
              "      <td>9</td>\n",
              "      <td>table-1243-885</td>\n",
              "      <td>0</td>\n",
              "      <td>-0.332105</td>\n",
              "    </tr>\n",
              "    <tr>\n",
              "      <th>2335</th>\n",
              "      <td>9</td>\n",
              "      <td>table-0786-423</td>\n",
              "      <td>0</td>\n",
              "      <td>-0.366088</td>\n",
              "    </tr>\n",
              "    <tr>\n",
              "      <th>2336</th>\n",
              "      <td>9</td>\n",
              "      <td>table-0123-459</td>\n",
              "      <td>0</td>\n",
              "      <td>-0.377968</td>\n",
              "    </tr>\n",
              "    <tr>\n",
              "      <th>2337</th>\n",
              "      <td>9</td>\n",
              "      <td>table-0848-924</td>\n",
              "      <td>0</td>\n",
              "      <td>-0.386343</td>\n",
              "    </tr>\n",
              "    <tr>\n",
              "      <th>2338</th>\n",
              "      <td>9</td>\n",
              "      <td>table-0913-744</td>\n",
              "      <td>0</td>\n",
              "      <td>-0.400665</td>\n",
              "    </tr>\n",
              "  </tbody>\n",
              "</table>\n",
              "<p>2339 rows × 4 columns</p>\n",
              "</div>"
            ],
            "text/plain": [
              "      query_id        table_id  true_label  prediction\n",
              "0           10  table-1384-649           2    2.000417\n",
              "1           10  table-1091-421           1    1.964987\n",
              "2           10  table-0152-596           2    1.878483\n",
              "3           10  table-0791-274           0    1.839919\n",
              "4           10  table-0984-275           0    1.810009\n",
              "...        ...             ...         ...         ...\n",
              "2334         9  table-1243-885           0   -0.332105\n",
              "2335         9  table-0786-423           0   -0.366088\n",
              "2336         9  table-0123-459           0   -0.377968\n",
              "2337         9  table-0848-924           0   -0.386343\n",
              "2338         9  table-0913-744           0   -0.400665\n",
              "\n",
              "[2339 rows x 4 columns]"
            ]
          },
          "metadata": {},
          "execution_count": 5
        }
      ]
    },
    {
      "cell_type": "code",
      "metadata": {
        "id": "NhKlqS-ttgG3"
      },
      "source": [
        "#load wikitables\n",
        "import json\n",
        " \n",
        "# Opening JSON file\n",
        "f = open('GTR/data/wikitables/tables.json',)\n",
        " \n",
        "# returns JSON object as\n",
        "# a dictionary\n",
        "tables = json.load(f)"
      ],
      "execution_count": null,
      "outputs": []
    },
    {
      "cell_type": "code",
      "metadata": {
        "colab": {
          "base_uri": "https://localhost:8080/"
        },
        "id": "IcMYIkLw0py8",
        "outputId": "4739240c-4d52-4859-ba0e-ec81f4fb2fb6"
      },
      "source": [
        "#load all quries\n",
        "queries_table = pd.read_csv('GTR/data/wikitables/queries.txt', sep=\"\\t\", header=None)\n",
        "queries = {}\n",
        "for entry in queries_table[0]:\n",
        "  empty_ind = entry.find(\" \")\n",
        "  queries[int(entry[:empty_ind])] = entry[empty_ind + 1:]\n",
        "queries"
      ],
      "execution_count": null,
      "outputs": [
        {
          "output_type": "execute_result",
          "data": {
            "text/plain": [
              "{1: 'world interest rates table',\n",
              " 2: '2008 beijing olympics',\n",
              " 3: 'fast cars',\n",
              " 4: 'clothing sizes',\n",
              " 5: 'phases of the moon',\n",
              " 6: 'usa population by state',\n",
              " 7: 'prime ministers of england',\n",
              " 8: 'ipod models',\n",
              " 9: 'bittorrent clients',\n",
              " 10: 'olympus digital slrs',\n",
              " 11: 'composition of the sun',\n",
              " 13: 'fuel consumption',\n",
              " 14: 'stock quote tables',\n",
              " 15: 'top grossing movies',\n",
              " 16: 'nutrition values',\n",
              " 17: 'state capitals and largest cities in us',\n",
              " 18: 'professional wrestlers',\n",
              " 19: 'company income statements',\n",
              " 20: 'dog breeds',\n",
              " 21: 'ibanez guitars',\n",
              " 22: 'used cellphones',\n",
              " 23: 'world religions',\n",
              " 24: 'stocks',\n",
              " 25: 'academy awards',\n",
              " 26: '2008 olympic gold medal winners',\n",
              " 27: 'currencies of different countries',\n",
              " 28: 'science discoveries',\n",
              " 29: 'pga leaderboard',\n",
              " 30: 'pain medications',\n",
              " 31: 'football clubs city',\n",
              " 32: 'healthy food cost',\n",
              " 33: 'capitals attractions',\n",
              " 34: 'diseases mortality',\n",
              " 35: 'cigarette brands market share',\n",
              " 36: 'apples market share',\n",
              " 37: 'healthy food nutritional value',\n",
              " 38: 'hormones effects',\n",
              " 39: 'household chemicals strength',\n",
              " 40: 'lakes altitude',\n",
              " 41: 'laptops cpu',\n",
              " 42: 'asian countries currency',\n",
              " 43: 'diseases risks',\n",
              " 44: 'external drives capacity',\n",
              " 45: 'baseball teams captain',\n",
              " 46: 'maryland counties population',\n",
              " 47: 'countries capital',\n",
              " 48: 'diseases incidence',\n",
              " 49: 'eu countries year joined',\n",
              " 50: 'irish counties area',\n",
              " 51: 'cereals nutritional value',\n",
              " 54: 'broadway musicals director',\n",
              " 55: 'infections treatment',\n",
              " 56: 'food type',\n",
              " 57: 'board games number of players',\n",
              " 58: 'google products reviews',\n",
              " 59: 'constellations closest constellation',\n",
              " 60: 'games age'}"
            ]
          },
          "metadata": {},
          "execution_count": 8
        }
      ]
    },
    {
      "cell_type": "code",
      "metadata": {
        "colab": {
          "base_uri": "https://localhost:8080/"
        },
        "id": "ZPjjuBp114Io",
        "outputId": "c49189e4-1664-4a63-fa92-c4cd49848a30"
      },
      "source": [
        "# load exist quries in the table\n",
        "exist_queries = sorted(qrel['query_id'].unique())\n",
        "for i in exist_queries:\n",
        "  print(i, queries[i])"
      ],
      "execution_count": null,
      "outputs": [
        {
          "output_type": "stream",
          "name": "stdout",
          "text": [
            "2 2008 beijing olympics\n",
            "3 fast cars\n",
            "5 phases of the moon\n",
            "7 prime ministers of england\n",
            "8 ipod models\n",
            "9 bittorrent clients\n",
            "10 olympus digital slrs\n",
            "11 composition of the sun\n",
            "13 fuel consumption\n",
            "16 nutrition values\n",
            "17 state capitals and largest cities in us\n",
            "18 professional wrestlers\n",
            "19 company income statements\n",
            "20 dog breeds\n",
            "21 ibanez guitars\n",
            "22 used cellphones\n",
            "23 world religions\n",
            "24 stocks\n",
            "25 academy awards\n",
            "26 2008 olympic gold medal winners\n",
            "27 currencies of different countries\n",
            "28 science discoveries\n",
            "30 pain medications\n",
            "31 football clubs city\n",
            "34 diseases mortality\n",
            "35 cigarette brands market share\n",
            "37 healthy food nutritional value\n",
            "38 hormones effects\n",
            "39 household chemicals strength\n",
            "40 lakes altitude\n",
            "41 laptops cpu\n",
            "42 asian countries currency\n",
            "43 diseases risks\n",
            "44 external drives capacity\n",
            "45 baseball teams captain\n",
            "46 maryland counties population\n",
            "48 diseases incidence\n",
            "50 irish counties area\n",
            "51 cereals nutritional value\n",
            "54 broadway musicals director\n",
            "55 infections treatment\n",
            "56 food type\n",
            "57 board games number of players\n",
            "58 google products reviews\n",
            "60 games age\n"
          ]
        }
      ]
    },
    {
      "cell_type": "code",
      "metadata": {
        "id": "8X6ct5n30jR5",
        "colab": {
          "base_uri": "https://localhost:8080/",
          "height": 1000
        },
        "outputId": "89763f05-ecae-405e-c5ed-ac396cb75af7"
      },
      "source": [
        "# plot moving average of the true labels of the ranked list\n",
        "# a desired plot should be monotonically decreasing\n",
        "# aim to check if certain query perform poorly\n",
        "for qid in exist_queries:\n",
        "  print(qid, queries[qid])\n",
        "  label_list = np.array(qrel[qrel['query_id'] == qid].true_label)\n",
        "  k = 5\n",
        "  ma_list = []\n",
        "  i_list = []\n",
        "  for i in range(len(label_list) - k):\n",
        "    i_list.append(i)\n",
        "    ma_list.append(label_list[i:i+k].mean())\n",
        "  plt.plot(i_list, ma_list)\n",
        "  plt.show()"
      ],
      "execution_count": null,
      "outputs": [
        {
          "output_type": "stream",
          "name": "stdout",
          "text": [
            "2 2008 beijing olympics\n"
          ]
        },
        {
          "output_type": "display_data",
          "data": {
            "image/png": "[encoded data removed]",
            "text/plain": [
              "<Figure size 432x288 with 1 Axes>"
            ]
          },
          "metadata": {
            "needs_background": "light"
          }
        },
        {
          "output_type": "stream",
          "name": "stdout",
          "text": [
            "3 fast cars\n"
          ]
        },
        {
          "output_type": "display_data",
          "data": {
            "image/png": "[encoded data removed]",
            "text/plain": [
              "<Figure size 432x288 with 1 Axes>"
            ]
          },
          "metadata": {
            "needs_background": "light"
          }
        },
        {
          "output_type": "stream",
          "name": "stdout",
          "text": [
            "5 phases of the moon\n"
          ]
        },
        {
          "output_type": "display_data",
          "data": {
            "image/png": "[encoded data removed]",
            "text/plain": [
              "<Figure size 432x288 with 1 Axes>"
            ]
          },
          "metadata": {
            "needs_background": "light"
          }
        },
        {
          "output_type": "stream",
          "name": "stdout",
          "text": [
            "7 prime ministers of england\n"
          ]
        },
        {
          "output_type": "display_data",
          "data": {
            "image/png": "[encoded data removed]",
            "text/plain": [
              "<Figure size 432x288 with 1 Axes>"
            ]
          },
          "metadata": {
            "needs_background": "light"
          }
        },
        {
          "output_type": "stream",
          "name": "stdout",
          "text": [
            "8 ipod models\n"
          ]
        },
        {
          "output_type": "display_data",
          "data": {
            "image/png": "[encoded data removed]",
            "text/plain": [
              "<Figure size 432x288 with 1 Axes>"
            ]
          },
          "metadata": {
            "needs_background": "light"
          }
        },
        {
          "output_type": "stream",
          "name": "stdout",
          "text": [
            "9 bittorrent clients\n"
          ]
        },
        {
          "output_type": "display_data",
          "data": {
            "image/png": "[encoded data removed]",
            "text/plain": [
              "<Figure size 432x288 with 1 Axes>"
            ]
          },
          "metadata": {
            "needs_background": "light"
          }
        },
        {
          "output_type": "stream",
          "name": "stdout",
          "text": [
            "10 olympus digital slrs\n"
          ]
        },
        {
          "output_type": "display_data",
          "data": {
            "image/png": "[encoded data removed]",
            "text/plain": [
              "<Figure size 432x288 with 1 Axes>"
            ]
          },
          "metadata": {
            "needs_background": "light"
          }
        },
        {
          "output_type": "stream",
          "name": "stdout",
          "text": [
            "11 composition of the sun\n"
          ]
        },
        {
          "output_type": "display_data",
          "data": {
            "image/png": "[encoded data removed]",
            "text/plain": [
              "<Figure size 432x288 with 1 Axes>"
            ]
          },
          "metadata": {
            "needs_background": "light"
          }
        },
        {
          "output_type": "stream",
          "name": "stdout",
          "text": [
            "13 fuel consumption\n"
          ]
        },
        {
          "output_type": "display_data",
          "data": {
            "image/png": "[encoded data removed]",
            "text/plain": [
              "<Figure size 432x288 with 1 Axes>"
            ]
          },
          "metadata": {
            "needs_background": "light"
          }
        },
        {
          "output_type": "stream",
          "name": "stdout",
          "text": [
            "16 nutrition values\n"
          ]
        },
        {
          "output_type": "display_data",
          "data": {
            "image/png": "[encoded data removed]",
            "text/plain": [
              "<Figure size 432x288 with 1 Axes>"
            ]
          },
          "metadata": {
            "needs_background": "light"
          }
        },
        {
          "output_type": "stream",
          "name": "stdout",
          "text": [
            "17 state capitals and largest cities in us\n"
          ]
        },
        {
          "output_type": "display_data",
          "data": {
            "image/png": "[encoded data removed]",
            "text/plain": [
              "<Figure size 432x288 with 1 Axes>"
            ]
          },
          "metadata": {
            "needs_background": "light"
          }
        },
        {
          "output_type": "stream",
          "name": "stdout",
          "text": [
            "18 professional wrestlers\n"
          ]
        },
        {
          "output_type": "display_data",
          "data": {
            "image/png": "[encoded data removed]",
            "text/plain": [
              "<Figure size 432x288 with 1 Axes>"
            ]
          },
          "metadata": {
            "needs_background": "light"
          }
        },
        {
          "output_type": "stream",
          "name": "stdout",
          "text": [
            "19 company income statements\n"
          ]
        },
        {
          "output_type": "display_data",
          "data": {
            "image/png": "[encoded data removed]",
            "text/plain": [
              "<Figure size 432x288 with 1 Axes>"
            ]
          },
          "metadata": {
            "needs_background": "light"
          }
        },
        {
          "output_type": "stream",
          "name": "stdout",
          "text": [
            "20 dog breeds\n"
          ]
        },
        {
          "output_type": "display_data",
          "data": {
            "image/png": "[encoded data removed]",
            "text/plain": [
              "<Figure size 432x288 with 1 Axes>"
            ]
          },
          "metadata": {
            "needs_background": "light"
          }
        },
        {
          "output_type": "stream",
          "name": "stdout",
          "text": [
            "21 ibanez guitars\n"
          ]
        },
        {
          "output_type": "display_data",
          "data": {
            "image/png": "[encoded data removed]",
            "text/plain": [
              "<Figure size 432x288 with 1 Axes>"
            ]
          },
          "metadata": {
            "needs_background": "light"
          }
        },
        {
          "output_type": "stream",
          "name": "stdout",
          "text": [
            "22 used cellphones\n"
          ]
        },
        {
          "output_type": "display_data",
          "data": {
            "image/png": "[encoded data removed]",
            "text/plain": [
              "<Figure size 432x288 with 1 Axes>"
            ]
          },
          "metadata": {
            "needs_background": "light"
          }
        },
        {
          "output_type": "stream",
          "name": "stdout",
          "text": [
            "23 world religions\n"
          ]
        },
        {
          "output_type": "display_data",
          "data": {
            "image/png": "[encoded data removed]",
            "text/plain": [
              "<Figure size 432x288 with 1 Axes>"
            ]
          },
          "metadata": {
            "needs_background": "light"
          }
        },
        {
          "output_type": "stream",
          "name": "stdout",
          "text": [
            "24 stocks\n"
          ]
        },
        {
          "output_type": "display_data",
          "data": {
            "image/png": "[encoded data removed]",
            "text/plain": [
              "<Figure size 432x288 with 1 Axes>"
            ]
          },
          "metadata": {
            "needs_background": "light"
          }
        },
        {
          "output_type": "stream",
          "name": "stdout",
          "text": [
            "25 academy awards\n"
          ]
        },
        {
          "output_type": "display_data",
          "data": {
            "image/png": "[encoded data removed]",
            "text/plain": [
              "<Figure size 432x288 with 1 Axes>"
            ]
          },
          "metadata": {
            "needs_background": "light"
          }
        },
        {
          "output_type": "stream",
          "name": "stdout",
          "text": [
            "26 2008 olympic gold medal winners\n"
          ]
        },
        {
          "output_type": "display_data",
          "data": {
            "image/png": "[encoded data removed]",
            "text/plain": [
              "<Figure size 432x288 with 1 Axes>"
            ]
          },
          "metadata": {
            "needs_background": "light"
          }
        },
        {
          "output_type": "stream",
          "name": "stdout",
          "text": [
            "27 currencies of different countries\n"
          ]
        },
        {
          "output_type": "display_data",
          "data": {
            "image/png": "[encoded data removed]",
            "text/plain": [
              "<Figure size 432x288 with 1 Axes>"
            ]
          },
          "metadata": {
            "needs_background": "light"
          }
        },
        {
          "output_type": "stream",
          "name": "stdout",
          "text": [
            "28 science discoveries\n"
          ]
        },
        {
          "output_type": "display_data",
          "data": {
            "image/png": "[encoded data removed]",
            "text/plain": [
              "<Figure size 432x288 with 1 Axes>"
            ]
          },
          "metadata": {
            "needs_background": "light"
          }
        },
        {
          "output_type": "stream",
          "name": "stdout",
          "text": [
            "30 pain medications\n"
          ]
        },
        {
          "output_type": "display_data",
          "data": {
            "image/png": "[encoded data removed]",
            "text/plain": [
              "<Figure size 432x288 with 1 Axes>"
            ]
          },
          "metadata": {
            "needs_background": "light"
          }
        },
        {
          "output_type": "stream",
          "name": "stdout",
          "text": [
            "31 football clubs city\n"
          ]
        },
        {
          "output_type": "display_data",
          "data": {
            "image/png": "[encoded data removed]",
            "text/plain": [
              "<Figure size 432x288 with 1 Axes>"
            ]
          },
          "metadata": {
            "needs_background": "light"
          }
        },
        {
          "output_type": "stream",
          "name": "stdout",
          "text": [
            "34 diseases mortality\n"
          ]
        },
        {
          "output_type": "display_data",
          "data": {
            "image/png": "[encoded data removed]",
            "text/plain": [
              "<Figure size 432x288 with 1 Axes>"
            ]
          },
          "metadata": {
            "needs_background": "light"
          }
        },
        {
          "output_type": "stream",
          "name": "stdout",
          "text": [
            "35 cigarette brands market share\n"
          ]
        },
        {
          "output_type": "display_data",
          "data": {
            "image/png": "[encoded data removed]",
            "text/plain": [
              "<Figure size 432x288 with 1 Axes>"
            ]
          },
          "metadata": {
            "needs_background": "light"
          }
        },
        {
          "output_type": "stream",
          "name": "stdout",
          "text": [
            "37 healthy food nutritional value\n"
          ]
        },
        {
          "output_type": "display_data",
          "data": {
            "image/png": "[encoded data removed]",
            "text/plain": [
              "<Figure size 432x288 with 1 Axes>"
            ]
          },
          "metadata": {
            "needs_background": "light"
          }
        },
        {
          "output_type": "stream",
          "name": "stdout",
          "text": [
            "38 hormones effects\n"
          ]
        },
        {
          "output_type": "display_data",
          "data": {
            "image/png": "[encoded data removed]",
            "text/plain": [
              "<Figure size 432x288 with 1 Axes>"
            ]
          },
          "metadata": {
            "needs_background": "light"
          }
        },
        {
          "output_type": "stream",
          "name": "stdout",
          "text": [
            "39 household chemicals strength\n"
          ]
        },
        {
          "output_type": "display_data",
          "data": {
            "image/png": "[encoded data removed]",
            "text/plain": [
              "<Figure size 432x288 with 1 Axes>"
            ]
          },
          "metadata": {
            "needs_background": "light"
          }
        },
        {
          "output_type": "stream",
          "name": "stdout",
          "text": [
            "40 lakes altitude\n"
          ]
        },
        {
          "output_type": "display_data",
          "data": {
            "image/png": "[encoded data removed]",
            "text/plain": [
              "<Figure size 432x288 with 1 Axes>"
            ]
          },
          "metadata": {
            "needs_background": "light"
          }
        },
        {
          "output_type": "stream",
          "name": "stdout",
          "text": [
            "41 laptops cpu\n"
          ]
        },
        {
          "output_type": "display_data",
          "data": {
            "image/png": "[encoded data removed]",
            "text/plain": [
              "<Figure size 432x288 with 1 Axes>"
            ]
          },
          "metadata": {
            "needs_background": "light"
          }
        },
        {
          "output_type": "stream",
          "name": "stdout",
          "text": [
            "42 asian countries currency\n"
          ]
        },
        {
          "output_type": "display_data",
          "data": {
            "image/png": "[encoded data removed]",
            "text/plain": [
              "<Figure size 432x288 with 1 Axes>"
            ]
          },
          "metadata": {
            "needs_background": "light"
          }
        },
        {
          "output_type": "stream",
          "name": "stdout",
          "text": [
            "43 diseases risks\n"
          ]
        },
        {
          "output_type": "display_data",
          "data": {
            "image/png": "[encoded data removed]",
            "text/plain": [
              "<Figure size 432x288 with 1 Axes>"
            ]
          },
          "metadata": {
            "needs_background": "light"
          }
        },
        {
          "output_type": "stream",
          "name": "stdout",
          "text": [
            "44 external drives capacity\n"
          ]
        },
        {
          "output_type": "display_data",
          "data": {
            "image/png": "[encoded data removed]",
            "text/plain": [
              "<Figure size 432x288 with 1 Axes>"
            ]
          },
          "metadata": {
            "needs_background": "light"
          }
        },
        {
          "output_type": "stream",
          "name": "stdout",
          "text": [
            "45 baseball teams captain\n"
          ]
        },
        {
          "output_type": "display_data",
          "data": {
            "image/png": "[encoded data removed]",
            "text/plain": [
              "<Figure size 432x288 with 1 Axes>"
            ]
          },
          "metadata": {
            "needs_background": "light"
          }
        },
        {
          "output_type": "stream",
          "name": "stdout",
          "text": [
            "46 maryland counties population\n"
          ]
        },
        {
          "output_type": "display_data",
          "data": {
            "image/png": "[encoded data removed]",
            "text/plain": [
              "<Figure size 432x288 with 1 Axes>"
            ]
          },
          "metadata": {
            "needs_background": "light"
          }
        },
        {
          "output_type": "stream",
          "name": "stdout",
          "text": [
            "48 diseases incidence\n"
          ]
        },
        {
          "output_type": "display_data",
          "data": {
            "image/png": "[encoded data removed]",
            "text/plain": [
              "<Figure size 432x288 with 1 Axes>"
            ]
          },
          "metadata": {
            "needs_background": "light"
          }
        },
        {
          "output_type": "stream",
          "name": "stdout",
          "text": [
            "50 irish counties area\n"
          ]
        },
        {
          "output_type": "display_data",
          "data": {
            "image/png": "[encoded data removed]",
            "text/plain": [
              "<Figure size 432x288 with 1 Axes>"
            ]
          },
          "metadata": {
            "needs_background": "light"
          }
        },
        {
          "output_type": "stream",
          "name": "stdout",
          "text": [
            "51 cereals nutritional value\n"
          ]
        },
        {
          "output_type": "display_data",
          "data": {
            "image/png": "[encoded data removed]",
            "text/plain": [
              "<Figure size 432x288 with 1 Axes>"
            ]
          },
          "metadata": {
            "needs_background": "light"
          }
        },
        {
          "output_type": "stream",
          "name": "stdout",
          "text": [
            "54 broadway musicals director\n"
          ]
        },
        {
          "output_type": "display_data",
          "data": {
            "image/png": "[encoded data removed]",
            "text/plain": [
              "<Figure size 432x288 with 1 Axes>"
            ]
          },
          "metadata": {
            "needs_background": "light"
          }
        },
        {
          "output_type": "stream",
          "name": "stdout",
          "text": [
            "55 infections treatment\n"
          ]
        },
        {
          "output_type": "display_data",
          "data": {
            "image/png": "[encoded data removed]",
            "text/plain": [
              "<Figure size 432x288 with 1 Axes>"
            ]
          },
          "metadata": {
            "needs_background": "light"
          }
        },
        {
          "output_type": "stream",
          "name": "stdout",
          "text": [
            "56 food type\n"
          ]
        },
        {
          "output_type": "display_data",
          "data": {
            "image/png": "[encoded data removed]",
            "text/plain": [
              "<Figure size 432x288 with 1 Axes>"
            ]
          },
          "metadata": {
            "needs_background": "light"
          }
        },
        {
          "output_type": "stream",
          "name": "stdout",
          "text": [
            "57 board games number of players\n"
          ]
        },
        {
          "output_type": "display_data",
          "data": {
            "image/png": "[encoded data removed]",
            "text/plain": [
              "<Figure size 432x288 with 1 Axes>"
            ]
          },
          "metadata": {
            "needs_background": "light"
          }
        },
        {
          "output_type": "stream",
          "name": "stdout",
          "text": [
            "58 google products reviews\n"
          ]
        },
        {
          "output_type": "display_data",
          "data": {
            "image/png": "[encoded data removed]",
            "text/plain": [
              "<Figure size 432x288 with 1 Axes>"
            ]
          },
          "metadata": {
            "needs_background": "light"
          }
        },
        {
          "output_type": "stream",
          "name": "stdout",
          "text": [
            "60 games age\n"
          ]
        },
        {
          "output_type": "display_data",
          "data": {
            "image/png": "[encoded data removed]",
            "text/plain": [
              "<Figure size 432x288 with 1 Axes>"
            ]
          },
          "metadata": {
            "needs_background": "light"
          }
        }
      ]
    },
    {
      "cell_type": "code",
      "metadata": {
        "colab": {
          "base_uri": "https://localhost:8080/"
        },
        "id": "j5GabQSEJNBc",
        "outputId": "e67f0871-b8ed-4b2b-9cc0-da5c407d9a40"
      },
      "source": [
        "# For each query, say there are n labeled 2 tables\n",
        "# Top k means the percatage of these n labels are ranked in top k * n \n",
        "\n",
        "top1_index = []\n",
        "test_result = {}\n",
        "for qid in exist_queries:\n",
        "  query_df = qrel[qrel['query_id'] == qid]\n",
        "  label_list = np.array(qrel[qrel['query_id'] == qid].true_label)\n",
        "  total_2 = sum(query_df.true_label == 2)\n",
        "  top1_index += list(query_df.index[:total_2])\n",
        "  if total_2 == 0:\n",
        "    continue\n",
        "  else:\n",
        "    print(qid, queries[qid])\n",
        "    top1_2 = 100* sum(label_list[:total_2] == 2)/total_2\n",
        "    top2_2 = 100* sum(label_list[:total_2*2] == 2)/total_2\n",
        "    top5_2 = 100* sum(label_list[:total_2*5] == 2)/total_2\n",
        "    print(\"Total: \", total_2 ,\"Top1: \", \"{:.2f}%\".format(top1_2) ,\"Top2:\", \"{:.2f}%\".format(top2_2) ,\"Top5: \", \"{:.2f}%\".format(top5_2))\n",
        "    test_result[qid] = (total_2, top1_2, top2_2, top5_2)"
      ],
      "execution_count": 253,
      "outputs": [
        {
          "output_type": "stream",
          "name": "stdout",
          "text": [
            "2 2008 beijing olympics\n",
            "Total:  4 Top1:  50.00% Top2: 75.00% Top5:  75.00%\n",
            "3 fast cars\n",
            "Total:  2 Top1:  0.00% Top2: 0.00% Top5:  0.00%\n",
            "5 phases of the moon\n",
            "Total:  2 Top1:  50.00% Top2: 50.00% Top5:  100.00%\n",
            "7 prime ministers of england\n",
            "Total:  1 Top1:  100.00% Top2: 100.00% Top5:  100.00%\n",
            "8 ipod models\n",
            "Total:  2 Top1:  50.00% Top2: 50.00% Top5:  100.00%\n",
            "9 bittorrent clients\n",
            "Total:  5 Top1:  80.00% Top2: 100.00% Top5:  100.00%\n",
            "10 olympus digital slrs\n",
            "Total:  5 Top1:  40.00% Top2: 80.00% Top5:  100.00%\n",
            "11 composition of the sun\n",
            "Total:  1 Top1:  0.00% Top2: 100.00% Top5:  100.00%\n",
            "13 fuel consumption\n",
            "Total:  12 Top1:  75.00% Top2: 100.00% Top5:  100.00%\n",
            "16 nutrition values\n",
            "Total:  10 Top1:  80.00% Top2: 100.00% Top5:  100.00%\n",
            "17 state capitals and largest cities in us\n",
            "Total:  11 Top1:  90.91% Top2: 100.00% Top5:  100.00%\n",
            "18 professional wrestlers\n",
            "Total:  30 Top1:  90.00% Top2: 100.00% Top5:  100.00%\n",
            "19 company income statements\n",
            "Total:  5 Top1:  60.00% Top2: 100.00% Top5:  100.00%\n",
            "20 dog breeds\n",
            "Total:  23 Top1:  91.30% Top2: 100.00% Top5:  100.00%\n",
            "21 ibanez guitars\n",
            "Total:  1 Top1:  0.00% Top2: 100.00% Top5:  100.00%\n",
            "23 world religions\n",
            "Total:  5 Top1:  100.00% Top2: 100.00% Top5:  100.00%\n",
            "24 stocks\n",
            "Total:  1 Top1:  100.00% Top2: 100.00% Top5:  100.00%\n",
            "25 academy awards\n",
            "Total:  26 Top1:  84.62% Top2: 100.00% Top5:  100.00%\n",
            "26 2008 olympic gold medal winners\n",
            "Total:  1 Top1:  0.00% Top2: 100.00% Top5:  100.00%\n",
            "27 currencies of different countries\n",
            "Total:  4 Top1:  100.00% Top2: 100.00% Top5:  100.00%\n",
            "28 science discoveries\n",
            "Total:  10 Top1:  50.00% Top2: 90.00% Top5:  100.00%\n",
            "31 football clubs city\n",
            "Total:  29 Top1:  65.52% Top2: 100.00% Top5:  100.00%\n",
            "34 diseases mortality\n",
            "Total:  1 Top1:  100.00% Top2: 100.00% Top5:  100.00%\n",
            "35 cigarette brands market share\n",
            "Total:  1 Top1:  100.00% Top2: 100.00% Top5:  100.00%\n",
            "37 healthy food nutritional value\n",
            "Total:  8 Top1:  62.50% Top2: 87.50% Top5:  100.00%\n",
            "38 hormones effects\n",
            "Total:  4 Top1:  75.00% Top2: 75.00% Top5:  100.00%\n",
            "40 lakes altitude\n",
            "Total:  4 Top1:  75.00% Top2: 100.00% Top5:  100.00%\n",
            "41 laptops cpu\n",
            "Total:  12 Top1:  66.67% Top2: 75.00% Top5:  100.00%\n",
            "42 asian countries currency\n",
            "Total:  2 Top1:  50.00% Top2: 100.00% Top5:  100.00%\n",
            "44 external drives capacity\n",
            "Total:  1 Top1:  100.00% Top2: 100.00% Top5:  100.00%\n",
            "46 maryland counties population\n",
            "Total:  3 Top1:  100.00% Top2: 100.00% Top5:  100.00%\n",
            "48 diseases incidence\n",
            "Total:  6 Top1:  66.67% Top2: 100.00% Top5:  100.00%\n",
            "50 irish counties area\n",
            "Total:  3 Top1:  66.67% Top2: 100.00% Top5:  100.00%\n",
            "51 cereals nutritional value\n",
            "Total:  1 Top1:  0.00% Top2: 0.00% Top5:  100.00%\n",
            "55 infections treatment\n",
            "Total:  3 Top1:  0.00% Top2: 33.33% Top5:  66.67%\n",
            "56 food type\n",
            "Total:  10 Top1:  80.00% Top2: 100.00% Top5:  100.00%\n",
            "60 games age\n",
            "Total:  8 Top1:  37.50% Top2: 75.00% Top5:  100.00%\n"
          ]
        }
      ]
    },
    {
      "cell_type": "code",
      "metadata": {
        "colab": {
          "base_uri": "https://localhost:8080/"
        },
        "id": "1pCRUvW6Xd5P",
        "outputId": "878888c6-6c34-4943-d5a1-8360ded5bba1"
      },
      "source": [
        "for k,v in sorted(test_result.items(), key=lambda item: item[1][2]):\n",
        "  print(k, queries[k], v)"
      ],
      "execution_count": null,
      "outputs": [
        {
          "output_type": "stream",
          "name": "stdout",
          "text": [
            "3 fast cars (2, 0.0, 0.0, 0.0)\n",
            "51 cereals nutritional value (1, 0.0, 0.0, 100.0)\n",
            "55 infections treatment (3, 0.0, 33.333333333333336, 66.66666666666667)\n",
            "5 phases of the moon (2, 50.0, 50.0, 100.0)\n",
            "8 ipod models (2, 50.0, 50.0, 100.0)\n",
            "2 2008 beijing olympics (4, 50.0, 75.0, 75.0)\n",
            "38 hormones effects (4, 75.0, 75.0, 100.0)\n",
            "41 laptops cpu (12, 66.66666666666667, 75.0, 100.0)\n",
            "60 games age (8, 37.5, 75.0, 100.0)\n",
            "10 olympus digital slrs (5, 40.0, 80.0, 100.0)\n",
            "37 healthy food nutritional value (8, 62.5, 87.5, 100.0)\n",
            "28 science discoveries (10, 50.0, 90.0, 100.0)\n",
            "7 prime ministers of england (1, 100.0, 100.0, 100.0)\n",
            "9 bittorrent clients (5, 80.0, 100.0, 100.0)\n",
            "11 composition of the sun (1, 0.0, 100.0, 100.0)\n",
            "13 fuel consumption (12, 75.0, 100.0, 100.0)\n",
            "16 nutrition values (10, 80.0, 100.0, 100.0)\n",
            "17 state capitals and largest cities in us (11, 90.9090909090909, 100.0, 100.0)\n",
            "18 professional wrestlers (30, 90.0, 100.0, 100.0)\n",
            "19 company income statements (5, 60.0, 100.0, 100.0)\n",
            "20 dog breeds (23, 91.30434782608695, 100.0, 100.0)\n",
            "21 ibanez guitars (1, 0.0, 100.0, 100.0)\n",
            "23 world religions (5, 100.0, 100.0, 100.0)\n",
            "24 stocks (1, 100.0, 100.0, 100.0)\n",
            "25 academy awards (26, 84.61538461538461, 100.0, 100.0)\n",
            "26 2008 olympic gold medal winners (1, 0.0, 100.0, 100.0)\n",
            "27 currencies of different countries (4, 100.0, 100.0, 100.0)\n",
            "31 football clubs city (29, 65.51724137931035, 100.0, 100.0)\n",
            "34 diseases mortality (1, 100.0, 100.0, 100.0)\n",
            "35 cigarette brands market share (1, 100.0, 100.0, 100.0)\n",
            "40 lakes altitude (4, 75.0, 100.0, 100.0)\n",
            "42 asian countries currency (2, 50.0, 100.0, 100.0)\n",
            "44 external drives capacity (1, 100.0, 100.0, 100.0)\n",
            "46 maryland counties population (3, 100.0, 100.0, 100.0)\n",
            "48 diseases incidence (6, 66.66666666666667, 100.0, 100.0)\n",
            "50 irish counties area (3, 66.66666666666667, 100.0, 100.0)\n",
            "56 food type (10, 80.0, 100.0, 100.0)\n"
          ]
        }
      ]
    },
    {
      "cell_type": "code",
      "metadata": {
        "id": "aduSctsPPFrW"
      },
      "source": [
        "#test if table size matter\n",
        "\n",
        "def get_table_size(table_id):\n",
        "  data = tables[table_id]['data']\n",
        "  if len(data) == 0:\n",
        "    return 0\n",
        "  return len(data) * len(data[0])\n",
        "\n",
        "qrel['table_size'] = qrel.table_id.apply(get_table_size)"
      ],
      "execution_count": null,
      "outputs": []
    },
    {
      "cell_type": "code",
      "metadata": {
        "colab": {
          "base_uri": "https://localhost:8080/"
        },
        "id": "rRBPLc98Svpi",
        "outputId": "39f923f0-91e6-44ad-cf6b-48b0de5a3e47"
      },
      "source": [
        "qrel['table_size'].corr(qrel['prediction'])"
      ],
      "execution_count": null,
      "outputs": [
        {
          "output_type": "execute_result",
          "data": {
            "text/plain": [
              "0.06971397155553104"
            ]
          },
          "metadata": {},
          "execution_count": 154
        }
      ]
    },
    {
      "cell_type": "code",
      "metadata": {
        "id": "sfr8RuNZVqnX"
      },
      "source": [
        "top_rank_df = qrel.iloc[top1_index].copy()"
      ],
      "execution_count": null,
      "outputs": []
    },
    {
      "cell_type": "code",
      "metadata": {
        "colab": {
          "base_uri": "https://localhost:8080/"
        },
        "id": "9eLjXsZ5Svrv",
        "outputId": "2e4914cb-dfd9-4a57-ae1e-85ab50442dac"
      },
      "source": [
        "top_rank_df.shape"
      ],
      "execution_count": null,
      "outputs": [
        {
          "output_type": "execute_result",
          "data": {
            "text/plain": [
              "(257, 5)"
            ]
          },
          "metadata": {},
          "execution_count": 156
        }
      ]
    },
    {
      "cell_type": "code",
      "metadata": {
        "colab": {
          "base_uri": "https://localhost:8080/"
        },
        "id": "Xfug6mmjSvui",
        "outputId": "0d3f9efe-97fe-4b9b-dff1-0f808ad6f248"
      },
      "source": [
        "top_rank_df.table_size.mean()"
      ],
      "execution_count": null,
      "outputs": [
        {
          "output_type": "execute_result",
          "data": {
            "text/plain": [
              "116.23735408560312"
            ]
          },
          "metadata": {},
          "execution_count": 159
        }
      ]
    },
    {
      "cell_type": "code",
      "metadata": {
        "colab": {
          "base_uri": "https://localhost:8080/"
        },
        "id": "RFGApV4mWBy3",
        "outputId": "8ffbf44f-a2f3-4fd8-c4a2-b312b1fab961"
      },
      "source": [
        "top_rank_df.table_size.std()"
      ],
      "execution_count": null,
      "outputs": [
        {
          "output_type": "execute_result",
          "data": {
            "text/plain": [
              "341.1660526403849"
            ]
          },
          "metadata": {},
          "execution_count": 160
        }
      ]
    },
    {
      "cell_type": "code",
      "metadata": {
        "colab": {
          "base_uri": "https://localhost:8080/"
        },
        "id": "75oRLt11Vm9c",
        "outputId": "2437f5e9-5660-4686-a630-a100fe18c17b"
      },
      "source": [
        "top_rank_df[top_rank_df.true_label == 2].table_size.mean()"
      ],
      "execution_count": null,
      "outputs": [
        {
          "output_type": "execute_result",
          "data": {
            "text/plain": [
              "127.08510638297872"
            ]
          },
          "metadata": {},
          "execution_count": 161
        }
      ]
    },
    {
      "cell_type": "code",
      "metadata": {
        "colab": {
          "base_uri": "https://localhost:8080/"
        },
        "id": "Brsd-2s3VnAD",
        "outputId": "7a6e0013-f5c3-4df3-a1d6-c221ffc02beb"
      },
      "source": [
        "top_rank_df[top_rank_df.true_label != 2].table_size.mean()"
      ],
      "execution_count": null,
      "outputs": [
        {
          "output_type": "execute_result",
          "data": {
            "text/plain": [
              "86.68115942028986"
            ]
          },
          "metadata": {},
          "execution_count": 162
        }
      ]
    },
    {
      "cell_type": "code",
      "metadata": {
        "id": "xtTaeFdHjXID"
      },
      "source": [
        "label_list = []\n",
        "percentage_list = []\n",
        "step = len(top_rank_df.table_size)//10\n",
        "for i in range(0, len(top_rank_df.table_size) - step, step):\n",
        "  temp_df = top_rank_df[top_rank_df.table_size.between(sorted(top_rank_df.table_size)[i], sorted(top_rank_df.table_size)[i+step], inclusive=True)].copy()\n",
        "  percentage_list.append(len(temp_df[temp_df.true_label == 2])/len(temp_df))\n",
        "  label_list.append(\"[\" + str(sorted(top_rank_df.table_size)[i]) + \",\" + str(sorted(top_rank_df.table_size)[i+step]) + \"]\")\n"
      ],
      "execution_count": 262,
      "outputs": []
    },
    {
      "cell_type": "code",
      "metadata": {
        "colab": {
          "base_uri": "https://localhost:8080/",
          "height": 351
        },
        "id": "bbFvyf-JHfyN",
        "outputId": "57338e12-0249-4d6b-8164-689abb1c39ff"
      },
      "source": [
        " pd.DataFrame({'table size range':label_list, 'Correct rate':percentage_list}).plot.bar(x='table size range', y='Correct rate', rot=0, figsize=(10, 5))"
      ],
      "execution_count": 264,
      "outputs": [
        {
          "output_type": "execute_result",
          "data": {
            "text/plain": [
              "<matplotlib.axes._subplots.AxesSubplot at 0x7f5b654a2d10>"
            ]
          },
          "metadata": {},
          "execution_count": 264
        },
        {
          "output_type": "display_data",
          "data": {
            "image/png": "[encoded data removed]",
            "text/plain": [
              "<Figure size 720x360 with 1 Axes>"
            ]
          },
          "metadata": {
            "needs_background": "light"
          }
        }
      ]
    },
    {
      "cell_type": "code",
      "metadata": {
        "colab": {
          "base_uri": "https://localhost:8080/"
        },
        "id": "K9RhQTndZSjo",
        "outputId": "8dbe8e8c-f5dd-4456-b244-c17fe0e49a1d"
      },
      "source": [
        "qrel.table_size.describe()"
      ],
      "execution_count": null,
      "outputs": [
        {
          "output_type": "execute_result",
          "data": {
            "text/plain": [
              "count    2339.000000\n",
              "mean       71.096622\n",
              "std       176.827196\n",
              "min         0.000000\n",
              "25%        12.000000\n",
              "50%        30.000000\n",
              "75%        66.000000\n",
              "max      4860.000000\n",
              "Name: table_size, dtype: float64"
            ]
          },
          "metadata": {},
          "execution_count": 169
        }
      ]
    },
    {
      "cell_type": "code",
      "metadata": {
        "colab": {
          "base_uri": "https://localhost:8080/"
        },
        "id": "ORTpv0hdaIPh",
        "outputId": "0fd990cc-d190-4934-dc30-0e6de7e3ea67"
      },
      "source": [
        "qrel[qrel['table_size'] < 12].prediction.mean()"
      ],
      "execution_count": null,
      "outputs": [
        {
          "output_type": "execute_result",
          "data": {
            "text/plain": [
              "0.1769500890161514"
            ]
          },
          "metadata": {},
          "execution_count": 177
        }
      ]
    },
    {
      "cell_type": "code",
      "metadata": {
        "colab": {
          "base_uri": "https://localhost:8080/"
        },
        "id": "ZMlrRFY_aQY7",
        "outputId": "5d47bfb0-9ec3-4ea4-bd94-bd7cbd344c0e"
      },
      "source": [
        "qrel[qrel['table_size'] > 66].prediction.mean()"
      ],
      "execution_count": null,
      "outputs": [
        {
          "output_type": "execute_result",
          "data": {
            "text/plain": [
              "0.3272215555695152"
            ]
          },
          "metadata": {},
          "execution_count": 180
        }
      ]
    },
    {
      "cell_type": "code",
      "metadata": {
        "id": "b6VTzMmZalGe"
      },
      "source": [
        "small_tables = qrel[qrel['table_size'] < 12].copy()\n",
        "large_tables = qrel[qrel['table_size'] > 66].copy()"
      ],
      "execution_count": 278,
      "outputs": []
    },
    {
      "cell_type": "code",
      "metadata": {
        "colab": {
          "base_uri": "https://localhost:8080/"
        },
        "id": "Vj3AHLRga9rR",
        "outputId": "8373eb11-c2fc-4853-e855-5f7ee334e163"
      },
      "source": [
        "sum((small_tables.prediction > qrel[qrel.true_label == 2].prediction.mean()) & (small_tables.true_label == 2))/sum(small_tables.prediction > qrel[qrel.true_label == 2].prediction.mean())"
      ],
      "execution_count": 280,
      "outputs": [
        {
          "output_type": "execute_result",
          "data": {
            "text/plain": [
              "0.6428571428571429"
            ]
          },
          "metadata": {},
          "execution_count": 280
        }
      ]
    },
    {
      "cell_type": "code",
      "metadata": {
        "id": "HdbQwmQO5Vm0",
        "colab": {
          "base_uri": "https://localhost:8080/"
        },
        "outputId": "cc786912-8dc8-4f28-adfc-32b726a5ca5e"
      },
      "source": [
        "sum((large_tables.prediction > qrel[qrel.true_label == 2].prediction.mean()) & (large_tables.true_label == 2))/sum(large_tables.prediction > qrel[qrel.true_label == 2].prediction.mean())"
      ],
      "execution_count": 281,
      "outputs": [
        {
          "output_type": "execute_result",
          "data": {
            "text/plain": [
              "0.7671232876712328"
            ]
          },
          "metadata": {},
          "execution_count": 281
        }
      ]
    },
    {
      "cell_type": "code",
      "metadata": {
        "id": "fZ6n2Cyp5WFo"
      },
      "source": [
        ""
      ],
      "execution_count": null,
      "outputs": []
    },
    {
      "cell_type": "code",
      "metadata": {
        "colab": {
          "base_uri": "https://localhost:8080/",
          "height": 35
        },
        "id": "aSxDJ7u_5WH_",
        "outputId": "8b80123d-e3b4-4c9f-b2ee-ffd6cb03077f"
      },
      "source": [
        "queries[55]"
      ],
      "execution_count": 251,
      "outputs": [
        {
          "output_type": "execute_result",
          "data": {
            "application/vnd.google.colaboratory.intrinsic+json": {
              "type": "string"
            },
            "text/plain": [
              "'infections treatment'"
            ]
          },
          "metadata": {},
          "execution_count": 251
        }
      ]
    },
    {
      "cell_type": "code",
      "metadata": {
        "colab": {
          "base_uri": "https://localhost:8080/",
          "height": 1000
        },
        "id": "B70o9ghMzMHC",
        "outputId": "75460b42-f589-431f-f203-aa7a65847da0"
      },
      "source": [
        "pd.set_option('display.max_rows', 70)\n",
        "qrel[qrel['query_id'] == 3]"
      ],
      "execution_count": null,
      "outputs": [
        {
          "output_type": "execute_result",
          "data": {
            "text/html": [
              "<div>\n",
              "<style scoped>\n",
              "    .dataframe tbody tr th:only-of-type {\n",
              "        vertical-align: middle;\n",
              "    }\n",
              "\n",
              "    .dataframe tbody tr th {\n",
              "        vertical-align: top;\n",
              "    }\n",
              "\n",
              "    .dataframe thead th {\n",
              "        text-align: right;\n",
              "    }\n",
              "</style>\n",
              "<table border=\"1\" class=\"dataframe\">\n",
              "  <thead>\n",
              "    <tr style=\"text-align: right;\">\n",
              "      <th></th>\n",
              "      <th>query_id</th>\n",
              "      <th>table_id</th>\n",
              "      <th>true_label</th>\n",
              "      <th>prediction</th>\n",
              "    </tr>\n",
              "  </thead>\n",
              "  <tbody>\n",
              "    <tr>\n",
              "      <th>868</th>\n",
              "      <td>3</td>\n",
              "      <td>table-0005-921</td>\n",
              "      <td>1</td>\n",
              "      <td>1.350577</td>\n",
              "    </tr>\n",
              "    <tr>\n",
              "      <th>869</th>\n",
              "      <td>3</td>\n",
              "      <td>table-0005-925</td>\n",
              "      <td>1</td>\n",
              "      <td>1.348216</td>\n",
              "    </tr>\n",
              "    <tr>\n",
              "      <th>870</th>\n",
              "      <td>3</td>\n",
              "      <td>table-0005-926</td>\n",
              "      <td>1</td>\n",
              "      <td>1.331284</td>\n",
              "    </tr>\n",
              "    <tr>\n",
              "      <th>871</th>\n",
              "      <td>3</td>\n",
              "      <td>table-0005-922</td>\n",
              "      <td>1</td>\n",
              "      <td>1.307944</td>\n",
              "    </tr>\n",
              "    <tr>\n",
              "      <th>872</th>\n",
              "      <td>3</td>\n",
              "      <td>table-0005-924</td>\n",
              "      <td>1</td>\n",
              "      <td>1.305246</td>\n",
              "    </tr>\n",
              "    <tr>\n",
              "      <th>873</th>\n",
              "      <td>3</td>\n",
              "      <td>table-0005-923</td>\n",
              "      <td>1</td>\n",
              "      <td>1.298694</td>\n",
              "    </tr>\n",
              "    <tr>\n",
              "      <th>874</th>\n",
              "      <td>3</td>\n",
              "      <td>table-0005-927</td>\n",
              "      <td>1</td>\n",
              "      <td>1.178200</td>\n",
              "    </tr>\n",
              "    <tr>\n",
              "      <th>875</th>\n",
              "      <td>3</td>\n",
              "      <td>table-0100-834</td>\n",
              "      <td>0</td>\n",
              "      <td>0.773467</td>\n",
              "    </tr>\n",
              "    <tr>\n",
              "      <th>876</th>\n",
              "      <td>3</td>\n",
              "      <td>table-0990-862</td>\n",
              "      <td>1</td>\n",
              "      <td>0.652950</td>\n",
              "    </tr>\n",
              "    <tr>\n",
              "      <th>877</th>\n",
              "      <td>3</td>\n",
              "      <td>table-0564-300</td>\n",
              "      <td>0</td>\n",
              "      <td>0.627473</td>\n",
              "    </tr>\n",
              "    <tr>\n",
              "      <th>878</th>\n",
              "      <td>3</td>\n",
              "      <td>table-1275-187</td>\n",
              "      <td>2</td>\n",
              "      <td>0.543875</td>\n",
              "    </tr>\n",
              "    <tr>\n",
              "      <th>879</th>\n",
              "      <td>3</td>\n",
              "      <td>table-1435-370</td>\n",
              "      <td>0</td>\n",
              "      <td>0.521703</td>\n",
              "    </tr>\n",
              "    <tr>\n",
              "      <th>880</th>\n",
              "      <td>3</td>\n",
              "      <td>table-0483-357</td>\n",
              "      <td>1</td>\n",
              "      <td>0.504835</td>\n",
              "    </tr>\n",
              "    <tr>\n",
              "      <th>881</th>\n",
              "      <td>3</td>\n",
              "      <td>table-0100-833</td>\n",
              "      <td>0</td>\n",
              "      <td>0.479309</td>\n",
              "    </tr>\n",
              "    <tr>\n",
              "      <th>882</th>\n",
              "      <td>3</td>\n",
              "      <td>table-0007-837</td>\n",
              "      <td>0</td>\n",
              "      <td>0.477071</td>\n",
              "    </tr>\n",
              "    <tr>\n",
              "      <th>883</th>\n",
              "      <td>3</td>\n",
              "      <td>table-0312-107</td>\n",
              "      <td>0</td>\n",
              "      <td>0.459561</td>\n",
              "    </tr>\n",
              "    <tr>\n",
              "      <th>884</th>\n",
              "      <td>3</td>\n",
              "      <td>table-1245-277</td>\n",
              "      <td>0</td>\n",
              "      <td>0.446138</td>\n",
              "    </tr>\n",
              "    <tr>\n",
              "      <th>885</th>\n",
              "      <td>3</td>\n",
              "      <td>table-0100-835</td>\n",
              "      <td>0</td>\n",
              "      <td>0.439742</td>\n",
              "    </tr>\n",
              "    <tr>\n",
              "      <th>886</th>\n",
              "      <td>3</td>\n",
              "      <td>table-1245-278</td>\n",
              "      <td>0</td>\n",
              "      <td>0.436678</td>\n",
              "    </tr>\n",
              "    <tr>\n",
              "      <th>887</th>\n",
              "      <td>3</td>\n",
              "      <td>table-1254-979</td>\n",
              "      <td>2</td>\n",
              "      <td>0.431995</td>\n",
              "    </tr>\n",
              "    <tr>\n",
              "      <th>888</th>\n",
              "      <td>3</td>\n",
              "      <td>table-0909-908</td>\n",
              "      <td>0</td>\n",
              "      <td>0.356437</td>\n",
              "    </tr>\n",
              "    <tr>\n",
              "      <th>889</th>\n",
              "      <td>3</td>\n",
              "      <td>table-0009-475</td>\n",
              "      <td>1</td>\n",
              "      <td>0.346849</td>\n",
              "    </tr>\n",
              "    <tr>\n",
              "      <th>890</th>\n",
              "      <td>3</td>\n",
              "      <td>table-0187-658</td>\n",
              "      <td>0</td>\n",
              "      <td>0.314112</td>\n",
              "    </tr>\n",
              "    <tr>\n",
              "      <th>891</th>\n",
              "      <td>3</td>\n",
              "      <td>table-0258-207</td>\n",
              "      <td>1</td>\n",
              "      <td>0.291958</td>\n",
              "    </tr>\n",
              "    <tr>\n",
              "      <th>892</th>\n",
              "      <td>3</td>\n",
              "      <td>table-0327-490</td>\n",
              "      <td>0</td>\n",
              "      <td>0.234194</td>\n",
              "    </tr>\n",
              "    <tr>\n",
              "      <th>893</th>\n",
              "      <td>3</td>\n",
              "      <td>table-1492-789</td>\n",
              "      <td>0</td>\n",
              "      <td>0.194525</td>\n",
              "    </tr>\n",
              "    <tr>\n",
              "      <th>894</th>\n",
              "      <td>3</td>\n",
              "      <td>table-0928-773</td>\n",
              "      <td>0</td>\n",
              "      <td>0.172998</td>\n",
              "    </tr>\n",
              "    <tr>\n",
              "      <th>895</th>\n",
              "      <td>3</td>\n",
              "      <td>table-1284-743</td>\n",
              "      <td>0</td>\n",
              "      <td>0.160339</td>\n",
              "    </tr>\n",
              "    <tr>\n",
              "      <th>896</th>\n",
              "      <td>3</td>\n",
              "      <td>table-1438-931</td>\n",
              "      <td>0</td>\n",
              "      <td>0.059783</td>\n",
              "    </tr>\n",
              "    <tr>\n",
              "      <th>897</th>\n",
              "      <td>3</td>\n",
              "      <td>table-1137-280</td>\n",
              "      <td>0</td>\n",
              "      <td>0.042009</td>\n",
              "    </tr>\n",
              "    <tr>\n",
              "      <th>898</th>\n",
              "      <td>3</td>\n",
              "      <td>table-0523-299</td>\n",
              "      <td>0</td>\n",
              "      <td>0.006707</td>\n",
              "    </tr>\n",
              "    <tr>\n",
              "      <th>899</th>\n",
              "      <td>3</td>\n",
              "      <td>table-0264-280</td>\n",
              "      <td>0</td>\n",
              "      <td>-0.063297</td>\n",
              "    </tr>\n",
              "    <tr>\n",
              "      <th>900</th>\n",
              "      <td>3</td>\n",
              "      <td>table-1546-808</td>\n",
              "      <td>0</td>\n",
              "      <td>-0.066346</td>\n",
              "    </tr>\n",
              "    <tr>\n",
              "      <th>901</th>\n",
              "      <td>3</td>\n",
              "      <td>table-0168-817</td>\n",
              "      <td>0</td>\n",
              "      <td>-0.069876</td>\n",
              "    </tr>\n",
              "    <tr>\n",
              "      <th>902</th>\n",
              "      <td>3</td>\n",
              "      <td>table-1209-300</td>\n",
              "      <td>0</td>\n",
              "      <td>-0.103945</td>\n",
              "    </tr>\n",
              "    <tr>\n",
              "      <th>903</th>\n",
              "      <td>3</td>\n",
              "      <td>table-0282-248</td>\n",
              "      <td>0</td>\n",
              "      <td>-0.136061</td>\n",
              "    </tr>\n",
              "    <tr>\n",
              "      <th>904</th>\n",
              "      <td>3</td>\n",
              "      <td>table-1061-706</td>\n",
              "      <td>0</td>\n",
              "      <td>-0.146808</td>\n",
              "    </tr>\n",
              "    <tr>\n",
              "      <th>905</th>\n",
              "      <td>3</td>\n",
              "      <td>table-0257-866</td>\n",
              "      <td>0</td>\n",
              "      <td>-0.150411</td>\n",
              "    </tr>\n",
              "    <tr>\n",
              "      <th>906</th>\n",
              "      <td>3</td>\n",
              "      <td>table-1060-869</td>\n",
              "      <td>0</td>\n",
              "      <td>-0.181077</td>\n",
              "    </tr>\n",
              "    <tr>\n",
              "      <th>907</th>\n",
              "      <td>3</td>\n",
              "      <td>table-0287-961</td>\n",
              "      <td>0</td>\n",
              "      <td>-0.187107</td>\n",
              "    </tr>\n",
              "    <tr>\n",
              "      <th>908</th>\n",
              "      <td>3</td>\n",
              "      <td>table-0676-796</td>\n",
              "      <td>0</td>\n",
              "      <td>-0.194284</td>\n",
              "    </tr>\n",
              "    <tr>\n",
              "      <th>909</th>\n",
              "      <td>3</td>\n",
              "      <td>table-1616-460</td>\n",
              "      <td>0</td>\n",
              "      <td>-0.210328</td>\n",
              "    </tr>\n",
              "    <tr>\n",
              "      <th>910</th>\n",
              "      <td>3</td>\n",
              "      <td>table-0016-438</td>\n",
              "      <td>0</td>\n",
              "      <td>-0.214721</td>\n",
              "    </tr>\n",
              "    <tr>\n",
              "      <th>911</th>\n",
              "      <td>3</td>\n",
              "      <td>table-0584-496</td>\n",
              "      <td>0</td>\n",
              "      <td>-0.241486</td>\n",
              "    </tr>\n",
              "    <tr>\n",
              "      <th>912</th>\n",
              "      <td>3</td>\n",
              "      <td>table-0110-38</td>\n",
              "      <td>0</td>\n",
              "      <td>-0.350372</td>\n",
              "    </tr>\n",
              "  </tbody>\n",
              "</table>\n",
              "</div>"
            ],
            "text/plain": [
              "     query_id        table_id  true_label  prediction\n",
              "868         3  table-0005-921           1    1.350577\n",
              "869         3  table-0005-925           1    1.348216\n",
              "870         3  table-0005-926           1    1.331284\n",
              "871         3  table-0005-922           1    1.307944\n",
              "872         3  table-0005-924           1    1.305246\n",
              "873         3  table-0005-923           1    1.298694\n",
              "874         3  table-0005-927           1    1.178200\n",
              "875         3  table-0100-834           0    0.773467\n",
              "876         3  table-0990-862           1    0.652950\n",
              "877         3  table-0564-300           0    0.627473\n",
              "878         3  table-1275-187           2    0.543875\n",
              "879         3  table-1435-370           0    0.521703\n",
              "880         3  table-0483-357           1    0.504835\n",
              "881         3  table-0100-833           0    0.479309\n",
              "882         3  table-0007-837           0    0.477071\n",
              "883         3  table-0312-107           0    0.459561\n",
              "884         3  table-1245-277           0    0.446138\n",
              "885         3  table-0100-835           0    0.439742\n",
              "886         3  table-1245-278           0    0.436678\n",
              "887         3  table-1254-979           2    0.431995\n",
              "888         3  table-0909-908           0    0.356437\n",
              "889         3  table-0009-475           1    0.346849\n",
              "890         3  table-0187-658           0    0.314112\n",
              "891         3  table-0258-207           1    0.291958\n",
              "892         3  table-0327-490           0    0.234194\n",
              "893         3  table-1492-789           0    0.194525\n",
              "894         3  table-0928-773           0    0.172998\n",
              "895         3  table-1284-743           0    0.160339\n",
              "896         3  table-1438-931           0    0.059783\n",
              "897         3  table-1137-280           0    0.042009\n",
              "898         3  table-0523-299           0    0.006707\n",
              "899         3  table-0264-280           0   -0.063297\n",
              "900         3  table-1546-808           0   -0.066346\n",
              "901         3  table-0168-817           0   -0.069876\n",
              "902         3  table-1209-300           0   -0.103945\n",
              "903         3  table-0282-248           0   -0.136061\n",
              "904         3  table-1061-706           0   -0.146808\n",
              "905         3  table-0257-866           0   -0.150411\n",
              "906         3  table-1060-869           0   -0.181077\n",
              "907         3  table-0287-961           0   -0.187107\n",
              "908         3  table-0676-796           0   -0.194284\n",
              "909         3  table-1616-460           0   -0.210328\n",
              "910         3  table-0016-438           0   -0.214721\n",
              "911         3  table-0584-496           0   -0.241486\n",
              "912         3   table-0110-38           0   -0.350372"
            ]
          },
          "metadata": {},
          "execution_count": 14
        }
      ]
    },
    {
      "cell_type": "code",
      "metadata": {
        "id": "Lp4cHFynYpm_",
        "colab": {
          "base_uri": "https://localhost:8080/"
        },
        "outputId": "70cf69a7-fa73-40a4-bb38-8f7017aa93d3"
      },
      "source": [
        "tables[\"table-0905-212\"]"
      ],
      "execution_count": null,
      "outputs": [
        {
          "output_type": "execute_result",
          "data": {
            "text/plain": [
              "{'caption': 'Choice of antimicrobials',\n",
              " 'data': [['• Quinolones, 2nd or 3rd generation – Ciprofloxacin (2nd) or Levofloxacin (3rd)'],\n",
              "  ['• Cephalosporins, 3rd or 4th generation – Ceftriaxone (3rd) or Cefepime (4th)'],\n",
              "  ['• Aminoglycosides – Gentamicin or Amikacin'],\n",
              "  ['• ± Amoxicillin or Vancomycin'],\n",
              "  ['• ± Amphotericin B (persistent fever 7 days on Rx)']],\n",
              " 'numCols': 1,\n",
              " 'numDataRows': 5,\n",
              " 'numHeaderRows': 1,\n",
              " 'numericColumns': [],\n",
              " 'pgTitle': 'Treatment of infections after exposure to ionizing radiation',\n",
              " 'secondTitle': 'Choice of antimicrobials',\n",
              " 'table_array': [['Antimicrobial Therapy for Sepsis after Irradiation (Duration 21–28 days)'],\n",
              "  ['• Quinolones, 2nd or 3rd generation – Ciprofloxacin (2nd) or Levofloxacin (3rd)'],\n",
              "  ['• Cephalosporins, 3rd or 4th generation – Ceftriaxone (3rd) or Cefepime (4th)'],\n",
              "  ['• Aminoglycosides – Gentamicin or Amikacin'],\n",
              "  ['• ± Amoxicillin or Vancomycin'],\n",
              "  ['• ± Amphotericin B (persistent fever 7 days on Rx)']],\n",
              " 'title': ['Antimicrobial Therapy for Sepsis after Irradiation (Duration 21–28 days)']}"
            ]
          },
          "metadata": {},
          "execution_count": 20
        }
      ]
    },
    {
      "cell_type": "code",
      "metadata": {
        "colab": {
          "base_uri": "https://localhost:8080/",
          "height": 35
        },
        "id": "ev-rv53Zw55j",
        "outputId": "0748c283-abf1-44da-e95e-8958f6ff9175"
      },
      "source": [
        "queries[3]"
      ],
      "execution_count": null,
      "outputs": [
        {
          "output_type": "execute_result",
          "data": {
            "application/vnd.google.colaboratory.intrinsic+json": {
              "type": "string"
            },
            "text/plain": [
              "'fast cars'"
            ]
          },
          "metadata": {},
          "execution_count": 247
        }
      ]
    },
    {
      "cell_type": "code",
      "metadata": {
        "colab": {
          "base_uri": "https://localhost:8080/",
          "height": 1000
        },
        "id": "89qdv2Sf5wtP",
        "outputId": "8e799131-1e53-4f29-8dd5-348f248a39c1"
      },
      "source": [
        "pd.set_option('display.max_rows', 70)\n",
        "qrel[qrel['query_id'] == 3]"
      ],
      "execution_count": null,
      "outputs": [
        {
          "output_type": "execute_result",
          "data": {
            "text/html": [
              "<div>\n",
              "<style scoped>\n",
              "    .dataframe tbody tr th:only-of-type {\n",
              "        vertical-align: middle;\n",
              "    }\n",
              "\n",
              "    .dataframe tbody tr th {\n",
              "        vertical-align: top;\n",
              "    }\n",
              "\n",
              "    .dataframe thead th {\n",
              "        text-align: right;\n",
              "    }\n",
              "</style>\n",
              "<table border=\"1\" class=\"dataframe\">\n",
              "  <thead>\n",
              "    <tr style=\"text-align: right;\">\n",
              "      <th></th>\n",
              "      <th>query_id</th>\n",
              "      <th>table_id</th>\n",
              "      <th>true_label</th>\n",
              "      <th>prediction</th>\n",
              "      <th>table_size</th>\n",
              "    </tr>\n",
              "  </thead>\n",
              "  <tbody>\n",
              "    <tr>\n",
              "      <th>868</th>\n",
              "      <td>3</td>\n",
              "      <td>table-0005-921</td>\n",
              "      <td>1</td>\n",
              "      <td>1.350577</td>\n",
              "      <td>21</td>\n",
              "    </tr>\n",
              "    <tr>\n",
              "      <th>869</th>\n",
              "      <td>3</td>\n",
              "      <td>table-0005-925</td>\n",
              "      <td>1</td>\n",
              "      <td>1.348216</td>\n",
              "      <td>28</td>\n",
              "    </tr>\n",
              "    <tr>\n",
              "      <th>870</th>\n",
              "      <td>3</td>\n",
              "      <td>table-0005-926</td>\n",
              "      <td>1</td>\n",
              "      <td>1.331284</td>\n",
              "      <td>28</td>\n",
              "    </tr>\n",
              "    <tr>\n",
              "      <th>871</th>\n",
              "      <td>3</td>\n",
              "      <td>table-0005-922</td>\n",
              "      <td>1</td>\n",
              "      <td>1.307944</td>\n",
              "      <td>21</td>\n",
              "    </tr>\n",
              "    <tr>\n",
              "      <th>872</th>\n",
              "      <td>3</td>\n",
              "      <td>table-0005-924</td>\n",
              "      <td>1</td>\n",
              "      <td>1.305246</td>\n",
              "      <td>21</td>\n",
              "    </tr>\n",
              "    <tr>\n",
              "      <th>873</th>\n",
              "      <td>3</td>\n",
              "      <td>table-0005-923</td>\n",
              "      <td>1</td>\n",
              "      <td>1.298694</td>\n",
              "      <td>21</td>\n",
              "    </tr>\n",
              "    <tr>\n",
              "      <th>874</th>\n",
              "      <td>3</td>\n",
              "      <td>table-0005-927</td>\n",
              "      <td>1</td>\n",
              "      <td>1.178200</td>\n",
              "      <td>35</td>\n",
              "    </tr>\n",
              "    <tr>\n",
              "      <th>875</th>\n",
              "      <td>3</td>\n",
              "      <td>table-0100-834</td>\n",
              "      <td>0</td>\n",
              "      <td>0.773467</td>\n",
              "      <td>2</td>\n",
              "    </tr>\n",
              "    <tr>\n",
              "      <th>876</th>\n",
              "      <td>3</td>\n",
              "      <td>table-0990-862</td>\n",
              "      <td>1</td>\n",
              "      <td>0.652950</td>\n",
              "      <td>14</td>\n",
              "    </tr>\n",
              "    <tr>\n",
              "      <th>877</th>\n",
              "      <td>3</td>\n",
              "      <td>table-0564-300</td>\n",
              "      <td>0</td>\n",
              "      <td>0.627473</td>\n",
              "      <td>24</td>\n",
              "    </tr>\n",
              "    <tr>\n",
              "      <th>878</th>\n",
              "      <td>3</td>\n",
              "      <td>table-1275-187</td>\n",
              "      <td>2</td>\n",
              "      <td>0.543875</td>\n",
              "      <td>9</td>\n",
              "    </tr>\n",
              "    <tr>\n",
              "      <th>879</th>\n",
              "      <td>3</td>\n",
              "      <td>table-1435-370</td>\n",
              "      <td>0</td>\n",
              "      <td>0.521703</td>\n",
              "      <td>2</td>\n",
              "    </tr>\n",
              "    <tr>\n",
              "      <th>880</th>\n",
              "      <td>3</td>\n",
              "      <td>table-0483-357</td>\n",
              "      <td>1</td>\n",
              "      <td>0.504835</td>\n",
              "      <td>70</td>\n",
              "    </tr>\n",
              "    <tr>\n",
              "      <th>881</th>\n",
              "      <td>3</td>\n",
              "      <td>table-0100-833</td>\n",
              "      <td>0</td>\n",
              "      <td>0.479309</td>\n",
              "      <td>6</td>\n",
              "    </tr>\n",
              "    <tr>\n",
              "      <th>882</th>\n",
              "      <td>3</td>\n",
              "      <td>table-0007-837</td>\n",
              "      <td>0</td>\n",
              "      <td>0.477071</td>\n",
              "      <td>63</td>\n",
              "    </tr>\n",
              "    <tr>\n",
              "      <th>883</th>\n",
              "      <td>3</td>\n",
              "      <td>table-0312-107</td>\n",
              "      <td>0</td>\n",
              "      <td>0.459561</td>\n",
              "      <td>6</td>\n",
              "    </tr>\n",
              "    <tr>\n",
              "      <th>884</th>\n",
              "      <td>3</td>\n",
              "      <td>table-1245-277</td>\n",
              "      <td>0</td>\n",
              "      <td>0.446138</td>\n",
              "      <td>65</td>\n",
              "    </tr>\n",
              "    <tr>\n",
              "      <th>885</th>\n",
              "      <td>3</td>\n",
              "      <td>table-0100-835</td>\n",
              "      <td>0</td>\n",
              "      <td>0.439742</td>\n",
              "      <td>0</td>\n",
              "    </tr>\n",
              "    <tr>\n",
              "      <th>886</th>\n",
              "      <td>3</td>\n",
              "      <td>table-1245-278</td>\n",
              "      <td>0</td>\n",
              "      <td>0.436678</td>\n",
              "      <td>65</td>\n",
              "    </tr>\n",
              "    <tr>\n",
              "      <th>887</th>\n",
              "      <td>3</td>\n",
              "      <td>table-1254-979</td>\n",
              "      <td>2</td>\n",
              "      <td>0.431995</td>\n",
              "      <td>15</td>\n",
              "    </tr>\n",
              "    <tr>\n",
              "      <th>888</th>\n",
              "      <td>3</td>\n",
              "      <td>table-0909-908</td>\n",
              "      <td>0</td>\n",
              "      <td>0.356437</td>\n",
              "      <td>70</td>\n",
              "    </tr>\n",
              "    <tr>\n",
              "      <th>889</th>\n",
              "      <td>3</td>\n",
              "      <td>table-0009-475</td>\n",
              "      <td>1</td>\n",
              "      <td>0.346849</td>\n",
              "      <td>85</td>\n",
              "    </tr>\n",
              "    <tr>\n",
              "      <th>890</th>\n",
              "      <td>3</td>\n",
              "      <td>table-0187-658</td>\n",
              "      <td>0</td>\n",
              "      <td>0.314112</td>\n",
              "      <td>24</td>\n",
              "    </tr>\n",
              "    <tr>\n",
              "      <th>891</th>\n",
              "      <td>3</td>\n",
              "      <td>table-0258-207</td>\n",
              "      <td>1</td>\n",
              "      <td>0.291958</td>\n",
              "      <td>12</td>\n",
              "    </tr>\n",
              "    <tr>\n",
              "      <th>892</th>\n",
              "      <td>3</td>\n",
              "      <td>table-0327-490</td>\n",
              "      <td>0</td>\n",
              "      <td>0.234194</td>\n",
              "      <td>18</td>\n",
              "    </tr>\n",
              "    <tr>\n",
              "      <th>893</th>\n",
              "      <td>3</td>\n",
              "      <td>table-1492-789</td>\n",
              "      <td>0</td>\n",
              "      <td>0.194525</td>\n",
              "      <td>36</td>\n",
              "    </tr>\n",
              "    <tr>\n",
              "      <th>894</th>\n",
              "      <td>3</td>\n",
              "      <td>table-0928-773</td>\n",
              "      <td>0</td>\n",
              "      <td>0.172998</td>\n",
              "      <td>6</td>\n",
              "    </tr>\n",
              "    <tr>\n",
              "      <th>895</th>\n",
              "      <td>3</td>\n",
              "      <td>table-1284-743</td>\n",
              "      <td>0</td>\n",
              "      <td>0.160339</td>\n",
              "      <td>130</td>\n",
              "    </tr>\n",
              "    <tr>\n",
              "      <th>896</th>\n",
              "      <td>3</td>\n",
              "      <td>table-1438-931</td>\n",
              "      <td>0</td>\n",
              "      <td>0.059783</td>\n",
              "      <td>30</td>\n",
              "    </tr>\n",
              "    <tr>\n",
              "      <th>897</th>\n",
              "      <td>3</td>\n",
              "      <td>table-1137-280</td>\n",
              "      <td>0</td>\n",
              "      <td>0.042009</td>\n",
              "      <td>81</td>\n",
              "    </tr>\n",
              "    <tr>\n",
              "      <th>898</th>\n",
              "      <td>3</td>\n",
              "      <td>table-0523-299</td>\n",
              "      <td>0</td>\n",
              "      <td>0.006707</td>\n",
              "      <td>44</td>\n",
              "    </tr>\n",
              "    <tr>\n",
              "      <th>899</th>\n",
              "      <td>3</td>\n",
              "      <td>table-0264-280</td>\n",
              "      <td>0</td>\n",
              "      <td>-0.063297</td>\n",
              "      <td>100</td>\n",
              "    </tr>\n",
              "    <tr>\n",
              "      <th>900</th>\n",
              "      <td>3</td>\n",
              "      <td>table-1546-808</td>\n",
              "      <td>0</td>\n",
              "      <td>-0.066346</td>\n",
              "      <td>36</td>\n",
              "    </tr>\n",
              "    <tr>\n",
              "      <th>901</th>\n",
              "      <td>3</td>\n",
              "      <td>table-0168-817</td>\n",
              "      <td>0</td>\n",
              "      <td>-0.069876</td>\n",
              "      <td>256</td>\n",
              "    </tr>\n",
              "    <tr>\n",
              "      <th>902</th>\n",
              "      <td>3</td>\n",
              "      <td>table-1209-300</td>\n",
              "      <td>0</td>\n",
              "      <td>-0.103945</td>\n",
              "      <td>72</td>\n",
              "    </tr>\n",
              "    <tr>\n",
              "      <th>903</th>\n",
              "      <td>3</td>\n",
              "      <td>table-0282-248</td>\n",
              "      <td>0</td>\n",
              "      <td>-0.136061</td>\n",
              "      <td>80</td>\n",
              "    </tr>\n",
              "    <tr>\n",
              "      <th>904</th>\n",
              "      <td>3</td>\n",
              "      <td>table-1061-706</td>\n",
              "      <td>0</td>\n",
              "      <td>-0.146808</td>\n",
              "      <td>9</td>\n",
              "    </tr>\n",
              "    <tr>\n",
              "      <th>905</th>\n",
              "      <td>3</td>\n",
              "      <td>table-0257-866</td>\n",
              "      <td>0</td>\n",
              "      <td>-0.150411</td>\n",
              "      <td>42</td>\n",
              "    </tr>\n",
              "    <tr>\n",
              "      <th>906</th>\n",
              "      <td>3</td>\n",
              "      <td>table-1060-869</td>\n",
              "      <td>0</td>\n",
              "      <td>-0.181077</td>\n",
              "      <td>153</td>\n",
              "    </tr>\n",
              "    <tr>\n",
              "      <th>907</th>\n",
              "      <td>3</td>\n",
              "      <td>table-0287-961</td>\n",
              "      <td>0</td>\n",
              "      <td>-0.187107</td>\n",
              "      <td>24</td>\n",
              "    </tr>\n",
              "    <tr>\n",
              "      <th>908</th>\n",
              "      <td>3</td>\n",
              "      <td>table-0676-796</td>\n",
              "      <td>0</td>\n",
              "      <td>-0.194284</td>\n",
              "      <td>1518</td>\n",
              "    </tr>\n",
              "    <tr>\n",
              "      <th>909</th>\n",
              "      <td>3</td>\n",
              "      <td>table-1616-460</td>\n",
              "      <td>0</td>\n",
              "      <td>-0.210328</td>\n",
              "      <td>140</td>\n",
              "    </tr>\n",
              "    <tr>\n",
              "      <th>910</th>\n",
              "      <td>3</td>\n",
              "      <td>table-0016-438</td>\n",
              "      <td>0</td>\n",
              "      <td>-0.214721</td>\n",
              "      <td>64</td>\n",
              "    </tr>\n",
              "    <tr>\n",
              "      <th>911</th>\n",
              "      <td>3</td>\n",
              "      <td>table-0584-496</td>\n",
              "      <td>0</td>\n",
              "      <td>-0.241486</td>\n",
              "      <td>155</td>\n",
              "    </tr>\n",
              "    <tr>\n",
              "      <th>912</th>\n",
              "      <td>3</td>\n",
              "      <td>table-0110-38</td>\n",
              "      <td>0</td>\n",
              "      <td>-0.350372</td>\n",
              "      <td>0</td>\n",
              "    </tr>\n",
              "  </tbody>\n",
              "</table>\n",
              "</div>"
            ],
            "text/plain": [
              "     query_id        table_id  true_label  prediction  table_size\n",
              "868         3  table-0005-921           1    1.350577          21\n",
              "869         3  table-0005-925           1    1.348216          28\n",
              "870         3  table-0005-926           1    1.331284          28\n",
              "871         3  table-0005-922           1    1.307944          21\n",
              "872         3  table-0005-924           1    1.305246          21\n",
              "873         3  table-0005-923           1    1.298694          21\n",
              "874         3  table-0005-927           1    1.178200          35\n",
              "875         3  table-0100-834           0    0.773467           2\n",
              "876         3  table-0990-862           1    0.652950          14\n",
              "877         3  table-0564-300           0    0.627473          24\n",
              "878         3  table-1275-187           2    0.543875           9\n",
              "879         3  table-1435-370           0    0.521703           2\n",
              "880         3  table-0483-357           1    0.504835          70\n",
              "881         3  table-0100-833           0    0.479309           6\n",
              "882         3  table-0007-837           0    0.477071          63\n",
              "883         3  table-0312-107           0    0.459561           6\n",
              "884         3  table-1245-277           0    0.446138          65\n",
              "885         3  table-0100-835           0    0.439742           0\n",
              "886         3  table-1245-278           0    0.436678          65\n",
              "887         3  table-1254-979           2    0.431995          15\n",
              "888         3  table-0909-908           0    0.356437          70\n",
              "889         3  table-0009-475           1    0.346849          85\n",
              "890         3  table-0187-658           0    0.314112          24\n",
              "891         3  table-0258-207           1    0.291958          12\n",
              "892         3  table-0327-490           0    0.234194          18\n",
              "893         3  table-1492-789           0    0.194525          36\n",
              "894         3  table-0928-773           0    0.172998           6\n",
              "895         3  table-1284-743           0    0.160339         130\n",
              "896         3  table-1438-931           0    0.059783          30\n",
              "897         3  table-1137-280           0    0.042009          81\n",
              "898         3  table-0523-299           0    0.006707          44\n",
              "899         3  table-0264-280           0   -0.063297         100\n",
              "900         3  table-1546-808           0   -0.066346          36\n",
              "901         3  table-0168-817           0   -0.069876         256\n",
              "902         3  table-1209-300           0   -0.103945          72\n",
              "903         3  table-0282-248           0   -0.136061          80\n",
              "904         3  table-1061-706           0   -0.146808           9\n",
              "905         3  table-0257-866           0   -0.150411          42\n",
              "906         3  table-1060-869           0   -0.181077         153\n",
              "907         3  table-0287-961           0   -0.187107          24\n",
              "908         3  table-0676-796           0   -0.194284        1518\n",
              "909         3  table-1616-460           0   -0.210328         140\n",
              "910         3  table-0016-438           0   -0.214721          64\n",
              "911         3  table-0584-496           0   -0.241486         155\n",
              "912         3   table-0110-38           0   -0.350372           0"
            ]
          },
          "metadata": {},
          "execution_count": 248
        }
      ]
    },
    {
      "cell_type": "code",
      "metadata": {
        "colab": {
          "base_uri": "https://localhost:8080/"
        },
        "id": "FCdAm8VW504q",
        "outputId": "fc0cac70-c3a7-40c2-c9fa-28d2fc251023"
      },
      "source": [
        "tables['table-0005-921']"
      ],
      "execution_count": null,
      "outputs": [
        {
          "output_type": "execute_result",
          "data": {
            "text/plain": [
              "{'caption': 'Episode 1',\n",
              " 'data': [['1',\n",
              "   '[Laird_Hamilton|Laird Hamilton]',\n",
              "   '148.60mph',\n",
              "   '149.09mph',\n",
              "   '148.27mph',\n",
              "   '1:48:98',\n",
              "   'Advanced to next round'],\n",
              "  ['2',\n",
              "   '[John_Elway|John Elway]',\n",
              "   '146.02mph',\n",
              "   '146.26mph',\n",
              "   '148.64mph',\n",
              "   '1:50:23',\n",
              "   'Advanced to next round'],\n",
              "  ['3',\n",
              "   '[Serena_Williams|Serena Williams]',\n",
              "   '123.65mph',\n",
              "   '129.16mph',\n",
              "   '136.05mph',\n",
              "   '2:05:17',\n",
              "   'Eliminated']],\n",
              " 'numCols': 7,\n",
              " 'numDataRows': 3,\n",
              " 'numHeaderRows': 1,\n",
              " 'numericColumns': [0],\n",
              " 'pgTitle': 'Fast Cars and Superstars: The Gillette Young Guns Celebrity Race',\n",
              " 'secondTitle': 'Episode 1',\n",
              " 'table_array': [['',\n",
              "   'Driver',\n",
              "   'Lap 1',\n",
              "   'Lap 2',\n",
              "   'Lap 3',\n",
              "   'Total Time',\n",
              "   'Result'],\n",
              "  ['1',\n",
              "   '[Laird_Hamilton|Laird Hamilton]',\n",
              "   '148.60mph',\n",
              "   '149.09mph',\n",
              "   '148.27mph',\n",
              "   '1:48:98',\n",
              "   'Advanced to next round'],\n",
              "  ['2',\n",
              "   '[John_Elway|John Elway]',\n",
              "   '146.02mph',\n",
              "   '146.26mph',\n",
              "   '148.64mph',\n",
              "   '1:50:23',\n",
              "   'Advanced to next round'],\n",
              "  ['3',\n",
              "   '[Serena_Williams|Serena Williams]',\n",
              "   '123.65mph',\n",
              "   '129.16mph',\n",
              "   '136.05mph',\n",
              "   '2:05:17',\n",
              "   'Eliminated']],\n",
              " 'title': ['', 'Driver', 'Lap 1', 'Lap 2', 'Lap 3', 'Total Time', 'Result']}"
            ]
          },
          "metadata": {},
          "execution_count": 250
        }
      ]
    },
    {
      "cell_type": "code",
      "metadata": {
        "id": "RE30FbXE54TP"
      },
      "source": [
        ""
      ],
      "execution_count": null,
      "outputs": []
    }
  ]
}